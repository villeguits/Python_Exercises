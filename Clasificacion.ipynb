{
  "cells": [
    {
      "cell_type": "markdown",
      "metadata": {
        "id": "view-in-github",
        "colab_type": "text"
      },
      "source": [
        "<a href=\"https://colab.research.google.com/github/villeguits/Python_Exercises/blob/main/Clasificacion.ipynb\" target=\"_parent\"><img src=\"https://colab.research.google.com/assets/colab-badge.svg\" alt=\"Open In Colab\"/></a>"
      ]
    },
    {
      "cell_type": "code",
      "execution_count": null,
      "id": "c6f03d79",
      "metadata": {
        "id": "c6f03d79"
      },
      "outputs": [],
      "source": [
        "import pandas as pd\n",
        "import numpy as np\n",
        "import matplotlib.pyplot as plt\n",
        "\n",
        "\n",
        "from sklearn.datasets import load_iris\n",
        "\n",
        "# Libreria para árboles de decisión\n",
        "from sklearn.tree import DecisionTreeClassifier, plot_tree\n",
        "\n",
        "#Librería para Random Forest\n",
        "from sklearn.ensemble import RandomForestClassifier\n",
        "\n",
        "# Librería de división de datos\n",
        "from sklearn.model_selection import train_test_split\n",
        "\n",
        "# Metricas\n",
        "from sklearn.metrics import accuracy_score\n",
        "\n",
        "# Estado aleatorio para que de lo mismo\n",
        "np.random.seed(0)"
      ]
    },
    {
      "cell_type": "code",
      "execution_count": null,
      "id": "3d8351e2",
      "metadata": {
        "id": "3d8351e2"
      },
      "outputs": [],
      "source": [
        "data = pd.read_csv('compras.csv')"
      ]
    },
    {
      "cell_type": "code",
      "execution_count": null,
      "id": "63a10bba",
      "metadata": {
        "id": "63a10bba",
        "outputId": "204f8792-79c4-4d85-f562-5c79c44a78cc"
      },
      "outputs": [
        {
          "name": "stdout",
          "output_type": "stream",
          "text": [
            "(30, 4)\n"
          ]
        },
        {
          "data": {
            "text/html": [
              "<div>\n",
              "<style scoped>\n",
              "    .dataframe tbody tr th:only-of-type {\n",
              "        vertical-align: middle;\n",
              "    }\n",
              "\n",
              "    .dataframe tbody tr th {\n",
              "        vertical-align: top;\n",
              "    }\n",
              "\n",
              "    .dataframe thead th {\n",
              "        text-align: right;\n",
              "    }\n",
              "</style>\n",
              "<table border=\"1\" class=\"dataframe\">\n",
              "  <thead>\n",
              "    <tr style=\"text-align: right;\">\n",
              "      <th></th>\n",
              "      <th>vacaciones</th>\n",
              "      <th>descuento</th>\n",
              "      <th>entrega_gratuita</th>\n",
              "      <th>compra</th>\n",
              "    </tr>\n",
              "  </thead>\n",
              "  <tbody>\n",
              "    <tr>\n",
              "      <th>0</th>\n",
              "      <td>no</td>\n",
              "      <td>si</td>\n",
              "      <td>si</td>\n",
              "      <td>si</td>\n",
              "    </tr>\n",
              "    <tr>\n",
              "      <th>1</th>\n",
              "      <td>no</td>\n",
              "      <td>si</td>\n",
              "      <td>si</td>\n",
              "      <td>si</td>\n",
              "    </tr>\n",
              "    <tr>\n",
              "      <th>2</th>\n",
              "      <td>no</td>\n",
              "      <td>no</td>\n",
              "      <td>no</td>\n",
              "      <td>no</td>\n",
              "    </tr>\n",
              "    <tr>\n",
              "      <th>3</th>\n",
              "      <td>si</td>\n",
              "      <td>si</td>\n",
              "      <td>si</td>\n",
              "      <td>si</td>\n",
              "    </tr>\n",
              "    <tr>\n",
              "      <th>4</th>\n",
              "      <td>si</td>\n",
              "      <td>si</td>\n",
              "      <td>si</td>\n",
              "      <td>si</td>\n",
              "    </tr>\n",
              "    <tr>\n",
              "      <th>5</th>\n",
              "      <td>si</td>\n",
              "      <td>no</td>\n",
              "      <td>no</td>\n",
              "      <td>no</td>\n",
              "    </tr>\n",
              "    <tr>\n",
              "      <th>6</th>\n",
              "      <td>si</td>\n",
              "      <td>si</td>\n",
              "      <td>no</td>\n",
              "      <td>si</td>\n",
              "    </tr>\n",
              "    <tr>\n",
              "      <th>7</th>\n",
              "      <td>no</td>\n",
              "      <td>si</td>\n",
              "      <td>si</td>\n",
              "      <td>si</td>\n",
              "    </tr>\n",
              "  </tbody>\n",
              "</table>\n",
              "</div>"
            ],
            "text/plain": [
              "  vacaciones descuento entrega_gratuita compra\n",
              "0         no        si               si     si\n",
              "1         no        si               si     si\n",
              "2         no        no               no     no\n",
              "3         si        si               si     si\n",
              "4         si        si               si     si\n",
              "5         si        no               no     no\n",
              "6         si        si               no     si\n",
              "7         no        si               si     si"
            ]
          },
          "execution_count": 3,
          "metadata": {},
          "output_type": "execute_result"
        }
      ],
      "source": [
        "print(data.shape)\n",
        "data.head(8)"
      ]
    },
    {
      "cell_type": "code",
      "execution_count": null,
      "id": "f12e9265",
      "metadata": {
        "id": "f12e9265"
      },
      "outputs": [],
      "source": [
        "def transformar(x):\n",
        "    if x == 'si':\n",
        "        return 1\n",
        "    return 0\n",
        "\n",
        "for columna in data.columns:\n",
        "    data[columna] = data[columna].apply(transformar)"
      ]
    },
    {
      "cell_type": "code",
      "execution_count": null,
      "id": "5beedf4b",
      "metadata": {
        "id": "5beedf4b"
      },
      "outputs": [],
      "source": [
        "# Columnas entrenamiento\n",
        "cols_entrenamiento = data.columns[:-1]\n",
        "\n",
        "# Columna respuesta\n",
        "col_y = 'compra'"
      ]
    },
    {
      "cell_type": "code",
      "execution_count": null,
      "id": "f829157e",
      "metadata": {
        "id": "f829157e"
      },
      "outputs": [],
      "source": [
        "#X, y = data[cols_entrenamiento], data[col_y]"
      ]
    },
    {
      "cell_type": "code",
      "execution_count": null,
      "id": "28b365d0",
      "metadata": {
        "id": "28b365d0"
      },
      "outputs": [],
      "source": [
        "data_entrenamiento, data_prueba = train_test_split(data)"
      ]
    },
    {
      "cell_type": "code",
      "execution_count": null,
      "id": "b881dba9",
      "metadata": {
        "id": "b881dba9",
        "outputId": "d1611991-ab92-4a26-c882-8372824f8307"
      },
      "outputs": [
        {
          "data": {
            "text/plain": [
              "((22, 4), (8, 4))"
            ]
          },
          "execution_count": 8,
          "metadata": {},
          "output_type": "execute_result"
        }
      ],
      "source": [
        "data_entrenamiento.shape, data_prueba.shape"
      ]
    },
    {
      "cell_type": "code",
      "execution_count": null,
      "id": "347b1b01",
      "metadata": {
        "id": "347b1b01"
      },
      "outputs": [],
      "source": [
        "arbol_decision = DecisionTreeClassifier()"
      ]
    },
    {
      "cell_type": "code",
      "execution_count": null,
      "id": "751f342c",
      "metadata": {
        "id": "751f342c",
        "outputId": "574c48f0-477b-472d-da54-8d6a21bcc752"
      },
      "outputs": [
        {
          "data": {
            "text/html": [
              "<style>#sk-container-id-1 {color: black;background-color: white;}#sk-container-id-1 pre{padding: 0;}#sk-container-id-1 div.sk-toggleable {background-color: white;}#sk-container-id-1 label.sk-toggleable__label {cursor: pointer;display: block;width: 100%;margin-bottom: 0;padding: 0.3em;box-sizing: border-box;text-align: center;}#sk-container-id-1 label.sk-toggleable__label-arrow:before {content: \"▸\";float: left;margin-right: 0.25em;color: #696969;}#sk-container-id-1 label.sk-toggleable__label-arrow:hover:before {color: black;}#sk-container-id-1 div.sk-estimator:hover label.sk-toggleable__label-arrow:before {color: black;}#sk-container-id-1 div.sk-toggleable__content {max-height: 0;max-width: 0;overflow: hidden;text-align: left;background-color: #f0f8ff;}#sk-container-id-1 div.sk-toggleable__content pre {margin: 0.2em;color: black;border-radius: 0.25em;background-color: #f0f8ff;}#sk-container-id-1 input.sk-toggleable__control:checked~div.sk-toggleable__content {max-height: 200px;max-width: 100%;overflow: auto;}#sk-container-id-1 input.sk-toggleable__control:checked~label.sk-toggleable__label-arrow:before {content: \"▾\";}#sk-container-id-1 div.sk-estimator input.sk-toggleable__control:checked~label.sk-toggleable__label {background-color: #d4ebff;}#sk-container-id-1 div.sk-label input.sk-toggleable__control:checked~label.sk-toggleable__label {background-color: #d4ebff;}#sk-container-id-1 input.sk-hidden--visually {border: 0;clip: rect(1px 1px 1px 1px);clip: rect(1px, 1px, 1px, 1px);height: 1px;margin: -1px;overflow: hidden;padding: 0;position: absolute;width: 1px;}#sk-container-id-1 div.sk-estimator {font-family: monospace;background-color: #f0f8ff;border: 1px dotted black;border-radius: 0.25em;box-sizing: border-box;margin-bottom: 0.5em;}#sk-container-id-1 div.sk-estimator:hover {background-color: #d4ebff;}#sk-container-id-1 div.sk-parallel-item::after {content: \"\";width: 100%;border-bottom: 1px solid gray;flex-grow: 1;}#sk-container-id-1 div.sk-label:hover label.sk-toggleable__label {background-color: #d4ebff;}#sk-container-id-1 div.sk-serial::before {content: \"\";position: absolute;border-left: 1px solid gray;box-sizing: border-box;top: 0;bottom: 0;left: 50%;z-index: 0;}#sk-container-id-1 div.sk-serial {display: flex;flex-direction: column;align-items: center;background-color: white;padding-right: 0.2em;padding-left: 0.2em;position: relative;}#sk-container-id-1 div.sk-item {position: relative;z-index: 1;}#sk-container-id-1 div.sk-parallel {display: flex;align-items: stretch;justify-content: center;background-color: white;position: relative;}#sk-container-id-1 div.sk-item::before, #sk-container-id-1 div.sk-parallel-item::before {content: \"\";position: absolute;border-left: 1px solid gray;box-sizing: border-box;top: 0;bottom: 0;left: 50%;z-index: -1;}#sk-container-id-1 div.sk-parallel-item {display: flex;flex-direction: column;z-index: 1;position: relative;background-color: white;}#sk-container-id-1 div.sk-parallel-item:first-child::after {align-self: flex-end;width: 50%;}#sk-container-id-1 div.sk-parallel-item:last-child::after {align-self: flex-start;width: 50%;}#sk-container-id-1 div.sk-parallel-item:only-child::after {width: 0;}#sk-container-id-1 div.sk-dashed-wrapped {border: 1px dashed gray;margin: 0 0.4em 0.5em 0.4em;box-sizing: border-box;padding-bottom: 0.4em;background-color: white;}#sk-container-id-1 div.sk-label label {font-family: monospace;font-weight: bold;display: inline-block;line-height: 1.2em;}#sk-container-id-1 div.sk-label-container {text-align: center;}#sk-container-id-1 div.sk-container {/* jupyter's `normalize.less` sets `[hidden] { display: none; }` but bootstrap.min.css set `[hidden] { display: none !important; }` so we also need the `!important` here to be able to override the default hidden behavior on the sphinx rendered scikit-learn.org. See: https://github.com/scikit-learn/scikit-learn/issues/21755 */display: inline-block !important;position: relative;}#sk-container-id-1 div.sk-text-repr-fallback {display: none;}</style><div id=\"sk-container-id-1\" class=\"sk-top-container\"><div class=\"sk-text-repr-fallback\"><pre>DecisionTreeClassifier()</pre><b>In a Jupyter environment, please rerun this cell to show the HTML representation or trust the notebook. <br />On GitHub, the HTML representation is unable to render, please try loading this page with nbviewer.org.</b></div><div class=\"sk-container\" hidden><div class=\"sk-item\"><div class=\"sk-estimator sk-toggleable\"><input class=\"sk-toggleable__control sk-hidden--visually\" id=\"sk-estimator-id-1\" type=\"checkbox\" checked><label for=\"sk-estimator-id-1\" class=\"sk-toggleable__label sk-toggleable__label-arrow\">DecisionTreeClassifier</label><div class=\"sk-toggleable__content\"><pre>DecisionTreeClassifier()</pre></div></div></div></div></div>"
            ],
            "text/plain": [
              "DecisionTreeClassifier()"
            ]
          },
          "execution_count": 10,
          "metadata": {},
          "output_type": "execute_result"
        }
      ],
      "source": [
        "arbol_decision.fit(data[cols_entrenamiento], data[col_y])"
      ]
    },
    {
      "cell_type": "code",
      "execution_count": null,
      "id": "7f695eae",
      "metadata": {
        "id": "7f695eae",
        "outputId": "2f267bd0-6fa2-444f-c19f-9bd07bbf89f3"
      },
      "outputs": [
        {
          "data": {
            "image/png": "[encoded data removed]",
            "text/plain": [
              "<Figure size 720x576 with 1 Axes>"
            ]
          },
          "metadata": {
            "needs_background": "light"
          },
          "output_type": "display_data"
        }
      ],
      "source": [
        "plt.figure(figsize=(10, 8))\n",
        "plot_tree(arbol_decision, feature_names=data.columns, class_names='compra', rounded=False, filled=True, proportion=False);"
      ]
    },
    {
      "cell_type": "code",
      "execution_count": null,
      "id": "f82a6fba",
      "metadata": {
        "id": "f82a6fba"
      },
      "outputs": [],
      "source": [
        "for columna in data.columns:\n",
        "    print(columna)\n",
        "    print('SI')\n",
        "    data_columna_si = data_entrenamiento[data_entrenamiento['compra'] == 1]\n",
        "    print(data_columna_si[columna].value_counts())\n",
        "    print('NO')\n",
        "    data_columna_si = data_entrenamiento[data_entrenamiento['compra'] == 0]\n",
        "    print(data_columna_si[columna].value_counts())"
      ]
    },
    {
      "cell_type": "code",
      "execution_count": null,
      "id": "66255764",
      "metadata": {
        "id": "66255764"
      },
      "outputs": [],
      "source": [
        "predicciones = arbol_decision.predict(data_prueba[cols_entrenamiento])"
      ]
    },
    {
      "cell_type": "code",
      "execution_count": null,
      "id": "47010025",
      "metadata": {
        "id": "47010025",
        "outputId": "9b8da8d4-753e-491f-842e-def037322bea"
      },
      "outputs": [
        {
          "data": {
            "text/plain": [
              "array([0, 1, 1, 1, 1, 0, 1, 0], dtype=int64)"
            ]
          },
          "execution_count": 15,
          "metadata": {},
          "output_type": "execute_result"
        }
      ],
      "source": [
        "predicciones"
      ]
    },
    {
      "cell_type": "code",
      "execution_count": null,
      "id": "13b6d17a",
      "metadata": {
        "id": "13b6d17a"
      },
      "outputs": [],
      "source": []
    }
  ],
  "metadata": {
    "kernelspec": {
      "display_name": "Python 3 (ipykernel)",
      "language": "python",
      "name": "python3"
    },
    "language_info": {
      "codemirror_mode": {
        "name": "ipython",
        "version": 3
      },
      "file_extension": ".py",
      "mimetype": "text/x-python",
      "name": "python",
      "nbconvert_exporter": "python",
      "pygments_lexer": "ipython3",
      "version": "3.9.12"
    },
    "colab": {
      "provenance": [],
      "include_colab_link": true
    }
  },
  "nbformat": 4,
  "nbformat_minor": 5
}