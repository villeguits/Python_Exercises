{
 "cells": [
  {
   "cell_type": "code",
   "execution_count": 1,
   "id": "9e9c6c96-1bd3-4cff-bb6c-3d1c25ed114e",
   "metadata": {},
   "outputs": [
    {
     "name": "stderr",
     "output_type": "stream",
     "text": [
      "WARNING: Ignoring invalid distribution -atplotlib (c:\\users\\sebas\\anaconda3\\lib\\site-packages)\n",
      "WARNING: Ignoring invalid distribution -atplotlib (c:\\users\\sebas\\anaconda3\\lib\\site-packages)\n"
     ]
    },
    {
     "name": "stdout",
     "output_type": "stream",
     "text": [
      "Requirement already satisfied: powerlaw in c:\\users\\sebas\\anaconda3\\lib\\site-packages (1.5)\n",
      "Requirement already satisfied: scipy in c:\\users\\sebas\\anaconda3\\lib\\site-packages (from powerlaw) (1.14.0)\n",
      "Requirement already satisfied: numpy in c:\\users\\sebas\\anaconda3\\lib\\site-packages (from powerlaw) (1.23.5)\n",
      "Requirement already satisfied: matplotlib in c:\\users\\sebas\\anaconda3\\lib\\site-packages (from powerlaw) (3.10.1)\n",
      "Requirement already satisfied: mpmath in c:\\users\\sebas\\anaconda3\\lib\\site-packages (from powerlaw) (1.3.0)\n",
      "Requirement already satisfied: contourpy>=1.0.1 in c:\\users\\sebas\\anaconda3\\lib\\site-packages (from matplotlib->powerlaw) (1.2.1)\n",
      "Requirement already satisfied: cycler>=0.10 in c:\\users\\sebas\\anaconda3\\lib\\site-packages (from matplotlib->powerlaw) (0.12.1)\n",
      "Requirement already satisfied: fonttools>=4.22.0 in c:\\users\\sebas\\anaconda3\\lib\\site-packages (from matplotlib->powerlaw) (4.53.0)\n",
      "Requirement already satisfied: kiwisolver>=1.3.1 in c:\\users\\sebas\\anaconda3\\lib\\site-packages (from matplotlib->powerlaw) (1.4.5)\n",
      "Requirement already satisfied: packaging>=20.0 in c:\\users\\sebas\\anaconda3\\lib\\site-packages (from matplotlib->powerlaw) (23.2)\n",
      "Requirement already satisfied: pillow>=8 in c:\\users\\sebas\\anaconda3\\lib\\site-packages (from matplotlib->powerlaw) (11.1.0)\n",
      "Requirement already satisfied: pyparsing>=2.3.1 in c:\\users\\sebas\\anaconda3\\lib\\site-packages (from matplotlib->powerlaw) (3.1.2)\n",
      "Requirement already satisfied: python-dateutil>=2.7 in c:\\users\\sebas\\anaconda3\\lib\\site-packages (from matplotlib->powerlaw) (2.9.0.post0)\n",
      "Requirement already satisfied: six>=1.5 in c:\\users\\sebas\\anaconda3\\lib\\site-packages (from python-dateutil>=2.7->matplotlib->powerlaw) (1.16.0)\n"
     ]
    }
   ],
   "source": [
    "! pip install powerlaw"
   ]
  },
  {
   "cell_type": "code",
   "execution_count": 21,
   "id": "35d9db63-f637-42af-b728-11fa9b649474",
   "metadata": {},
   "outputs": [],
   "source": [
    "import pandas as pd\n",
    "import numpy as np\n",
    "\n",
    "import networkx as nx\n",
    "\n",
    "import matplotlib.pyplot as plt\n",
    "\n",
    "import powerlaw # Ley de potencias\n",
    "from collections import Counter # Ayuda a hacer conteos"
   ]
  },
  {
   "cell_type": "code",
   "execution_count": 7,
   "id": "8d230792-8db5-485d-923e-909794334b46",
   "metadata": {},
   "outputs": [],
   "source": [
    "data = pd.read_excel('Ejercicio_Redes.xlsx', dtype = object)"
   ]
  },
  {
   "cell_type": "code",
   "execution_count": 9,
   "id": "c5ab0a86-e9a1-4350-af86-44273d786487",
   "metadata": {
    "scrolled": true
   },
   "outputs": [
    {
     "data": {
      "text/html": [
       "<div>\n",
       "<style scoped>\n",
       "    .dataframe tbody tr th:only-of-type {\n",
       "        vertical-align: middle;\n",
       "    }\n",
       "\n",
       "    .dataframe tbody tr th {\n",
       "        vertical-align: top;\n",
       "    }\n",
       "\n",
       "    .dataframe thead th {\n",
       "        text-align: right;\n",
       "    }\n",
       "</style>\n",
       "<table border=\"1\" class=\"dataframe\">\n",
       "  <thead>\n",
       "    <tr style=\"text-align: right;\">\n",
       "      <th></th>\n",
       "      <th>ID</th>\n",
       "      <th>NOMBRE</th>\n",
       "      <th>TELEFONO</th>\n",
       "      <th>CORREO</th>\n",
       "    </tr>\n",
       "  </thead>\n",
       "  <tbody>\n",
       "    <tr>\n",
       "      <th>0</th>\n",
       "      <td>1</td>\n",
       "      <td>ADAN URIBE</td>\n",
       "      <td>9999171</td>\n",
       "      <td>adan_ur@gmail.com</td>\n",
       "    </tr>\n",
       "    <tr>\n",
       "      <th>1</th>\n",
       "      <td>2</td>\n",
       "      <td>ADRIAN KAUFFMANN CRUZ</td>\n",
       "      <td>9999117</td>\n",
       "      <td>adrian_@outlook.com</td>\n",
       "    </tr>\n",
       "    <tr>\n",
       "      <th>2</th>\n",
       "      <td>3</td>\n",
       "      <td>ALEJANDRO MONTOYA</td>\n",
       "      <td>999970</td>\n",
       "      <td>alejand@outlook.es</td>\n",
       "    </tr>\n",
       "    <tr>\n",
       "      <th>3</th>\n",
       "      <td>4</td>\n",
       "      <td>ALEXANDER AREVALI MUÑOZ</td>\n",
       "      <td>9999137</td>\n",
       "      <td>alexand@gmail.com</td>\n",
       "    </tr>\n",
       "    <tr>\n",
       "      <th>4</th>\n",
       "      <td>4</td>\n",
       "      <td>ALEXANDER AREVALI MUÑOZ</td>\n",
       "      <td>999983</td>\n",
       "      <td>alexand@gmail.com</td>\n",
       "    </tr>\n",
       "  </tbody>\n",
       "</table>\n",
       "</div>"
      ],
      "text/plain": [
       "  ID                   NOMBRE TELEFONO               CORREO\n",
       "0  1               ADAN URIBE  9999171    adan_ur@gmail.com\n",
       "1  2    ADRIAN KAUFFMANN CRUZ  9999117  adrian_@outlook.com\n",
       "2  3        ALEJANDRO MONTOYA   999970   alejand@outlook.es\n",
       "3  4  ALEXANDER AREVALI MUÑOZ  9999137    alexand@gmail.com\n",
       "4  4  ALEXANDER AREVALI MUÑOZ   999983    alexand@gmail.com"
      ]
     },
     "execution_count": 9,
     "metadata": {},
     "output_type": "execute_result"
    }
   ],
   "source": [
    "data.head()"
   ]
  },
  {
   "cell_type": "code",
   "execution_count": 11,
   "id": "6bc2d41b-287f-4643-be48-d893112a64ef",
   "metadata": {},
   "outputs": [],
   "source": [
    "aristas1 = zip(data['NOMBRE'], data['ID'])\n",
    "aristas2 = zip(data['NOMBRE'], data['TELEFONO'])\n",
    "aristas3 = zip(data['NOMBRE'], data['CORREO'])"
   ]
  },
  {
   "cell_type": "code",
   "execution_count": 13,
   "id": "be58fb5c-c929-4cae-b2df-cff62b18b255",
   "metadata": {},
   "outputs": [],
   "source": [
    "G = nx.Graph()\n",
    "\n",
    "G.add_edges_from(aristas1)\n",
    "G.add_edges_from(aristas2)\n",
    "G.add_edges_from(aristas3)"
   ]
  },
  {
   "cell_type": "code",
   "execution_count": 17,
   "id": "06868eb7-8fc8-41cc-b5d2-034090d2618c",
   "metadata": {},
   "outputs": [
    {
     "data": {
      "text/plain": [
       "277"
      ]
     },
     "execution_count": 17,
     "metadata": {},
     "output_type": "execute_result"
    }
   ],
   "source": [
    "# cantidad de nodos\n",
    "G.number_of_nodes()"
   ]
  },
  {
   "cell_type": "code",
   "execution_count": 19,
   "id": "5f6c239f-8a9b-4f31-bcd1-fe4b4e2bf5b9",
   "metadata": {},
   "outputs": [
    {
     "data": {
      "text/plain": [
       "250"
      ]
     },
     "execution_count": 19,
     "metadata": {},
     "output_type": "execute_result"
    }
   ],
   "source": [
    "# Cantidad de aristas\n",
    "G.number_of_edges()"
   ]
  },
  {
   "cell_type": "code",
   "execution_count": 94,
   "id": "dd3bcdc1-efe2-4331-ac7f-92b97fe8b552",
   "metadata": {},
   "outputs": [],
   "source": [
    "componentes = nx.connected_components(G)\n",
    "componentes_ordenadas = sorted(componentes, key = len, reverse = True )"
   ]
  },
  {
   "cell_type": "code",
   "execution_count": 96,
   "id": "717a8fea-278e-46f4-b744-a5fc4eda7c76",
   "metadata": {},
   "outputs": [],
   "source": [
    "H = G.subgraph(componentes_ordenadas[0])"
   ]
  },
  {
   "cell_type": "markdown",
   "id": "4db25763-b090-4ec0-b747-737012465c93",
   "metadata": {},
   "source": [
    "## Ley de potencias"
   ]
  },
  {
   "cell_type": "code",
   "execution_count": 98,
   "id": "e49ade5c-174e-49f4-ad3f-337a0129d193",
   "metadata": {
    "scrolled": true
   },
   "outputs": [
    {
     "data": {
      "text/plain": [
       "[8,\n",
       " 8,\n",
       " 7,\n",
       " 6,\n",
       " 5,\n",
       " 5,\n",
       " 5,\n",
       " 5,\n",
       " 5,\n",
       " 5,\n",
       " 5,\n",
       " 5,\n",
       " 5,\n",
       " 5,\n",
       " 4,\n",
       " 4,\n",
       " 3,\n",
       " 3,\n",
       " 3,\n",
       " 3,\n",
       " 3,\n",
       " 3,\n",
       " 3,\n",
       " 3,\n",
       " 3,\n",
       " 3,\n",
       " 3,\n",
       " 3,\n",
       " 3,\n",
       " 3,\n",
       " 3,\n",
       " 3,\n",
       " 3,\n",
       " 3,\n",
       " 3,\n",
       " 3,\n",
       " 3,\n",
       " 3,\n",
       " 3,\n",
       " 3,\n",
       " 3,\n",
       " 3,\n",
       " 3,\n",
       " 3,\n",
       " 3,\n",
       " 3,\n",
       " 2,\n",
       " 2,\n",
       " 2,\n",
       " 2,\n",
       " 2,\n",
       " 2,\n",
       " 2,\n",
       " 2,\n",
       " 2,\n",
       " 2,\n",
       " 2,\n",
       " 2,\n",
       " 1,\n",
       " 1,\n",
       " 1,\n",
       " 1,\n",
       " 1,\n",
       " 1,\n",
       " 1,\n",
       " 1,\n",
       " 1,\n",
       " 1,\n",
       " 1,\n",
       " 1,\n",
       " 1,\n",
       " 1,\n",
       " 1,\n",
       " 1,\n",
       " 1,\n",
       " 1,\n",
       " 1,\n",
       " 1,\n",
       " 1,\n",
       " 1,\n",
       " 1,\n",
       " 1,\n",
       " 1,\n",
       " 1,\n",
       " 1,\n",
       " 1,\n",
       " 1,\n",
       " 1,\n",
       " 1,\n",
       " 1,\n",
       " 1,\n",
       " 1,\n",
       " 1,\n",
       " 1,\n",
       " 1,\n",
       " 1,\n",
       " 1,\n",
       " 1,\n",
       " 1,\n",
       " 1,\n",
       " 1,\n",
       " 1,\n",
       " 1,\n",
       " 1,\n",
       " 1,\n",
       " 1,\n",
       " 1,\n",
       " 1,\n",
       " 1,\n",
       " 1,\n",
       " 1,\n",
       " 1,\n",
       " 1,\n",
       " 1,\n",
       " 1,\n",
       " 1,\n",
       " 1,\n",
       " 1,\n",
       " 1,\n",
       " 1,\n",
       " 1,\n",
       " 1,\n",
       " 1,\n",
       " 1,\n",
       " 1,\n",
       " 1,\n",
       " 1,\n",
       " 1,\n",
       " 1,\n",
       " 1,\n",
       " 1,\n",
       " 1,\n",
       " 1,\n",
       " 1,\n",
       " 1,\n",
       " 1,\n",
       " 1,\n",
       " 1,\n",
       " 1]"
      ]
     },
     "execution_count": 98,
     "metadata": {},
     "output_type": "execute_result"
    }
   ],
   "source": [
    "grados = sorted([grado for nodo, grado in H.degree()], reverse = True)\n",
    "grados"
   ]
  },
  {
   "cell_type": "code",
   "execution_count": 100,
   "id": "192623b3-c3e9-4fc9-870a-83497f15c010",
   "metadata": {},
   "outputs": [
    {
     "data": {
      "text/plain": [
       "Counter({1: 81, 3: 30, 2: 12, 5: 10, 8: 2, 4: 2, 7: 1, 6: 1})"
      ]
     },
     "execution_count": 100,
     "metadata": {},
     "output_type": "execute_result"
    }
   ],
   "source": [
    "cant_grados = Counter(grados)\n",
    "cant_grados"
   ]
  },
  {
   "cell_type": "code",
   "execution_count": 102,
   "id": "d882dcb5-669f-4600-b282-5bcef1428361",
   "metadata": {},
   "outputs": [
    {
     "data": {
      "image/png": "[encoded data removed]",
      "text/plain": [
       "<Figure size 640x480 with 1 Axes>"
      ]
     },
     "metadata": {},
     "output_type": "display_data"
    }
   ],
   "source": [
    "plt.figure()\n",
    "plt.plot(cant_grados.keys(), cant_grados.values(), marker = 'o')\n",
    "plt.title('Distribución de grados en el Grafo')\n",
    "plt.show()"
   ]
  },
  {
   "cell_type": "code",
   "execution_count": 104,
   "id": "31763411-8b4c-4bf3-87dc-b4fc63015476",
   "metadata": {},
   "outputs": [
    {
     "data": {
      "image/png": "[encoded data removed]",
      "text/plain": [
       "<Figure size 640x480 with 1 Axes>"
      ]
     },
     "metadata": {},
     "output_type": "display_data"
    }
   ],
   "source": [
    "plt.figure()\n",
    "plt.loglog(cant_grados.keys(), cant_grados.values(), marker = 'o', linestyle = 'None')\n",
    "plt.title('Distribución de grados en el Grafo')\n",
    "plt.show()"
   ]
  },
  {
   "cell_type": "code",
   "execution_count": 108,
   "id": "5c9f0c38-c899-4fc6-88bf-5e206f803719",
   "metadata": {},
   "outputs": [
    {
     "name": "stdout",
     "output_type": "stream",
     "text": [
      "Calculating best minimal value for power law fit\n",
      "xmin progress: 85%"
     ]
    }
   ],
   "source": [
    "ajuste = powerlaw.Fit(grados, discrete = True)"
   ]
  },
  {
   "cell_type": "code",
   "execution_count": 112,
   "id": "d939b99d-3742-49e1-b922-df77bac5cb8b",
   "metadata": {},
   "outputs": [
    {
     "data": {
      "text/plain": [
       "np.float64(3.61772424613363)"
      ]
     },
     "execution_count": 112,
     "metadata": {},
     "output_type": "execute_result"
    }
   ],
   "source": [
    "alpha = ajuste.power_law.alpha\n",
    "alpha"
   ]
  },
  {
   "cell_type": "code",
   "execution_count": 114,
   "id": "756424ab-8c73-45df-b728-cdc91ce8934a",
   "metadata": {},
   "outputs": [
    {
     "data": {
      "image/png": "[encoded data removed]",
      "text/plain": [
       "<Figure size 640x480 with 1 Axes>"
      ]
     },
     "metadata": {},
     "output_type": "display_data"
    }
   ],
   "source": [
    "x = np.linspace(0.5,10,100)\n",
    "y = x**(-alpha)\n",
    "\n",
    "plt.figure()\n",
    "plt.scatter(cant_grados.keys(), cant_grados.values(), marker = 'o')\n",
    "plt.plot(x, y)\n",
    "plt.show()"
   ]
  },
  {
   "cell_type": "code",
   "execution_count": 116,
   "id": "2090d2a1-21fd-4fed-8028-6b1abe5f60f0",
   "metadata": {},
   "outputs": [
    {
     "data": {
      "image/png": "[encoded data removed]",
      "text/plain": [
       "<Figure size 640x480 with 1 Axes>"
      ]
     },
     "metadata": {},
     "output_type": "display_data"
    }
   ],
   "source": [
    "x = np.linspace(0.5,10,100)\n",
    "y = x**(-alpha)\n",
    "\n",
    "plt.figure()\n",
    "plt.loglog(cant_grados.keys(), cant_grados.values(), marker = 'o', linestyle = 'None')\n",
    "plt.loglog(x, y)\n",
    "plt.show()"
   ]
  },
  {
   "cell_type": "code",
   "execution_count": 120,
   "id": "7e85c10d-82b0-4790-8b24-ea2735b86825",
   "metadata": {},
   "outputs": [],
   "source": [
    "R, p = ajuste.distribution_compare('power_law', 'exponential')"
   ]
  },
  {
   "cell_type": "code",
   "execution_count": 122,
   "id": "83ca41f6-81bf-4ef0-bdad-31e3a8222a55",
   "metadata": {},
   "outputs": [
    {
     "data": {
      "text/plain": [
       "np.float64(-0.14008975695942416)"
      ]
     },
     "execution_count": 122,
     "metadata": {},
     "output_type": "execute_result"
    }
   ],
   "source": [
    "R"
   ]
  },
  {
   "cell_type": "code",
   "execution_count": 124,
   "id": "16803bfd-0259-4b80-aedb-3e5b8c0be484",
   "metadata": {},
   "outputs": [
    {
     "data": {
      "text/plain": [
       "np.float64(0.8924411299895846)"
      ]
     },
     "execution_count": 124,
     "metadata": {},
     "output_type": "execute_result"
    }
   ],
   "source": [
    "p"
   ]
  },
  {
   "cell_type": "code",
   "execution_count": 126,
   "id": "4e5925ff-8ad4-4bcc-97cf-c942a6175d04",
   "metadata": {},
   "outputs": [],
   "source": [
    "R, p = ajuste.distribution_compare('power_law', 'lognormal')"
   ]
  },
  {
   "cell_type": "code",
   "execution_count": 128,
   "id": "95057835-d30c-48f8-93df-f899e194281a",
   "metadata": {},
   "outputs": [
    {
     "data": {
      "text/plain": [
       "np.float64(-0.48004451311386953)"
      ]
     },
     "execution_count": 128,
     "metadata": {},
     "output_type": "execute_result"
    }
   ],
   "source": [
    "R"
   ]
  },
  {
   "cell_type": "code",
   "execution_count": 130,
   "id": "b8eb7e08-606a-41d2-8096-ec9255e951fa",
   "metadata": {},
   "outputs": [
    {
     "data": {
      "text/plain": [
       "np.float64(0.2644999101255191)"
      ]
     },
     "execution_count": 130,
     "metadata": {},
     "output_type": "execute_result"
    }
   ],
   "source": [
    "p"
   ]
  },
  {
   "cell_type": "code",
   "execution_count": 134,
   "id": "2bdfb4fb-a8c6-4d21-93fa-6ebcf8cf9d49",
   "metadata": {},
   "outputs": [],
   "source": [
    "from pyvis.network import Network"
   ]
  },
  {
   "cell_type": "code",
   "execution_count": 138,
   "id": "8d959115-9899-4bb6-bce4-f27ac3ffdccd",
   "metadata": {},
   "outputs": [
    {
     "name": "stdout",
     "output_type": "stream",
     "text": [
      "Warning: When  cdn_resources is 'local' jupyter notebook has issues displaying graphics on chrome/safari. Use cdn_resources='in_line' or cdn_resources='remote' if you have issues viewing graphics in a notebook.\n",
      "grafo_sospechosos.html\n"
     ]
    },
    {
     "data": {
      "text/html": [
       "\n",
       "        <iframe\n",
       "            width=\"100%\"\n",
       "            height=\"600px\"\n",
       "            src=\"grafo_sospechosos.html\"\n",
       "            frameborder=\"0\"\n",
       "            allowfullscreen\n",
       "            \n",
       "        ></iframe>\n",
       "        "
      ],
      "text/plain": [
       "<IPython.lib.display.IFrame at 0x1ff3bca84c0>"
      ]
     },
     "execution_count": 138,
     "metadata": {},
     "output_type": "execute_result"
    }
   ],
   "source": [
    "from pyvis.network import Network\n",
    "\n",
    "net2 = Network(notebook = True)\n",
    "net2.add_node('WILFRAN DIAZ LARA', label = 'WILFRAN DIAZ LARA', value = 10, color = 'green', shape = 'star')\n",
    "net2.add_node('MARITZA PINZÓN CAMACHO', label = 'MARITZA PINZÓN CAMACHO', value = 10, color = 'purple', shape = 'star')\n",
    "net2.from_nx(H)\n",
    "net2.show('grafo_sospechosos.html')"
   ]
  },
  {
   "cell_type": "code",
   "execution_count": 142,
   "id": "89cc0210-9263-473a-90c0-b039d3da5477",
   "metadata": {},
   "outputs": [
    {
     "name": "stdout",
     "output_type": "stream",
     "text": [
      "Warning: When  cdn_resources is 'local' jupyter notebook has issues displaying graphics on chrome/safari. Use cdn_resources='in_line' or cdn_resources='remote' if you have issues viewing graphics in a notebook.\n",
      "grafo_sospechosos.html\n"
     ]
    },
    {
     "data": {
      "text/html": [
       "\n",
       "        <iframe\n",
       "            width=\"100%\"\n",
       "            height=\"600px\"\n",
       "            src=\"grafo_sospechosos.html\"\n",
       "            frameborder=\"0\"\n",
       "            allowfullscreen\n",
       "            \n",
       "        ></iframe>\n",
       "        "
      ],
      "text/plain": [
       "<IPython.lib.display.IFrame at 0x1ff3be9da50>"
      ]
     },
     "execution_count": 142,
     "metadata": {},
     "output_type": "execute_result"
    }
   ],
   "source": [
    "net2 = Network(notebook = True)\n",
    "net2.from_nx(G)\n",
    "net2.show('grafo_sospechosos.html')"
   ]
  }
 ],
 "metadata": {
  "kernelspec": {
   "display_name": "Python [conda env:base] *",
   "language": "python",
   "name": "conda-base-py"
  },
  "language_info": {
   "codemirror_mode": {
    "name": "ipython",
    "version": 3
   },
   "file_extension": ".py",
   "mimetype": "text/x-python",
   "name": "python",
   "nbconvert_exporter": "python",
   "pygments_lexer": "ipython3",
   "version": "3.10.14"
  }
 },
 "nbformat": 4,
 "nbformat_minor": 5
}
