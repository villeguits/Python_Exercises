{
 "cells": [
  {
   "cell_type": "markdown",
   "id": "e5609688",
   "metadata": {},
   "source": [
    "# Armed bandit simulations & Epsilon Greedy Algorithm"
   ]
  },
  {
   "cell_type": "code",
   "execution_count": 197,
   "id": "a9c2248f",
   "metadata": {},
   "outputs": [],
   "source": [
    "import numpy as np\n",
    "import matplotlib.pyplot as plt\n",
    "from math import sqrt\n",
    "\n",
    "\"\"\"\n",
    "Creation of n one armed bandits of random normal distributions\n",
    "\n",
    "nbandits (int): Number of one armed bandits to create\n",
    "mu_range (tuple: float): Range of possible means of the bandits' distributions\n",
    "s_range (tuple: float): Range of possible standard deviations of the bandits' distributions\n",
    "\"\"\"\n",
    "\n",
    "class Bandits:\n",
    "    def __init__(self, nbandits, mu_range = (-1, 10), s_range = (1, 5)):\n",
    "        self.nbandits = nbandits # Number of bandits used\n",
    "        # Parameters created for each bandit\n",
    "        self.bandit_params = np.array([(np.random.uniform(mu_range[0], mu_range[1]), \n",
    "                                       np.random.uniform(s_range[0], s_range[1])) for _ in range(self.nbandits)])\n",
    "        # Number of games played in each bandit\n",
    "        self.nplays = np.zeros(nbandits)\n",
    "        # Partial mean score of each bandit \n",
    "        self.Q = np.zeros(nbandits)\n",
    "        # Total score of a game played\n",
    "        self.points = 0\n",
    "        \n",
    "    def re_randomize_bandits(self, mu_range = (-1, 10), s_range = (1, 5)):\n",
    "        \"\"\"\n",
    "        Randomizes the parameters of the bandits again\n",
    "        \"\"\"\n",
    "        \n",
    "        self.bandit_params = np.array([(np.random.uniform(mu_range[0], mu_range[1]), \n",
    "                                       np.random.uniform(s_range[0], s_range[1])) for _ in range(self.nbandits)])\n",
    "        \n",
    "    def play_bandit(self, i):\n",
    "        \"\"\"\n",
    "        Plays the bandit on the i-th index\n",
    "        \n",
    "        i (int): index of the bandit to be played\n",
    "        \"\"\"\n",
    "        R = np.random.normal(self.bandit_params[i][0], self.bandit_params[i][1])\n",
    "        self.Q[i] = (self.Q[i]*self.nplays[i] + R)/(self.nplays[i] + 1)\n",
    "        self.nplays[i] += 1\n",
    "        self.points += R\n",
    "        \n",
    "    def play_random(self):\n",
    "        \"\"\"\n",
    "        Selects a random index and plays that bandit      \n",
    "        \"\"\"\n",
    "        i = np.random.choice(self.nbandits)\n",
    "        self.play_bandit(i)\n",
    "        return i\n",
    "        \n",
    "    def play_optimally(self):\n",
    "        \"\"\"\n",
    "        Plays the first bandit with maximum mean score\n",
    "        \"\"\"\n",
    "        best_i = np.where(self.Q == max(self.Q))[0][0]\n",
    "        self.play_bandit(best_i)\n",
    "        return best_i\n",
    "    \n",
    "    def reset_plays(self):\n",
    "        \"\"\"\n",
    "        Resets the stats of plays and scores\n",
    "        \"\"\"\n",
    "        self.nplays = np.zeros(self.nbandits)\n",
    "        self.Q = np.zeros(self.nbandits)\n",
    "        self.points = 0\n",
    "        \n",
    "    def EGA_game(self, rolls, epsilon = 0.1):\n",
    "        \"\"\"\n",
    "        Does an Epsilon Greedy Algorithm to either play optimally or\n",
    "        randomly a game of {rolls} plays:\n",
    "        \n",
    "        In each play, the function generates a number between 0 and 1\n",
    "        randomly (uniform distribution) and if that number is greater \n",
    "        than epsilon, it plays optimally, else it plays randmonly.\n",
    "        \"\"\"\n",
    "        Rs = []\n",
    "        for i in range(rolls):\n",
    "            e = np.random.random()\n",
    "            if e > epsilon:\n",
    "                self.play_optimally()\n",
    "            else:\n",
    "                self.play_random()\n",
    "            Rs.append(self.points)\n",
    "        print({i : self.nplays[i] for i in range(self.nbandits)})\n",
    "        return Rs\n",
    "                \n",
    "    def random_game(self, rolls):\n",
    "        \"\"\"\n",
    "        Does one random game with a {rolls} amount of plays.\n",
    "        \n",
    "        Returns a list of the cumulative score after each play.\n",
    "        \"\"\"\n",
    "        Rs = []\n",
    "        for i in range(rolls):\n",
    "                self.play_random()\n",
    "                Rs.append(self.points)\n",
    "        print({i : self.nplays[i] for i in range(self.nbandits)})\n",
    "        return Rs\n",
    "                \n",
    "    def simulate_EGA(self, rolls, simulations, epsilon = 0.1):\n",
    "        \"\"\"\n",
    "        Does {simulations} number simulations of a player that does \n",
    "        a total {rolls} plays in each game.\n",
    "        \n",
    "        All games are played with the Epsilon Greedy Algorithm                \n",
    "        \"\"\"        \n",
    "        \n",
    "        print(f'Simulating {simulations} games of {rolls} rounds each...')\n",
    "        avg_score = 0\n",
    "        self.reset_plays()\n",
    "        for sim in range(simulations):\n",
    "            self.EGA_game(rolls, epsilon = epsilon)\n",
    "            avg_score = (sim*avg_score + self.points)/(sim+1)\n",
    "            print(f'Game {sim} - Final score: {self.points}')\n",
    "            self.reset_plays()\n",
    "        print(f'Total simulations average score: {avg_score}')\n",
    "        return avg_score\n",
    "    \n",
    "    def simulate_random_plays(self, rolls, simulations):\n",
    "        \"\"\"\n",
    "        Does {simulations} number simulations of a player that does \n",
    "        a total {rolls} plays in each game.\n",
    "        \n",
    "        All games are played randomly                \n",
    "        \"\"\"\n",
    "               \n",
    "        print(f'Simulating {simulations} games of {rolls} rounds each...')\n",
    "        avg_score = 0\n",
    "        self.reset_plays()\n",
    "        for sim in range(simulations):\n",
    "            self.random_game(rolls)\n",
    "            avg_score = (sim*avg_score + self.points)/(sim+1)\n",
    "            print(f'Game {sim} - Final score: {self.points}')\n",
    "            self.reset_plays()\n",
    "        print(f'Total simulations average score: {avg_score}')\n",
    "        return avg_score\n",
    "    \n",
    "    def plot_competition(self, rolls, epsilon = 0.1):\n",
    "        \"\"\"\n",
    "        Plays a random and a EGA game with {rolls} plays each\n",
    "        and the given epsilon.\n",
    "        \n",
    "        Plots the comparison of the scores after each round to compare\n",
    "        which game got the highest score.\n",
    "        \"\"\"\n",
    "        self.reset_plays()\n",
    "        yrand = self.random_game(rolls)\n",
    "        self.reset_plays()\n",
    "        yega = self.EGA_game(rolls, epsilon = epsilon)\n",
    "        self.reset_plays()\n",
    "        fig = plt.subplots()\n",
    "        plt.plot(yrand, label = 'Fully Random Game')\n",
    "        plt.plot(yega, label = 'EGA Game')\n",
    "        plt.legend()\n",
    "        plt.xlabel('Round')\n",
    "        plt.ylabel('Score')\n",
    "        plt.show()\n",
    "        \n",
    "    def compare_bandit_distributions(self):\n",
    "        \"\"\"\n",
    "        Does a plot to observe the distribution function of\n",
    "        each bandit. \n",
    "        \"\"\"\n",
    "        \n",
    "        norm_cdf = lambda x, mu, s:np.exp(-0.5*(((x-mu)/s)**2))/(s*sqrt(2*np.pi))\n",
    "        x = np.linspace(-20, 20, 500)\n",
    "        fig = plt.subplots()\n",
    "        for i, params in enumerate(self.bandit_params):\n",
    "            y = norm_cdf(x, params[0], params[1])\n",
    "            plt.plot(x, y, label = f'Bandit {i}')\n",
    "        plt.legend()\n",
    "        plt.show()\n",
    "            \n",
    "            "
   ]
  },
  {
   "cell_type": "markdown",
   "id": "49870345",
   "metadata": {},
   "source": [
    "### Creating a n-bandit environment"
   ]
  },
  {
   "cell_type": "code",
   "execution_count": 198,
   "id": "400502f0",
   "metadata": {},
   "outputs": [
    {
     "name": "stdout",
     "output_type": "stream",
     "text": [
      "[[2.70880835 1.76401054]\n",
      " [6.53854964 1.23210438]\n",
      " [1.1134636  4.45738786]]\n"
     ]
    }
   ],
   "source": [
    "E = Bandits(3)\n",
    "print(E.bandit_params)"
   ]
  },
  {
   "cell_type": "code",
   "execution_count": 212,
   "id": "7e31baf0",
   "metadata": {},
   "outputs": [
    {
     "data": {
      "image/png": "[encoded data removed]",
      "text/plain": [
       "<Figure size 640x480 with 1 Axes>"
      ]
     },
     "metadata": {},
     "output_type": "display_data"
    }
   ],
   "source": [
    "# Visual representation of the bandits\n",
    "# Note: This is purely observational, the player does not know these distributions\n",
    "E.compare_bandit_distributions()"
   ]
  },
  {
   "cell_type": "markdown",
   "id": "869222bf",
   "metadata": {},
   "source": [
    "#### Playing a single game of n plays"
   ]
  },
  {
   "cell_type": "code",
   "execution_count": 206,
   "id": "b036e432",
   "metadata": {},
   "outputs": [
    {
     "name": "stdout",
     "output_type": "stream",
     "text": [
      "{0: 3366.0, 1: 3357.0, 2: 3277.0}\n",
      "34266.95020615116\n"
     ]
    }
   ],
   "source": [
    "game_length = 10000\n",
    "\n",
    "rand = E.random_game(game_length)\n",
    "print(E.points)"
   ]
  },
  {
   "cell_type": "code",
   "execution_count": 207,
   "id": "eb9bdfe5",
   "metadata": {},
   "outputs": [
    {
     "name": "stdout",
     "output_type": "stream",
     "text": [
      "0\n"
     ]
    }
   ],
   "source": [
    "E.reset_plays()\n",
    "print(E.points)"
   ]
  },
  {
   "cell_type": "code",
   "execution_count": 208,
   "id": "e6c12a86",
   "metadata": {},
   "outputs": [
    {
     "name": "stdout",
     "output_type": "stream",
     "text": [
      "{0: 382.0, 1: 9274.0, 2: 344.0}\n",
      "62161.55400831642\n"
     ]
    }
   ],
   "source": [
    "EGA = E.EGA_game(game_length, epsilon = 0.1)\n",
    "print(E.points)"
   ]
  },
  {
   "cell_type": "markdown",
   "id": "25c48129",
   "metadata": {},
   "source": [
    "#### Using the competition method"
   ]
  },
  {
   "cell_type": "code",
   "execution_count": 211,
   "id": "52740e4c",
   "metadata": {
    "scrolled": true
   },
   "outputs": [
    {
     "name": "stdout",
     "output_type": "stream",
     "text": [
      "{0: 25.0, 1: 38.0, 2: 37.0}\n",
      "{0: 36.0, 1: 61.0, 2: 3.0}\n"
     ]
    },
    {
     "data": {
      "image/png": "[encoded data removed]",
      "text/plain": [
       "<Figure size 640x480 with 1 Axes>"
      ]
     },
     "metadata": {},
     "output_type": "display_data"
    }
   ],
   "source": [
    "E.plot_competition(100, epsilon = 0.1)"
   ]
  },
  {
   "cell_type": "markdown",
   "id": "1dc6c6fa",
   "metadata": {},
   "source": [
    "#### Doing a simulation of various games to compare the average score between playing randomly and using the EGA"
   ]
  },
  {
   "cell_type": "code",
   "execution_count": 204,
   "id": "4b14287d",
   "metadata": {
    "scrolled": true
   },
   "outputs": [
    {
     "name": "stdout",
     "output_type": "stream",
     "text": [
      "Simulating 20 games of 1000 rounds each...\n",
      "{0: 347.0, 1: 331.0, 2: 322.0}\n",
      "Game 0 - Final score: 3573.2047484535856\n",
      "{0: 314.0, 1: 334.0, 2: 352.0}\n",
      "Game 1 - Final score: 3664.9829206507648\n",
      "{0: 331.0, 1: 347.0, 2: 322.0}\n",
      "Game 2 - Final score: 3536.340036884863\n",
      "{0: 328.0, 1: 341.0, 2: 331.0}\n",
      "Game 3 - Final score: 3452.875957700048\n",
      "{0: 318.0, 1: 361.0, 2: 321.0}\n",
      "Game 4 - Final score: 3532.08179873008\n",
      "{0: 325.0, 1: 332.0, 2: 343.0}\n",
      "Game 5 - Final score: 3543.245467809344\n",
      "{0: 356.0, 1: 338.0, 2: 306.0}\n",
      "Game 6 - Final score: 3413.9877044396467\n",
      "{0: 353.0, 1: 312.0, 2: 335.0}\n",
      "Game 7 - Final score: 3210.8566749042825\n",
      "{0: 325.0, 1: 327.0, 2: 348.0}\n",
      "Game 8 - Final score: 3354.6008155951254\n",
      "{0: 334.0, 1: 330.0, 2: 336.0}\n",
      "Game 9 - Final score: 3336.047255338362\n",
      "{0: 341.0, 1: 306.0, 2: 353.0}\n",
      "Game 10 - Final score: 3354.15930286509\n",
      "{0: 337.0, 1: 338.0, 2: 325.0}\n",
      "Game 11 - Final score: 3489.948950086128\n",
      "{0: 311.0, 1: 349.0, 2: 340.0}\n",
      "Game 12 - Final score: 3534.0791534836926\n",
      "{0: 308.0, 1: 352.0, 2: 340.0}\n",
      "Game 13 - Final score: 3647.594803290126\n",
      "{0: 343.0, 1: 338.0, 2: 319.0}\n",
      "Game 14 - Final score: 3301.4788867733823\n",
      "{0: 352.0, 1: 321.0, 2: 327.0}\n",
      "Game 15 - Final score: 3415.011852945607\n",
      "{0: 339.0, 1: 307.0, 2: 354.0}\n",
      "Game 16 - Final score: 3296.7804587785495\n",
      "{0: 310.0, 1: 342.0, 2: 348.0}\n",
      "Game 17 - Final score: 3498.3967596847697\n",
      "{0: 352.0, 1: 328.0, 2: 320.0}\n",
      "Game 18 - Final score: 3406.590107198153\n",
      "{0: 339.0, 1: 328.0, 2: 333.0}\n",
      "Game 19 - Final score: 3529.2832126647345\n",
      "Total simulations average score: 3454.5773434138173\n"
     ]
    },
    {
     "data": {
      "text/plain": [
       "3454.5773434138173"
      ]
     },
     "execution_count": 204,
     "metadata": {},
     "output_type": "execute_result"
    }
   ],
   "source": [
    "E.simulate_random_plays(1000, 20)"
   ]
  },
  {
   "cell_type": "code",
   "execution_count": 205,
   "id": "c55dc244",
   "metadata": {},
   "outputs": [
    {
     "name": "stdout",
     "output_type": "stream",
     "text": [
      "Simulating 20 games of 1000 rounds each...\n",
      "{0: 130.0, 1: 844.0, 2: 26.0}\n",
      "Game 0 - Final score: 5886.3911401760115\n",
      "{0: 42.0, 1: 929.0, 2: 29.0}\n",
      "Game 1 - Final score: 6198.696278978297\n",
      "{0: 82.0, 1: 866.0, 2: 52.0}\n",
      "Game 2 - Final score: 5860.020272913122\n",
      "{0: 58.0, 1: 910.0, 2: 32.0}\n",
      "Game 3 - Final score: 6052.441726254567\n",
      "{0: 42.0, 1: 913.0, 2: 45.0}\n",
      "Game 4 - Final score: 6103.21635334764\n",
      "{0: 41.0, 1: 930.0, 2: 29.0}\n",
      "Game 5 - Final score: 6171.242085673757\n",
      "{0: 50.0, 1: 922.0, 2: 28.0}\n",
      "Game 6 - Final score: 6202.49058855869\n",
      "{0: 93.0, 1: 878.0, 2: 29.0}\n",
      "Game 7 - Final score: 5951.497974139839\n",
      "{0: 35.0, 1: 923.0, 2: 42.0}\n",
      "Game 8 - Final score: 6132.873039062104\n",
      "{0: 28.0, 1: 938.0, 2: 34.0}\n",
      "Game 9 - Final score: 6307.90166478189\n",
      "{0: 124.0, 1: 834.0, 2: 42.0}\n",
      "Game 10 - Final score: 5803.855263540526\n",
      "{0: 73.0, 1: 879.0, 2: 48.0}\n",
      "Game 11 - Final score: 6112.149651002076\n",
      "{0: 38.0, 1: 917.0, 2: 45.0}\n",
      "Game 12 - Final score: 6175.867726201967\n",
      "{0: 47.0, 1: 917.0, 2: 36.0}\n",
      "Game 13 - Final score: 6148.938472931799\n",
      "{0: 82.0, 1: 887.0, 2: 31.0}\n",
      "Game 14 - Final score: 6027.24378006182\n",
      "{0: 33.0, 1: 936.0, 2: 31.0}\n",
      "Game 15 - Final score: 6244.543178896767\n",
      "{0: 67.0, 1: 896.0, 2: 37.0}\n",
      "Game 16 - Final score: 6025.632955141435\n",
      "{0: 38.0, 1: 926.0, 2: 36.0}\n",
      "Game 17 - Final score: 6133.027624021283\n",
      "{0: 40.0, 1: 924.0, 2: 36.0}\n",
      "Game 18 - Final score: 6186.750519945244\n",
      "{0: 39.0, 1: 925.0, 2: 36.0}\n",
      "Game 19 - Final score: 6171.626292933528\n",
      "Total simulations average score: 6094.820329428119\n"
     ]
    },
    {
     "data": {
      "text/plain": [
       "6094.820329428119"
      ]
     },
     "execution_count": 205,
     "metadata": {},
     "output_type": "execute_result"
    }
   ],
   "source": [
    "E.simulate_EGA(1000, 20)"
   ]
  }
 ],
 "metadata": {
  "kernelspec": {
   "display_name": "Python 3 (ipykernel)",
   "language": "python",
   "name": "python3"
  },
  "language_info": {
   "codemirror_mode": {
    "name": "ipython",
    "version": 3
   },
   "file_extension": ".py",
   "mimetype": "text/x-python",
   "name": "python",
   "nbconvert_exporter": "python",
   "pygments_lexer": "ipython3",
   "version": "3.9.13"
  }
 },
 "nbformat": 4,
 "nbformat_minor": 5
}
