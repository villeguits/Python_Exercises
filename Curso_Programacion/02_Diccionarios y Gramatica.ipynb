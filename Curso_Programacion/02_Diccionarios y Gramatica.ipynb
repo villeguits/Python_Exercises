{
 "cells": [
  {
   "cell_type": "markdown",
   "id": "a3bbb0f4",
   "metadata": {},
   "source": [
    "# Diccionarios"
   ]
  },
  {
   "cell_type": "code",
   "execution_count": 1,
   "id": "7b491fc3",
   "metadata": {},
   "outputs": [],
   "source": [
    "D = {2 : 4, 6 : 12, 7 : 14, 8 : 16, 9 : 18}"
   ]
  },
  {
   "cell_type": "code",
   "execution_count": 3,
   "id": "dee82dcb",
   "metadata": {},
   "outputs": [
    {
     "data": {
      "text/plain": [
       "12"
      ]
     },
     "execution_count": 3,
     "metadata": {},
     "output_type": "execute_result"
    }
   ],
   "source": [
    "# LLamar una llave del diccionario\n",
    "D[6]"
   ]
  },
  {
   "cell_type": "code",
   "execution_count": 5,
   "id": "11e7fa5c",
   "metadata": {},
   "outputs": [],
   "source": [
    "# Agregar una llave : valor al diccionario\n",
    "D[3] = 6"
   ]
  },
  {
   "cell_type": "code",
   "execution_count": 6,
   "id": "3d04f3ae",
   "metadata": {},
   "outputs": [
    {
     "data": {
      "text/plain": [
       "{2: 4, 6: 12, 7: 14, 8: 16, 9: 18, 3: 6}"
      ]
     },
     "execution_count": 6,
     "metadata": {},
     "output_type": "execute_result"
    }
   ],
   "source": [
    "D"
   ]
  },
  {
   "cell_type": "code",
   "execution_count": 7,
   "id": "f573e42a",
   "metadata": {},
   "outputs": [],
   "source": [
    "D[3] = 25"
   ]
  },
  {
   "cell_type": "code",
   "execution_count": 9,
   "id": "d0fa193f",
   "metadata": {},
   "outputs": [],
   "source": [
    "# Borrar una llave : valor\n",
    "del D[3]"
   ]
  },
  {
   "cell_type": "code",
   "execution_count": 10,
   "id": "01a557cb",
   "metadata": {},
   "outputs": [
    {
     "data": {
      "text/plain": [
       "{2: 4, 6: 12, 7: 14, 8: 16, 9: 18}"
      ]
     },
     "execution_count": 10,
     "metadata": {},
     "output_type": "execute_result"
    }
   ],
   "source": [
    "D"
   ]
  },
  {
   "cell_type": "code",
   "execution_count": 11,
   "id": "dab2f7ef",
   "metadata": {},
   "outputs": [
    {
     "data": {
      "text/plain": [
       "dict_keys([2, 6, 7, 8, 9])"
      ]
     },
     "execution_count": 11,
     "metadata": {},
     "output_type": "execute_result"
    }
   ],
   "source": [
    "# Metodos\n",
    "D.keys()"
   ]
  },
  {
   "cell_type": "code",
   "execution_count": 12,
   "id": "1ba8fde2",
   "metadata": {},
   "outputs": [
    {
     "data": {
      "text/plain": [
       "dict_values([4, 12, 14, 16, 18])"
      ]
     },
     "execution_count": 12,
     "metadata": {},
     "output_type": "execute_result"
    }
   ],
   "source": [
    "D.values()"
   ]
  },
  {
   "cell_type": "code",
   "execution_count": 13,
   "id": "9cbcbd2c",
   "metadata": {},
   "outputs": [
    {
     "data": {
      "text/plain": [
       "dict_items([(2, 4), (6, 12), (7, 14), (8, 16), (9, 18)])"
      ]
     },
     "execution_count": 13,
     "metadata": {},
     "output_type": "execute_result"
    }
   ],
   "source": [
    "D.items()"
   ]
  },
  {
   "cell_type": "markdown",
   "id": "7d3dd66f",
   "metadata": {},
   "source": [
    "# Estructuras de control"
   ]
  },
  {
   "cell_type": "code",
   "execution_count": 14,
   "id": "186b9864",
   "metadata": {},
   "outputs": [],
   "source": [
    "# Si, entonces\n",
    "# if...else"
   ]
  },
  {
   "cell_type": "markdown",
   "id": "9ed14684",
   "metadata": {},
   "source": [
    "if condicion: \n",
    "    orden\n",
    "else:\n",
    "    orden si no se cumple"
   ]
  },
  {
   "cell_type": "code",
   "execution_count": 16,
   "id": "69957a3e",
   "metadata": {},
   "outputs": [
    {
     "name": "stdout",
     "output_type": "stream",
     "text": [
      "El diccionario está mal!!!!\n"
     ]
    }
   ],
   "source": [
    "if D[2] == 5:\n",
    "    print('El valor es', D[2])\n",
    "else:\n",
    "    print('El diccionario está mal!!!!')\n"
   ]
  },
  {
   "cell_type": "markdown",
   "id": "c4295a6d",
   "metadata": {},
   "source": [
    "if condicion: \n",
    "    orden\n",
    "elif condicion:\n",
    "    orden si no se cumple if\n",
    "else:\n",
    "    orden si no se cumple ninguna de las anteriores"
   ]
  },
  {
   "cell_type": "code",
   "execution_count": 18,
   "id": "30c44e63",
   "metadata": {},
   "outputs": [
    {
     "name": "stdout",
     "output_type": "stream",
     "text": [
      "El diccionario está mal!!!!\n"
     ]
    }
   ],
   "source": [
    "# if...elif...else\n",
    "if D[2] < 4:\n",
    "    print('El valor es', D[2])\n",
    "elif D[2] == 4:\n",
    "    print('El diccionario está mal!!!!')\n",
    "else:\n",
    "    print('El diccionario está muuuuuy mal!!!!')"
   ]
  },
  {
   "cell_type": "code",
   "execution_count": 19,
   "id": "f1aea73f",
   "metadata": {},
   "outputs": [],
   "source": [
    "if D[2] < 4:\n",
    "    print('El valor es', D[2])"
   ]
  },
  {
   "cell_type": "markdown",
   "id": "72a5a1f5",
   "metadata": {},
   "source": [
    "### Mientras - while"
   ]
  },
  {
   "cell_type": "markdown",
   "id": "0fa27657",
   "metadata": {},
   "source": [
    "while condicion:\n",
    "    orden"
   ]
  },
  {
   "cell_type": "code",
   "execution_count": 37,
   "id": "611e5f38",
   "metadata": {},
   "outputs": [
    {
     "name": "stdout",
     "output_type": "stream",
     "text": [
      "0\n",
      "1\n",
      "2\n",
      "3\n",
      "4\n",
      "5\n",
      "6\n",
      "7\n",
      "8\n",
      "9\n",
      "Fin.\n"
     ]
    }
   ],
   "source": [
    "v = 0\n",
    "while v < 10:\n",
    "    print(v)\n",
    "    v = v + 1  \n",
    "print('Fin.')"
   ]
  },
  {
   "cell_type": "markdown",
   "id": "5c837e55",
   "metadata": {},
   "source": [
    "#### Para - for"
   ]
  },
  {
   "cell_type": "markdown",
   "id": "48329a56",
   "metadata": {},
   "source": [
    "for elemento in lista:\n",
    "    orden"
   ]
  },
  {
   "cell_type": "code",
   "execution_count": 25,
   "id": "d8620fa1",
   "metadata": {},
   "outputs": [],
   "source": [
    "L = [1,2,4,5,9,2.5,'Hola']"
   ]
  },
  {
   "cell_type": "code",
   "execution_count": 26,
   "id": "f8526dc3",
   "metadata": {},
   "outputs": [
    {
     "name": "stdout",
     "output_type": "stream",
     "text": [
      "2\n",
      "4\n",
      "8\n",
      "10\n",
      "18\n",
      "5.0\n",
      "HolaHola\n"
     ]
    }
   ],
   "source": [
    "for valor in L:\n",
    "    print(valor*2)"
   ]
  },
  {
   "cell_type": "code",
   "execution_count": 38,
   "id": "c5a42b4f",
   "metadata": {},
   "outputs": [
    {
     "data": {
      "text/plain": [
       "10"
      ]
     },
     "execution_count": 38,
     "metadata": {},
     "output_type": "execute_result"
    }
   ],
   "source": [
    "v"
   ]
  },
  {
   "cell_type": "code",
   "execution_count": 40,
   "id": "4b119720",
   "metadata": {
    "scrolled": false
   },
   "outputs": [
    {
     "name": "stdout",
     "output_type": "stream",
     "text": [
      "1\n",
      "4\n",
      "16\n",
      "25\n",
      "81\n",
      "6.25\n"
     ]
    },
    {
     "ename": "TypeError",
     "evalue": "can't multiply sequence by non-int of type 'str'",
     "output_type": "error",
     "traceback": [
      "\u001b[1;31m---------------------------------------------------------------------------\u001b[0m",
      "\u001b[1;31mTypeError\u001b[0m                                 Traceback (most recent call last)",
      "Cell \u001b[1;32mIn[40], line 2\u001b[0m\n\u001b[0;32m      1\u001b[0m \u001b[38;5;28;01mfor\u001b[39;00m valor \u001b[38;5;129;01min\u001b[39;00m L:\n\u001b[1;32m----> 2\u001b[0m     \u001b[38;5;28mprint\u001b[39m(\u001b[43mvalor\u001b[49m\u001b[38;5;241;43m*\u001b[39;49m\u001b[43mvalor\u001b[49m)\n\u001b[0;32m      3\u001b[0m     v \u001b[38;5;241m=\u001b[39m valor\n",
      "\u001b[1;31mTypeError\u001b[0m: can't multiply sequence by non-int of type 'str'"
     ]
    }
   ],
   "source": [
    "for valor in L:\n",
    "    print(valor*valor)\n",
    "    v = valor"
   ]
  },
  {
   "cell_type": "code",
   "execution_count": 41,
   "id": "e87b4937",
   "metadata": {},
   "outputs": [
    {
     "data": {
      "text/plain": [
       "2.5"
      ]
     },
     "execution_count": 41,
     "metadata": {},
     "output_type": "execute_result"
    }
   ],
   "source": [
    "v"
   ]
  },
  {
   "cell_type": "code",
   "execution_count": 42,
   "id": "864eac91",
   "metadata": {},
   "outputs": [],
   "source": [
    "l = [0,1,2,3,4,5]"
   ]
  },
  {
   "cell_type": "code",
   "execution_count": 43,
   "id": "5cba3a0d",
   "metadata": {},
   "outputs": [
    {
     "name": "stdout",
     "output_type": "stream",
     "text": [
      "0\n",
      "1\n",
      "2\n",
      "3\n",
      "4\n",
      "5\n"
     ]
    }
   ],
   "source": [
    "for i in l:\n",
    "    print(i)"
   ]
  },
  {
   "cell_type": "code",
   "execution_count": 45,
   "id": "6a03c993",
   "metadata": {},
   "outputs": [
    {
     "name": "stdout",
     "output_type": "stream",
     "text": [
      "0\n",
      "1\n",
      "2\n",
      "3\n",
      "4\n",
      "5\n"
     ]
    }
   ],
   "source": [
    "i = 0\n",
    "while i < 6:\n",
    "    print(i)\n",
    "    i = i + 1"
   ]
  },
  {
   "cell_type": "markdown",
   "id": "b87eeaf0",
   "metadata": {},
   "source": [
    "# Funciones"
   ]
  },
  {
   "cell_type": "code",
   "execution_count": 36,
   "id": "8449af31",
   "metadata": {},
   "outputs": [],
   "source": [
    "def multiplicar(a, b):\n",
    "    x = a + b\n",
    "    resultado = a*b\n",
    "    return resultado"
   ]
  },
  {
   "cell_type": "code",
   "execution_count": 32,
   "id": "6b09b501",
   "metadata": {},
   "outputs": [
    {
     "data": {
      "text/plain": [
       "30"
      ]
     },
     "execution_count": 32,
     "metadata": {},
     "output_type": "execute_result"
    }
   ],
   "source": [
    "multiplicar(5,6)"
   ]
  },
  {
   "cell_type": "code",
   "execution_count": 33,
   "id": "e04ac7a4",
   "metadata": {},
   "outputs": [],
   "source": [
    "r = multiplicar(5,6)"
   ]
  },
  {
   "cell_type": "code",
   "execution_count": 34,
   "id": "2b10f35a",
   "metadata": {},
   "outputs": [
    {
     "data": {
      "text/plain": [
       "30"
      ]
     },
     "execution_count": 34,
     "metadata": {},
     "output_type": "execute_result"
    }
   ],
   "source": [
    "r"
   ]
  },
  {
   "cell_type": "code",
   "execution_count": 35,
   "id": "ea725746",
   "metadata": {},
   "outputs": [
    {
     "ename": "NameError",
     "evalue": "name 'resultado' is not defined",
     "output_type": "error",
     "traceback": [
      "\u001b[1;31m---------------------------------------------------------------------------\u001b[0m",
      "\u001b[1;31mNameError\u001b[0m                                 Traceback (most recent call last)",
      "Cell \u001b[1;32mIn[35], line 1\u001b[0m\n\u001b[1;32m----> 1\u001b[0m \u001b[43mresultado\u001b[49m\n",
      "\u001b[1;31mNameError\u001b[0m: name 'resultado' is not defined"
     ]
    }
   ],
   "source": [
    "resultado"
   ]
  },
  {
   "cell_type": "code",
   "execution_count": 47,
   "id": "2236bc65",
   "metadata": {},
   "outputs": [
    {
     "name": "stdout",
     "output_type": "stream",
     "text": [
      "0\n",
      "1\n",
      "2\n",
      "3\n",
      "4\n",
      "5\n",
      "6\n",
      "7\n",
      "8\n",
      "9\n",
      "10\n"
     ]
    }
   ],
   "source": [
    "for i in range(11):\n",
    "    print(i)"
   ]
  },
  {
   "cell_type": "code",
   "execution_count": 48,
   "id": "24c87630",
   "metadata": {},
   "outputs": [],
   "source": [
    "lista = [1,2,3,4]"
   ]
  },
  {
   "cell_type": "code",
   "execution_count": 49,
   "id": "10f9b265",
   "metadata": {},
   "outputs": [],
   "source": [
    "lista.append(5)"
   ]
  },
  {
   "cell_type": "code",
   "execution_count": 50,
   "id": "866075c7",
   "metadata": {},
   "outputs": [
    {
     "data": {
      "text/plain": [
       "[1, 2, 3, 4, 5]"
      ]
     },
     "execution_count": 50,
     "metadata": {},
     "output_type": "execute_result"
    }
   ],
   "source": [
    "lista"
   ]
  },
  {
   "cell_type": "code",
   "execution_count": null,
   "id": "fc3de3a5",
   "metadata": {},
   "outputs": [],
   "source": [
    "resultado = {1: [1,2,3,4,5], 2 : [2,4,6,8,10]\n",
    "             , 3 : [3,6,9,12,15], 4 : [4,8,12,16,20], \n",
    "            5 : [5,10,15,20,25]}"
   ]
  },
  {
   "cell_type": "code",
   "execution_count": 51,
   "id": "f87f639a",
   "metadata": {},
   "outputs": [],
   "source": [
    "D = {}"
   ]
  },
  {
   "cell_type": "code",
   "execution_count": 52,
   "id": "d73eaa64",
   "metadata": {},
   "outputs": [],
   "source": [
    "L = []"
   ]
  },
  {
   "cell_type": "code",
   "execution_count": 55,
   "id": "04e43f38",
   "metadata": {},
   "outputs": [],
   "source": [
    "lista = [i*2 for i in range(1,10)]"
   ]
  },
  {
   "cell_type": "code",
   "execution_count": 56,
   "id": "3e4304f5",
   "metadata": {},
   "outputs": [
    {
     "data": {
      "text/plain": [
       "[2, 4, 6, 8, 10, 12, 14, 16, 18]"
      ]
     },
     "execution_count": 56,
     "metadata": {},
     "output_type": "execute_result"
    }
   ],
   "source": [
    "lista"
   ]
  },
  {
   "cell_type": "code",
   "execution_count": 57,
   "id": "e700ec6c",
   "metadata": {},
   "outputs": [
    {
     "data": {
      "text/plain": [
       "{2: [2, 4, 6, 8, 10],\n",
       " 4: [4, 8, 12, 16, 20],\n",
       " 6: [6, 12, 18, 24, 30],\n",
       " 8: [8, 16, 24, 32, 40],\n",
       " 10: [10, 20, 30, 40, 50],\n",
       " 12: [12, 24, 36, 48, 60],\n",
       " 14: [14, 28, 42, 56, 70],\n",
       " 16: [16, 32, 48, 64, 80],\n",
       " 18: [18, 36, 54, 72, 90]}"
      ]
     },
     "execution_count": 57,
     "metadata": {},
     "output_type": "execute_result"
    }
   ],
   "source": [
    "def ejercicio(lista):\n",
    "    return {key : [i*key for i in range(1,6)] for key in lista}"
   ]
  },
  {
   "cell_type": "code",
   "execution_count": 58,
   "id": "ec55a92b",
   "metadata": {},
   "outputs": [],
   "source": [
    "def ejercicio(lista):\n",
    "    diccionario = {}\n",
    "    for elemento in lista:\n",
    "        otra_lista = []\n",
    "        for i in range(1,6):\n",
    "            otra_lista.append(i*elemento)\n",
    "        diccionario[elemento] = otra_lista\n",
    "    return diccionario"
   ]
  },
  {
   "cell_type": "code",
   "execution_count": 59,
   "id": "48bdfe9f",
   "metadata": {},
   "outputs": [
    {
     "data": {
      "text/plain": [
       "{2: [2, 4, 6, 8, 10],\n",
       " 4: [4, 8, 12, 16, 20],\n",
       " 6: [6, 12, 18, 24, 30],\n",
       " 8: [8, 16, 24, 32, 40],\n",
       " 10: [10, 20, 30, 40, 50],\n",
       " 12: [12, 24, 36, 48, 60],\n",
       " 14: [14, 28, 42, 56, 70],\n",
       " 16: [16, 32, 48, 64, 80],\n",
       " 18: [18, 36, 54, 72, 90]}"
      ]
     },
     "execution_count": 59,
     "metadata": {},
     "output_type": "execute_result"
    }
   ],
   "source": [
    "ejercicio(lista)"
   ]
  },
  {
   "cell_type": "code",
   "execution_count": null,
   "id": "e9c8ba6a",
   "metadata": {},
   "outputs": [],
   "source": [
    "[argumento for elemento in conjunto]"
   ]
  },
  {
   "cell_type": "code",
   "execution_count": 60,
   "id": "c1e9b0ba",
   "metadata": {},
   "outputs": [
    {
     "data": {
      "text/plain": [
       "[0,\n",
       " 3,\n",
       " 6,\n",
       " 9,\n",
       " 12,\n",
       " 15,\n",
       " 18,\n",
       " 21,\n",
       " 24,\n",
       " 27,\n",
       " 30,\n",
       " 33,\n",
       " 36,\n",
       " 39,\n",
       " 42,\n",
       " 45,\n",
       " 48,\n",
       " 51,\n",
       " 54,\n",
       " 57,\n",
       " 60,\n",
       " 63,\n",
       " 66,\n",
       " 69,\n",
       " 72,\n",
       " 75,\n",
       " 78,\n",
       " 81,\n",
       " 84,\n",
       " 87,\n",
       " 90,\n",
       " 93,\n",
       " 96,\n",
       " 99,\n",
       " 102,\n",
       " 105,\n",
       " 108,\n",
       " 111,\n",
       " 114,\n",
       " 117,\n",
       " 120,\n",
       " 123,\n",
       " 126,\n",
       " 129,\n",
       " 132,\n",
       " 135,\n",
       " 138,\n",
       " 141,\n",
       " 144,\n",
       " 147,\n",
       " 150,\n",
       " 153,\n",
       " 156,\n",
       " 159,\n",
       " 162,\n",
       " 165,\n",
       " 168,\n",
       " 171,\n",
       " 174,\n",
       " 177,\n",
       " 180,\n",
       " 183,\n",
       " 186,\n",
       " 189,\n",
       " 192,\n",
       " 195,\n",
       " 198,\n",
       " 201,\n",
       " 204,\n",
       " 207,\n",
       " 210,\n",
       " 213,\n",
       " 216,\n",
       " 219,\n",
       " 222,\n",
       " 225,\n",
       " 228,\n",
       " 231,\n",
       " 234,\n",
       " 237,\n",
       " 240,\n",
       " 243,\n",
       " 246,\n",
       " 249,\n",
       " 252,\n",
       " 255,\n",
       " 258,\n",
       " 261,\n",
       " 264,\n",
       " 267,\n",
       " 270,\n",
       " 273,\n",
       " 276,\n",
       " 279,\n",
       " 282,\n",
       " 285,\n",
       " 288,\n",
       " 291,\n",
       " 294,\n",
       " 297,\n",
       " 300,\n",
       " 303,\n",
       " 306,\n",
       " 309,\n",
       " 312,\n",
       " 315,\n",
       " 318,\n",
       " 321,\n",
       " 324,\n",
       " 327,\n",
       " 330,\n",
       " 333,\n",
       " 336,\n",
       " 339,\n",
       " 342,\n",
       " 345,\n",
       " 348,\n",
       " 351,\n",
       " 354,\n",
       " 357,\n",
       " 360,\n",
       " 363,\n",
       " 366,\n",
       " 369,\n",
       " 372,\n",
       " 375,\n",
       " 378,\n",
       " 381,\n",
       " 384,\n",
       " 387,\n",
       " 390,\n",
       " 393,\n",
       " 396,\n",
       " 399,\n",
       " 402,\n",
       " 405,\n",
       " 408,\n",
       " 411,\n",
       " 414,\n",
       " 417,\n",
       " 420,\n",
       " 423,\n",
       " 426,\n",
       " 429,\n",
       " 432,\n",
       " 435,\n",
       " 438,\n",
       " 441,\n",
       " 444,\n",
       " 447,\n",
       " 450,\n",
       " 453,\n",
       " 456,\n",
       " 459,\n",
       " 462,\n",
       " 465,\n",
       " 468,\n",
       " 471,\n",
       " 474,\n",
       " 477,\n",
       " 480,\n",
       " 483,\n",
       " 486,\n",
       " 489,\n",
       " 492,\n",
       " 495,\n",
       " 498,\n",
       " 501,\n",
       " 504,\n",
       " 507,\n",
       " 510,\n",
       " 513,\n",
       " 516,\n",
       " 519,\n",
       " 522,\n",
       " 525,\n",
       " 528,\n",
       " 531,\n",
       " 534,\n",
       " 537,\n",
       " 540,\n",
       " 543,\n",
       " 546,\n",
       " 549,\n",
       " 552,\n",
       " 555,\n",
       " 558,\n",
       " 561,\n",
       " 564,\n",
       " 567,\n",
       " 570,\n",
       " 573,\n",
       " 576,\n",
       " 579,\n",
       " 582,\n",
       " 585,\n",
       " 588,\n",
       " 591,\n",
       " 594,\n",
       " 597,\n",
       " 600,\n",
       " 603,\n",
       " 606,\n",
       " 609,\n",
       " 612,\n",
       " 615,\n",
       " 618,\n",
       " 621,\n",
       " 624,\n",
       " 627,\n",
       " 630,\n",
       " 633,\n",
       " 636,\n",
       " 639,\n",
       " 642,\n",
       " 645,\n",
       " 648,\n",
       " 651,\n",
       " 654,\n",
       " 657,\n",
       " 660,\n",
       " 663,\n",
       " 666,\n",
       " 669,\n",
       " 672,\n",
       " 675,\n",
       " 678,\n",
       " 681,\n",
       " 684,\n",
       " 687,\n",
       " 690,\n",
       " 693,\n",
       " 696,\n",
       " 699,\n",
       " 702,\n",
       " 705,\n",
       " 708,\n",
       " 711,\n",
       " 714,\n",
       " 717,\n",
       " 720,\n",
       " 723,\n",
       " 726,\n",
       " 729,\n",
       " 732,\n",
       " 735,\n",
       " 738,\n",
       " 741,\n",
       " 744,\n",
       " 747,\n",
       " 750,\n",
       " 753,\n",
       " 756,\n",
       " 759,\n",
       " 762,\n",
       " 765,\n",
       " 768,\n",
       " 771,\n",
       " 774,\n",
       " 777,\n",
       " 780,\n",
       " 783,\n",
       " 786,\n",
       " 789,\n",
       " 792,\n",
       " 795,\n",
       " 798,\n",
       " 801,\n",
       " 804,\n",
       " 807,\n",
       " 810,\n",
       " 813,\n",
       " 816,\n",
       " 819,\n",
       " 822,\n",
       " 825,\n",
       " 828,\n",
       " 831,\n",
       " 834,\n",
       " 837,\n",
       " 840,\n",
       " 843,\n",
       " 846,\n",
       " 849,\n",
       " 852,\n",
       " 855,\n",
       " 858,\n",
       " 861,\n",
       " 864,\n",
       " 867,\n",
       " 870,\n",
       " 873,\n",
       " 876,\n",
       " 879,\n",
       " 882,\n",
       " 885,\n",
       " 888,\n",
       " 891,\n",
       " 894,\n",
       " 897,\n",
       " 900,\n",
       " 903,\n",
       " 906,\n",
       " 909,\n",
       " 912,\n",
       " 915,\n",
       " 918,\n",
       " 921,\n",
       " 924,\n",
       " 927,\n",
       " 930,\n",
       " 933,\n",
       " 936,\n",
       " 939,\n",
       " 942,\n",
       " 945,\n",
       " 948,\n",
       " 951,\n",
       " 954,\n",
       " 957,\n",
       " 960,\n",
       " 963,\n",
       " 966,\n",
       " 969,\n",
       " 972,\n",
       " 975,\n",
       " 978,\n",
       " 981,\n",
       " 984,\n",
       " 987,\n",
       " 990,\n",
       " 993,\n",
       " 996,\n",
       " 999,\n",
       " 1002,\n",
       " 1005,\n",
       " 1008,\n",
       " 1011,\n",
       " 1014,\n",
       " 1017,\n",
       " 1020,\n",
       " 1023,\n",
       " 1026,\n",
       " 1029,\n",
       " 1032,\n",
       " 1035,\n",
       " 1038,\n",
       " 1041,\n",
       " 1044,\n",
       " 1047,\n",
       " 1050,\n",
       " 1053,\n",
       " 1056,\n",
       " 1059,\n",
       " 1062,\n",
       " 1065,\n",
       " 1068,\n",
       " 1071,\n",
       " 1074,\n",
       " 1077,\n",
       " 1080,\n",
       " 1083,\n",
       " 1086,\n",
       " 1089,\n",
       " 1092,\n",
       " 1095,\n",
       " 1098,\n",
       " 1101,\n",
       " 1104,\n",
       " 1107,\n",
       " 1110,\n",
       " 1113,\n",
       " 1116,\n",
       " 1119,\n",
       " 1122,\n",
       " 1125,\n",
       " 1128,\n",
       " 1131,\n",
       " 1134,\n",
       " 1137,\n",
       " 1140,\n",
       " 1143,\n",
       " 1146,\n",
       " 1149,\n",
       " 1152,\n",
       " 1155,\n",
       " 1158,\n",
       " 1161,\n",
       " 1164,\n",
       " 1167,\n",
       " 1170,\n",
       " 1173,\n",
       " 1176,\n",
       " 1179,\n",
       " 1182,\n",
       " 1185,\n",
       " 1188,\n",
       " 1191,\n",
       " 1194,\n",
       " 1197,\n",
       " 1200,\n",
       " 1203,\n",
       " 1206,\n",
       " 1209,\n",
       " 1212,\n",
       " 1215,\n",
       " 1218,\n",
       " 1221,\n",
       " 1224,\n",
       " 1227,\n",
       " 1230,\n",
       " 1233,\n",
       " 1236,\n",
       " 1239,\n",
       " 1242,\n",
       " 1245,\n",
       " 1248,\n",
       " 1251,\n",
       " 1254,\n",
       " 1257,\n",
       " 1260,\n",
       " 1263,\n",
       " 1266,\n",
       " 1269,\n",
       " 1272,\n",
       " 1275,\n",
       " 1278,\n",
       " 1281,\n",
       " 1284,\n",
       " 1287,\n",
       " 1290,\n",
       " 1293,\n",
       " 1296,\n",
       " 1299,\n",
       " 1302,\n",
       " 1305,\n",
       " 1308,\n",
       " 1311,\n",
       " 1314,\n",
       " 1317,\n",
       " 1320,\n",
       " 1323,\n",
       " 1326,\n",
       " 1329,\n",
       " 1332,\n",
       " 1335,\n",
       " 1338,\n",
       " 1341,\n",
       " 1344,\n",
       " 1347,\n",
       " 1350,\n",
       " 1353,\n",
       " 1356,\n",
       " 1359,\n",
       " 1362,\n",
       " 1365,\n",
       " 1368,\n",
       " 1371,\n",
       " 1374,\n",
       " 1377,\n",
       " 1380,\n",
       " 1383,\n",
       " 1386,\n",
       " 1389,\n",
       " 1392,\n",
       " 1395,\n",
       " 1398,\n",
       " 1401,\n",
       " 1404,\n",
       " 1407,\n",
       " 1410,\n",
       " 1413,\n",
       " 1416,\n",
       " 1419,\n",
       " 1422,\n",
       " 1425,\n",
       " 1428,\n",
       " 1431,\n",
       " 1434,\n",
       " 1437,\n",
       " 1440,\n",
       " 1443,\n",
       " 1446,\n",
       " 1449,\n",
       " 1452,\n",
       " 1455,\n",
       " 1458,\n",
       " 1461,\n",
       " 1464,\n",
       " 1467,\n",
       " 1470,\n",
       " 1473,\n",
       " 1476,\n",
       " 1479,\n",
       " 1482,\n",
       " 1485,\n",
       " 1488,\n",
       " 1491,\n",
       " 1494,\n",
       " 1497,\n",
       " 1500,\n",
       " 1503,\n",
       " 1506,\n",
       " 1509,\n",
       " 1512,\n",
       " 1515,\n",
       " 1518,\n",
       " 1521,\n",
       " 1524,\n",
       " 1527,\n",
       " 1530,\n",
       " 1533,\n",
       " 1536,\n",
       " 1539,\n",
       " 1542,\n",
       " 1545,\n",
       " 1548,\n",
       " 1551,\n",
       " 1554,\n",
       " 1557,\n",
       " 1560,\n",
       " 1563,\n",
       " 1566,\n",
       " 1569,\n",
       " 1572,\n",
       " 1575,\n",
       " 1578,\n",
       " 1581,\n",
       " 1584,\n",
       " 1587,\n",
       " 1590,\n",
       " 1593,\n",
       " 1596,\n",
       " 1599,\n",
       " 1602,\n",
       " 1605,\n",
       " 1608,\n",
       " 1611,\n",
       " 1614,\n",
       " 1617,\n",
       " 1620,\n",
       " 1623,\n",
       " 1626,\n",
       " 1629,\n",
       " 1632,\n",
       " 1635,\n",
       " 1638,\n",
       " 1641,\n",
       " 1644,\n",
       " 1647,\n",
       " 1650,\n",
       " 1653,\n",
       " 1656,\n",
       " 1659,\n",
       " 1662,\n",
       " 1665,\n",
       " 1668,\n",
       " 1671,\n",
       " 1674,\n",
       " 1677,\n",
       " 1680,\n",
       " 1683,\n",
       " 1686,\n",
       " 1689,\n",
       " 1692,\n",
       " 1695,\n",
       " 1698,\n",
       " 1701,\n",
       " 1704,\n",
       " 1707,\n",
       " 1710,\n",
       " 1713,\n",
       " 1716,\n",
       " 1719,\n",
       " 1722,\n",
       " 1725,\n",
       " 1728,\n",
       " 1731,\n",
       " 1734,\n",
       " 1737,\n",
       " 1740,\n",
       " 1743,\n",
       " 1746,\n",
       " 1749,\n",
       " 1752,\n",
       " 1755,\n",
       " 1758,\n",
       " 1761,\n",
       " 1764,\n",
       " 1767,\n",
       " 1770,\n",
       " 1773,\n",
       " 1776,\n",
       " 1779,\n",
       " 1782,\n",
       " 1785,\n",
       " 1788,\n",
       " 1791,\n",
       " 1794,\n",
       " 1797,\n",
       " 1800,\n",
       " 1803,\n",
       " 1806,\n",
       " 1809,\n",
       " 1812,\n",
       " 1815,\n",
       " 1818,\n",
       " 1821,\n",
       " 1824,\n",
       " 1827,\n",
       " 1830,\n",
       " 1833,\n",
       " 1836,\n",
       " 1839,\n",
       " 1842,\n",
       " 1845,\n",
       " 1848,\n",
       " 1851,\n",
       " 1854,\n",
       " 1857,\n",
       " 1860,\n",
       " 1863,\n",
       " 1866,\n",
       " 1869,\n",
       " 1872,\n",
       " 1875,\n",
       " 1878,\n",
       " 1881,\n",
       " 1884,\n",
       " 1887,\n",
       " 1890,\n",
       " 1893,\n",
       " 1896,\n",
       " 1899,\n",
       " 1902,\n",
       " 1905,\n",
       " 1908,\n",
       " 1911,\n",
       " 1914,\n",
       " 1917,\n",
       " 1920,\n",
       " 1923,\n",
       " 1926,\n",
       " 1929,\n",
       " 1932,\n",
       " 1935,\n",
       " 1938,\n",
       " 1941,\n",
       " 1944,\n",
       " 1947,\n",
       " 1950,\n",
       " 1953,\n",
       " 1956,\n",
       " 1959,\n",
       " 1962,\n",
       " 1965,\n",
       " 1968,\n",
       " 1971,\n",
       " 1974,\n",
       " 1977,\n",
       " 1980,\n",
       " 1983,\n",
       " 1986,\n",
       " 1989,\n",
       " 1992,\n",
       " 1995,\n",
       " 1998,\n",
       " 2001,\n",
       " 2004,\n",
       " 2007,\n",
       " 2010,\n",
       " 2013,\n",
       " 2016,\n",
       " 2019,\n",
       " 2022,\n",
       " 2025,\n",
       " 2028,\n",
       " 2031,\n",
       " 2034,\n",
       " 2037,\n",
       " 2040,\n",
       " 2043,\n",
       " 2046,\n",
       " 2049,\n",
       " 2052,\n",
       " 2055,\n",
       " 2058,\n",
       " 2061,\n",
       " 2064,\n",
       " 2067,\n",
       " 2070,\n",
       " 2073,\n",
       " 2076,\n",
       " 2079,\n",
       " 2082,\n",
       " 2085,\n",
       " 2088,\n",
       " 2091,\n",
       " 2094,\n",
       " 2097,\n",
       " 2100,\n",
       " 2103,\n",
       " 2106,\n",
       " 2109,\n",
       " 2112,\n",
       " 2115,\n",
       " 2118,\n",
       " 2121,\n",
       " 2124,\n",
       " 2127,\n",
       " 2130,\n",
       " 2133,\n",
       " 2136,\n",
       " 2139,\n",
       " 2142,\n",
       " 2145,\n",
       " 2148,\n",
       " 2151,\n",
       " 2154,\n",
       " 2157,\n",
       " 2160,\n",
       " 2163,\n",
       " 2166,\n",
       " 2169,\n",
       " 2172,\n",
       " 2175,\n",
       " 2178,\n",
       " 2181,\n",
       " 2184,\n",
       " 2187,\n",
       " 2190,\n",
       " 2193,\n",
       " 2196,\n",
       " 2199,\n",
       " 2202,\n",
       " 2205,\n",
       " 2208,\n",
       " 2211,\n",
       " 2214,\n",
       " 2217,\n",
       " 2220,\n",
       " 2223,\n",
       " 2226,\n",
       " 2229,\n",
       " 2232,\n",
       " 2235,\n",
       " 2238,\n",
       " 2241,\n",
       " 2244,\n",
       " 2247,\n",
       " 2250,\n",
       " 2253,\n",
       " 2256,\n",
       " 2259,\n",
       " 2262,\n",
       " 2265,\n",
       " 2268,\n",
       " 2271,\n",
       " 2274,\n",
       " 2277,\n",
       " 2280,\n",
       " 2283,\n",
       " 2286,\n",
       " 2289,\n",
       " 2292,\n",
       " 2295,\n",
       " 2298,\n",
       " 2301,\n",
       " 2304,\n",
       " 2307,\n",
       " 2310,\n",
       " 2313,\n",
       " 2316,\n",
       " 2319,\n",
       " 2322,\n",
       " 2325,\n",
       " 2328,\n",
       " 2331,\n",
       " 2334,\n",
       " 2337,\n",
       " 2340,\n",
       " 2343,\n",
       " 2346,\n",
       " 2349,\n",
       " 2352,\n",
       " 2355,\n",
       " 2358,\n",
       " 2361,\n",
       " 2364,\n",
       " 2367,\n",
       " 2370,\n",
       " 2373,\n",
       " 2376,\n",
       " 2379,\n",
       " 2382,\n",
       " 2385,\n",
       " 2388,\n",
       " 2391,\n",
       " 2394,\n",
       " 2397,\n",
       " 2400,\n",
       " 2403,\n",
       " 2406,\n",
       " 2409,\n",
       " 2412,\n",
       " 2415,\n",
       " 2418,\n",
       " 2421,\n",
       " 2424,\n",
       " 2427,\n",
       " 2430,\n",
       " 2433,\n",
       " 2436,\n",
       " 2439,\n",
       " 2442,\n",
       " 2445,\n",
       " 2448,\n",
       " 2451,\n",
       " 2454,\n",
       " 2457,\n",
       " 2460,\n",
       " 2463,\n",
       " 2466,\n",
       " 2469,\n",
       " 2472,\n",
       " 2475,\n",
       " 2478,\n",
       " 2481,\n",
       " 2484,\n",
       " 2487,\n",
       " 2490,\n",
       " 2493,\n",
       " 2496,\n",
       " 2499,\n",
       " 2502,\n",
       " 2505,\n",
       " 2508,\n",
       " 2511,\n",
       " 2514,\n",
       " 2517,\n",
       " 2520,\n",
       " 2523,\n",
       " 2526,\n",
       " 2529,\n",
       " 2532,\n",
       " 2535,\n",
       " 2538,\n",
       " 2541,\n",
       " 2544,\n",
       " 2547,\n",
       " 2550,\n",
       " 2553,\n",
       " 2556,\n",
       " 2559,\n",
       " 2562,\n",
       " 2565,\n",
       " 2568,\n",
       " 2571,\n",
       " 2574,\n",
       " 2577,\n",
       " 2580,\n",
       " 2583,\n",
       " 2586,\n",
       " 2589,\n",
       " 2592,\n",
       " 2595,\n",
       " 2598,\n",
       " 2601,\n",
       " 2604,\n",
       " 2607,\n",
       " 2610,\n",
       " 2613,\n",
       " 2616,\n",
       " 2619,\n",
       " 2622,\n",
       " 2625,\n",
       " 2628,\n",
       " 2631,\n",
       " 2634,\n",
       " 2637,\n",
       " 2640,\n",
       " 2643,\n",
       " 2646,\n",
       " 2649,\n",
       " 2652,\n",
       " 2655,\n",
       " 2658,\n",
       " 2661,\n",
       " 2664,\n",
       " 2667,\n",
       " 2670,\n",
       " 2673,\n",
       " 2676,\n",
       " 2679,\n",
       " 2682,\n",
       " 2685,\n",
       " 2688,\n",
       " 2691,\n",
       " 2694,\n",
       " 2697,\n",
       " 2700,\n",
       " 2703,\n",
       " 2706,\n",
       " 2709,\n",
       " 2712,\n",
       " 2715,\n",
       " 2718,\n",
       " 2721,\n",
       " 2724,\n",
       " 2727,\n",
       " 2730,\n",
       " 2733,\n",
       " 2736,\n",
       " 2739,\n",
       " 2742,\n",
       " 2745,\n",
       " 2748,\n",
       " 2751,\n",
       " 2754,\n",
       " 2757,\n",
       " 2760,\n",
       " 2763,\n",
       " 2766,\n",
       " 2769,\n",
       " 2772,\n",
       " 2775,\n",
       " 2778,\n",
       " 2781,\n",
       " 2784,\n",
       " 2787,\n",
       " 2790,\n",
       " 2793,\n",
       " 2796,\n",
       " 2799,\n",
       " 2802,\n",
       " 2805,\n",
       " 2808,\n",
       " 2811,\n",
       " 2814,\n",
       " 2817,\n",
       " 2820,\n",
       " 2823,\n",
       " 2826,\n",
       " 2829,\n",
       " 2832,\n",
       " 2835,\n",
       " 2838,\n",
       " 2841,\n",
       " 2844,\n",
       " 2847,\n",
       " 2850,\n",
       " 2853,\n",
       " 2856,\n",
       " 2859,\n",
       " 2862,\n",
       " 2865,\n",
       " 2868,\n",
       " 2871,\n",
       " 2874,\n",
       " 2877,\n",
       " 2880,\n",
       " 2883,\n",
       " 2886,\n",
       " 2889,\n",
       " 2892,\n",
       " 2895,\n",
       " 2898,\n",
       " 2901,\n",
       " 2904,\n",
       " 2907,\n",
       " 2910,\n",
       " 2913,\n",
       " 2916,\n",
       " 2919,\n",
       " 2922,\n",
       " 2925,\n",
       " 2928,\n",
       " 2931,\n",
       " 2934,\n",
       " 2937,\n",
       " 2940,\n",
       " 2943,\n",
       " 2946,\n",
       " 2949,\n",
       " 2952,\n",
       " 2955,\n",
       " 2958,\n",
       " 2961,\n",
       " 2964,\n",
       " 2967,\n",
       " 2970,\n",
       " 2973,\n",
       " 2976,\n",
       " 2979,\n",
       " 2982,\n",
       " 2985,\n",
       " 2988,\n",
       " 2991,\n",
       " 2994,\n",
       " 2997]"
      ]
     },
     "execution_count": 60,
     "metadata": {},
     "output_type": "execute_result"
    }
   ],
   "source": [
    "[i*3 for i in range(1000)]"
   ]
  },
  {
   "cell_type": "code",
   "execution_count": 61,
   "id": "97cdb032",
   "metadata": {},
   "outputs": [
    {
     "data": {
      "text/plain": [
       "{1: 2, 2: 4, 6: 12, 7: 14, 9: 18}"
      ]
     },
     "execution_count": 61,
     "metadata": {},
     "output_type": "execute_result"
    }
   ],
   "source": [
    "{ i : i*2 for i in [1,2,6,7,9]}"
   ]
  },
  {
   "cell_type": "code",
   "execution_count": 8,
   "id": "870975ff",
   "metadata": {},
   "outputs": [
    {
     "name": "stdout",
     "output_type": "stream",
     "text": [
      "D:/Documents/ICBF/grafo.html\n"
     ]
    }
   ],
   "source": [
    "\n",
    "import networkx as nx\n",
    "import pandas as pd\n",
    "from pyvis.network import Network\n",
    "\n",
    "#%%\n",
    "path = 'D:/Documents/ICBF/'\n",
    "\n",
    "data = pd.read_excel(path + 'MIEMBROS_MALLAS_T5 - Copy (2).xlsx')\n",
    "#%%\n",
    "\n",
    "data.iloc[:,0]\n",
    "#%%\n",
    "G = nx.Graph()\n",
    "\n",
    "COLORES = { 'IDENTIFICACION' : ['#1021e3', 30]\n",
    ", 'TELEFONO' :  ['#1021e3', 1]\n",
    ", 'CORREO': ['#ed8105', 4] }\n",
    "#%%\n",
    "\n",
    "aristas1 = list(zip(data['NOMBRE'], data['ID'], [{'title' : 'IDENTIFICACION', 'color' : COLORES['IDENTIFICACION'][0], 'value' : COLORES['IDENTIFICACION'][1]} for _ in data['NOMBRE']]))\n",
    "aristas2 = list(zip(data['NOMBRE'], data['TELEFONO'], [{'title' : 'TELEFONO', 'color' : COLORES['TELEFONO'][0], 'value' : COLORES['TELEFONO'][1]} for _ in data['NOMBRE']]))\n",
    "aristas3 = list(zip(data['NOMBRE'], data['CORREO'], [{'title' : 'CORREO', 'color' : COLORES['CORREO'][0], 'value' : COLORES['CORREO'][1]} for _ in data['NOMBRE']]))\n",
    "\n",
    "#%%\n",
    "\n",
    "G.add_edges_from(aristas1)\n",
    "G.add_edges_from(aristas2)\n",
    "G.add_edges_from(aristas3)\n",
    "\n",
    "#%%\n",
    "#nx.set_node_attributes(G, pd.Series(data.TELEFONO, index=data.ID).to_dict(), 'name')\n",
    "\n",
    "listab = ['MARITZA PINZÓN CAMACHO', 'WILFRAN DIAZ LARA', 'MARIO GERMAN GARCÍA GARCÍA']\n",
    "\n",
    "for nodo in lista:\n",
    "    try:\n",
    "        G.nodes[nodo]['color'] = 'green'\n",
    "        G.nodes[nodo]['shape'] = 'star'\n",
    "    except:\n",
    "        pass\n",
    "\n",
    "#%%\n",
    "ccon = sorted(list(nx.connected_components(G)),key = len, reverse = True)\n",
    "\n",
    "#%%\n",
    "\n",
    "nt = Network(height = 1000, width = 1000, directed = False)\n",
    "nt.toggle_physics(False)\n",
    "nt.show_buttons( filter_ = ['physics'])\n",
    "\n",
    "nt.from_nx(G)\n",
    "nt.show(path + 'grafo.html', notebook=False)"
   ]
  },
  {
   "cell_type": "code",
   "execution_count": null,
   "id": "a7ab6416",
   "metadata": {},
   "outputs": [],
   "source": [
    "nt = Network(height = 1000, width = 1000, directed = False)\n",
    "nt.toggle_physics(False)\n",
    "nt.show_buttons( filter_ = ['physics'])\n"
   ]
  }
 ],
 "metadata": {
  "kernelspec": {
   "display_name": "Python 3 (ipykernel)",
   "language": "python",
   "name": "python3"
  },
  "language_info": {
   "codemirror_mode": {
    "name": "ipython",
    "version": 3
   },
   "file_extension": ".py",
   "mimetype": "text/x-python",
   "name": "python",
   "nbconvert_exporter": "python",
   "pygments_lexer": "ipython3",
   "version": "3.10.9"
  }
 },
 "nbformat": 4,
 "nbformat_minor": 5
}
