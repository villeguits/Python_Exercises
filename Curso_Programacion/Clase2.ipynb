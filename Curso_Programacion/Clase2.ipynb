{
 "cells": [
  {
   "cell_type": "markdown",
   "id": "99c78e60",
   "metadata": {},
   "source": [
    "# Lo Básico de Python\n",
    "<p>Python es un lenguaje cuya sintaxis es muy intuitiva, eso lo hace muy práctico, es robusto, y puede ejecutarse en cualquier computador siempre que se tenga su intérprete. Vamos a repasar lo básico de este lenguaje y ver sus componentes.</p>\n",
    "\n",
    "\n",
    "1. ## Variables:\n",
    "\n",
    "    \n",
    "    <p>Python permite que una variable(referencia a un dato) tome cualquier valor sin predeterminar su tipo. Las variables pueden definirse, asignarse y modificarse. Usualmente usando el operador de asignación, determinado por el símbolo de igualdad (=). Los tipos de datos que vamos a usar, por el momento, son:</p>\n",
    "    \n",
    "    \n",
    "     1. ### Booleanos:\n",
    "         <p>Admiten los dos valores de verdad, True o False. Note que la primera letra de esos dos valores de verdad están capitalizadas.</p>\n",
    "     2. ### Enteros:\n",
    "         <p>Números enteros de toda la vida.</p>\n",
    "     3. ### Flotantes:\n",
    "         <p>Números decimales, en teoría cualquiér real que pueda representarse de forma finita.</p>\n",
    "     4. ### Cadenas:\n",
    "         <p>Sucesiones de carácteres, o sea, de casi cualquier cosa que pueda usted tipear en el teclado.</p>\n",
    "         <p>Las cadenas se inicializan usando las comillas simples o dobles. Todo lo que esté entre las comillas, será parte de la cadena.</p>\n",
    "     <p>Es posible cambiar el tipo de una variable: Por ejemplo, si mi variable es booleana o numérica, usando la funcion **str** podemos pasarla a tipo cadena. Si nuestra variable es una cadena que tiene exactamente la forma de una variable entera, podemos usar **int**, o si es flotante **float**.</p>\n",
    "2. ## Operadores:\n",
    "\n",
    "\n",
    "    <p>Uno puede operar variables dependiendo de su tipo. Por ejemplo, tenemos operadores:<p>\n",
    "    \n",
    "    \n",
    "    1. ### Comparación:\n",
    "        <p>Operadores que comparan dos valores(variables o constantes) de un mismo tipo: $<,>,==,<=,>=$ </p>\n",
    "    2. ### Booleanos:\n",
    "        <p>Operaciones sobre valores de verdad not, and, or. Estos permiten generar proposiciones mucho más complejas. </p>\n",
    "    3. ### Aritméticos:\n",
    "        <p>Operaciones sobre valores numéricos(por ahora): +,-,*,**,/,//,% </p><br>\n",
    "            <p>El único que necesita explicación es //,%. Resulta que si uno divide en los enteros, uno obtiene dos valores, el cociente y el residuo. Dados números enteros $a,b$, con $b\\neq 0$, se tiene que existen números $q$ y $r<q$ tales que $a = q\\dot b+r$. En Python $q = a//b$ y $r=a\\%b$</p>\n",
    "            \n",
    "    4. ### Cadenas:\n",
    "3. ## Estructuras de Control:\n",
    "    <p> El flujo de python está determinado por estas estructuras. Usaremos dos tipos, de condición y de iteración.</p>\n",
    "    \n",
    "    1. ### Condicional (If):\n",
    "            \n",
    "            \n",
    "     ```python\n",
    "     if proposicion1:\n",
    "        #si la proposicion es verdad se ejecuta todo lo que esté dentro\n",
    "     elif proposicion2:\n",
    "        #si proposicion1 no es verdad pero proposicion2 si lo es, se ejecuta aca\n",
    "     else:\n",
    "        #si nada es verdad, entramos aca\n",
    "     ```\n",
    "    2. ### Mientras (while):\n",
    "            \n",
    "            \n",
    "     ```python\n",
    "     while proposicion:\n",
    "            #Ejecuta mientras la proposición sea verdadera\n",
    "     ```\n",
    "    3. ### Para (for):\n",
    "            \n",
    "     ```python\n",
    "     for var in secuencia:\n",
    "            #Ejecuta variando la variable var sobre toda la secuencia\n",
    "     ```\n",
    "     Una secuencia en python puede ser, por el momento, una lista o un rango.   \n",
    "     La función range(a) es un iterable de los números enteros entre 0 inclusive y a.\n",
    "     \n",
    "     #### Range:\n",
    "     \n",
    "     La función range tiene 3 tipos de uso. Podemos pasarle:   \n",
    "         \n",
    "     1. Un parámetro entero positivo $a$.\n",
    "     \n",
    "     \n",
    "    ```python\n",
    "    for x in range(a):\n",
    "        print(x)\n",
    "    ```  \n",
    "    ese código imprimiría los números $0,1,\\cdots ,a-1$. Note que range es **exclusivo**, o sea no toma $a$.\n",
    "    \n",
    "     2. Dos parámetros enteros $a\\leq b$.\n",
    "    ```python\n",
    "    for x in range(a,b):\n",
    "        print(x)\n",
    "    ```  \n",
    "    ese código imprimiría los números $a,a+1,\\cdots ,b-1$. Note que range es **exclusivo**, o sea no toma $b$, pero es **inclusivo** en $a$.\n",
    "     \n",
    "     3. Tres parámetros enteros $a\\leq b$ y $c>0$.\n",
    "    ```python\n",
    "    for x in range(a,b,c):\n",
    "        print(x)\n",
    "    ```  \n",
    "    ese código imprimiría los números $a,a+c,a+2c,a+3c\\cdots $ mientras que el número $a+\\ell \\cdot c$ sea menor a $b$. Note que range es **exclusivo**, o sea no toma $b$, pero es **inclusivo** en $a$.<br>\n",
    "    Podemos también iterar al revés, para ello $a>b$ y tenemos que pasar $-c$. Por ejemplo:\n",
    "    \n",
    "    ```python\n",
    "    for x in range(10,-2,-1):\n",
    "        print(x)\n",
    "    ```   \n",
    "    imprimiría $10,9,8,7,\\cdots ,-1$.\n",
    "            \n",
    "4. ## Funciones:\n",
    "    <p>Tienen dos tipos de uso, usarlas como una caja a la que se le pasan parámetros(datos) y retorna un resultado (dato o datos) o como un bloque de código que se repetirá muchas veces. Permite que el código sea más compacto y legible.</p>\n",
    "    <br>\n",
    "    La sintaxis de una función es de la siguiente manera\n",
    "    \n",
    "    \n",
    "    ```python\n",
    "    def nombre_funcion(param1,param2,...,param3):\n",
    "        #Todo lo que uno defina acá vivirá solo acá\n",
    "        return resultado\n",
    "    ```\n",
    "    El retorno es opcional, si no hay nada que retornar."
   ]
  },
  {
   "cell_type": "code",
   "execution_count": 2,
   "id": "7c8a2251",
   "metadata": {},
   "outputs": [],
   "source": [
    "a = \"Hola\""
   ]
  },
  {
   "cell_type": "code",
   "execution_count": 3,
   "id": "c8cbe23a",
   "metadata": {},
   "outputs": [
    {
     "name": "stdout",
     "output_type": "stream",
     "text": [
      "Hola\n"
     ]
    }
   ],
   "source": [
    "print(a)"
   ]
  },
  {
   "cell_type": "code",
   "execution_count": 10,
   "id": "1ccec6f5",
   "metadata": {},
   "outputs": [],
   "source": [
    "prop = False"
   ]
  },
  {
   "cell_type": "code",
   "execution_count": 7,
   "id": "2aa7569e",
   "metadata": {},
   "outputs": [
    {
     "data": {
      "text/plain": [
       "False"
      ]
     },
     "execution_count": 7,
     "metadata": {},
     "output_type": "execute_result"
    }
   ],
   "source": [
    "prop"
   ]
  },
  {
   "cell_type": "code",
   "execution_count": 25,
   "id": "7d333798",
   "metadata": {},
   "outputs": [
    {
     "name": "stdout",
     "output_type": "stream",
     "text": [
      "['C', 'a', 's', 'a']\n"
     ]
    }
   ],
   "source": [
    "var = \"Casa\"\n",
    "varl = list(var)\n",
    "print(varl)"
   ]
  },
  {
   "cell_type": "code",
   "execution_count": 13,
   "id": "19b0552f",
   "metadata": {},
   "outputs": [
    {
     "name": "stdout",
     "output_type": "stream",
     "text": [
      "as\n"
     ]
    }
   ],
   "source": [
    "print(var[1:3])"
   ]
  },
  {
   "cell_type": "code",
   "execution_count": 14,
   "id": "6cb5cf55",
   "metadata": {},
   "outputs": [
    {
     "name": "stdout",
     "output_type": "stream",
     "text": [
      "5\n"
     ]
    }
   ],
   "source": [
    "var = 5\n",
    "print(var)"
   ]
  },
  {
   "cell_type": "code",
   "execution_count": 15,
   "id": "5d995873",
   "metadata": {},
   "outputs": [
    {
     "data": {
      "text/plain": [
       "int"
      ]
     },
     "execution_count": 15,
     "metadata": {},
     "output_type": "execute_result"
    }
   ],
   "source": [
    "type(var)"
   ]
  },
  {
   "cell_type": "code",
   "execution_count": 24,
   "id": "c80d792b",
   "metadata": {},
   "outputs": [
    {
     "name": "stdout",
     "output_type": "stream",
     "text": [
      "12.0\n",
      "<class 'str'>\n",
      "<class 'float'>\n"
     ]
    }
   ],
   "source": [
    "var = \"12\"\n",
    "varn = float(var)\n",
    "print(float(var))\n",
    "print(type(var))\n",
    "print(type(varn))\n"
   ]
  },
  {
   "cell_type": "code",
   "execution_count": 30,
   "id": "425c10e1",
   "metadata": {
    "scrolled": true
   },
   "outputs": [
    {
     "name": "stdout",
     "output_type": "stream",
     "text": [
      "True\n"
     ]
    }
   ],
   "source": [
    "a = 12\n",
    "b = 21\n",
    "print(a<b) # una proposición"
   ]
  },
  {
   "cell_type": "markdown",
   "id": "70b19095",
   "metadata": {},
   "source": [
    "### Podemos comparar cadenas: por ejemplo podemos decir si una letra está en minúscula o mayúscula. La comparación de las cadenas, se hace de forma lexicográfica."
   ]
  },
  {
   "cell_type": "code",
   "execution_count": 39,
   "id": "00c13feb",
   "metadata": {},
   "outputs": [
    {
     "name": "stdout",
     "output_type": "stream",
     "text": [
      "True\n"
     ]
    }
   ],
   "source": [
    "a = \"A\"\n",
    "b = \"a\"\n",
    "print(\"A\"<=b<=\"Z\" or \"a\"<=b<=\"z\")#Si esta proposición es verdadera, quiere decir que a es mayuscula"
   ]
  },
  {
   "cell_type": "code",
   "execution_count": 40,
   "id": "21d7e617",
   "metadata": {},
   "outputs": [],
   "source": [
    "a = True\n",
    "b = 3==5"
   ]
  },
  {
   "cell_type": "code",
   "execution_count": 42,
   "id": "a98ad5ae",
   "metadata": {},
   "outputs": [
    {
     "name": "stdout",
     "output_type": "stream",
     "text": [
      "True\n"
     ]
    }
   ],
   "source": [
    "print(not (a and b))"
   ]
  },
  {
   "cell_type": "code",
   "execution_count": 55,
   "id": "6ac6565e",
   "metadata": {},
   "outputs": [
    {
     "name": "stdout",
     "output_type": "stream",
     "text": [
      "2 2\n",
      "True\n"
     ]
    }
   ],
   "source": [
    "#Operaciones Aritméticas\n",
    "a = 10\n",
    "b = 4\n",
    "q = a//b #cociente\n",
    "r = a%b # residuo\n",
    "## a = b*q+r\n",
    "print(a//b,a%b)\n",
    "print(a%2 == 0) # a es par"
   ]
  },
  {
   "cell_type": "code",
   "execution_count": 58,
   "id": "d43d9f80",
   "metadata": {},
   "outputs": [
    {
     "name": "stdout",
     "output_type": "stream",
     "text": [
      "Hola a todos\n",
      "HolaHolaHolaHolaHolaHolaHolaHolaHolaHola\n"
     ]
    }
   ],
   "source": [
    "a = \"Hola\"\n",
    "b = \" a todos\"\n",
    "print(a+b)\n",
    "print(a*10)"
   ]
  },
  {
   "cell_type": "code",
   "execution_count": 59,
   "id": "88e9d09e",
   "metadata": {},
   "outputs": [
    {
     "name": "stdout",
     "output_type": "stream",
     "text": [
      "a = 3*24491+2\n"
     ]
    }
   ],
   "source": [
    "a = 73475\n",
    "if a%3==0:\n",
    "    print(\"a = 3*\"+str(a//3))\n",
    "elif a%3==1:\n",
    "    print(\"a = 3*\"+str(a//3)+\"+1\")\n",
    "else:\n",
    "    print(\"a = 3*\"+str(a//3)+\"+2\")"
   ]
  },
  {
   "cell_type": "code",
   "execution_count": 60,
   "id": "aa62befe",
   "metadata": {},
   "outputs": [
    {
     "data": {
      "text/plain": [
       "73475"
      ]
     },
     "execution_count": 60,
     "metadata": {},
     "output_type": "execute_result"
    }
   ],
   "source": [
    "3*24491+2"
   ]
  },
  {
   "cell_type": "code",
   "execution_count": 75,
   "id": "c7a3696c",
   "metadata": {
    "scrolled": true
   },
   "outputs": [
    {
     "name": "stdout",
     "output_type": "stream",
     "text": [
      "0\n",
      "2\n",
      "4\n",
      "6\n",
      "8\n",
      "10\n",
      "12\n",
      "14\n",
      "16\n",
      "18\n",
      "20\n",
      "20\n",
      "18\n",
      "16\n",
      "14\n",
      "12\n",
      "10\n",
      "8\n",
      "6\n",
      "4\n",
      "2\n",
      "0\n"
     ]
    }
   ],
   "source": [
    "#Quiero iterar los números enteros pares del 0 al 20 e imprimirlos linea a linea\n",
    "x = 0\n",
    "while x<=20:\n",
    "    print(x)\n",
    "    x = x+2\n",
    "#lo mismo pero con for\n",
    "for x in range(20,-1,-2):\n",
    "    print(x)\n"
   ]
  },
  {
   "cell_type": "markdown",
   "id": "b75dd2ed",
   "metadata": {},
   "source": [
    "## Ejercicio 1\n",
    "\n",
    "<p>Dado un número entero no-negativo $n$, encuentre el número $k$ tal que $n=2^k\\cdot m$, con $m$ un número impar. **Ex.** Si $n=12$, entonces devuelva $k=2$ porque $12=2^2\\cdot 3$.</p>\n"
   ]
  },
  {
   "cell_type": "code",
   "execution_count": 68,
   "id": "cb2a12fb",
   "metadata": {},
   "outputs": [
    {
     "name": "stdout",
     "output_type": "stream",
     "text": [
      "10\n"
     ]
    }
   ],
   "source": [
    "# Mientras mi número (n) sea par, le sumo uno al resultado (o sea: k)\n",
    "n = 1024\n",
    "k = 0\n",
    "while n%2==0:\n",
    "    k=k+1\n",
    "    n = n//2\n",
    "print(k)\n",
    "    "
   ]
  },
  {
   "cell_type": "code",
   "execution_count": 72,
   "id": "30f0b28a",
   "metadata": {},
   "outputs": [
    {
     "name": "stdout",
     "output_type": "stream",
     "text": [
      "5\n",
      "6\n",
      "7\n",
      "8\n",
      "9\n"
     ]
    }
   ],
   "source": [
    "L = [0,2,4,6,8,10]\n",
    "L = \"Casa\"\n",
    "for x in range(5,10):\n",
    "    print(x)"
   ]
  },
  {
   "cell_type": "markdown",
   "id": "af1b1528",
   "metadata": {},
   "source": [
    "### Ejercicio 2\n",
    "<p>Dado un número entero no negativo $n$, cree un código que devuelva el número pero leído de derecha a izquierda. **Ex:** Si $n=832$, entonces su programa debe imprimir $238$.</p>"
   ]
  },
  {
   "cell_type": "code",
   "execution_count": 82,
   "id": "de17e6ea",
   "metadata": {
    "scrolled": true
   },
   "outputs": [
    {
     "name": "stdout",
     "output_type": "stream",
     "text": [
      "942824838\n",
      "942824838\n",
      "942824838\n",
      "942824838\n",
      "942824838\n"
     ]
    }
   ],
   "source": [
    "# La solucion donde convierto mi número a cadena y la itero al revés\n",
    "n = 838428249\n",
    "n_str = str(n)\n",
    "#iterar sobre los caracteres\n",
    "n_rev = \"\"\n",
    "for carac in n_str:\n",
    "    n_rev = carac+n_rev\n",
    "print(n_rev)\n",
    "#iterar sobre los indices\n",
    "n_rev = \"\"\n",
    "#el tamaño de una cadena/lista se puede calcular con la función len\n",
    "for i in range(len(n_str)):\n",
    "    n_rev = n_str[i]+n_rev\n",
    "print(n_rev)\n",
    "#iterar sobre los índices al revés\n",
    "n_rev = \"\"\n",
    "#el tamaño de una cadena/lista se puede calcular con la función len\n",
    "for i in range(len(n_str)-1,-1,-1):\n",
    "    n_rev = n_rev+n_str[i]\n",
    "print(n_rev)\n",
    "# Mixto entre enteros y cadena\n",
    "nn = n\n",
    "n_rev = \"\"\n",
    "while nn>0:\n",
    "    ult_dig = nn%10\n",
    "    n_rev = n_rev+str(ult_dig)\n",
    "    nn = nn//10\n",
    "print(n_rev)\n",
    "#Siempre tengo números enteros\n",
    "nn = n\n",
    "n_rev = 0\n",
    "while nn>0:\n",
    "    ult_dig = nn%10\n",
    "    n_rev = 10*n_rev+ult_dig\n",
    "    nn = nn//10\n",
    "print(n_rev)\n"
   ]
  },
  {
   "cell_type": "markdown",
   "id": "ac1e9ff2",
   "metadata": {},
   "source": [
    "Si yo quisiera repetidamente hacer reversa del número, lo mejor es hacer una función que se pase el parámetro $n$ y devuelva el número al revés. De esa manera, el código queda mucho más legible."
   ]
  },
  {
   "cell_type": "code",
   "execution_count": 85,
   "id": "f8764778",
   "metadata": {},
   "outputs": [
    {
     "name": "stdout",
     "output_type": "stream",
     "text": [
      "1\n",
      "2\n",
      "3\n",
      "4\n",
      "5\n",
      "6\n",
      "7\n",
      "8\n",
      "9\n",
      "1\n",
      "11\n",
      "21\n",
      "31\n",
      "41\n",
      "51\n",
      "61\n",
      "71\n",
      "81\n",
      "91\n",
      "2\n",
      "12\n",
      "22\n",
      "32\n",
      "42\n",
      "52\n",
      "62\n",
      "72\n",
      "82\n",
      "92\n",
      "3\n",
      "13\n",
      "23\n",
      "33\n",
      "43\n",
      "53\n",
      "63\n",
      "73\n",
      "83\n",
      "93\n",
      "4\n",
      "14\n",
      "24\n",
      "34\n",
      "44\n",
      "54\n",
      "64\n",
      "74\n",
      "84\n",
      "94\n",
      "5\n",
      "15\n",
      "25\n",
      "35\n",
      "45\n",
      "55\n",
      "65\n",
      "75\n",
      "85\n",
      "95\n",
      "6\n",
      "16\n",
      "26\n",
      "36\n",
      "46\n",
      "56\n",
      "66\n",
      "76\n",
      "86\n",
      "96\n",
      "7\n",
      "17\n",
      "27\n",
      "37\n",
      "47\n",
      "57\n",
      "67\n",
      "77\n",
      "87\n",
      "97\n",
      "8\n",
      "18\n",
      "28\n",
      "38\n",
      "48\n",
      "58\n",
      "68\n",
      "78\n",
      "88\n",
      "98\n",
      "9\n",
      "19\n",
      "29\n",
      "39\n",
      "49\n",
      "59\n",
      "69\n",
      "79\n",
      "89\n",
      "99\n",
      "1\n"
     ]
    }
   ],
   "source": [
    "def revNumero(n):\n",
    "    nn = n\n",
    "    n_rev = 0\n",
    "    while nn>0:\n",
    "        ult_dig = nn%10\n",
    "        n_rev = 10*n_rev+ult_dig\n",
    "        nn = nn//10\n",
    "    return n_rev\n",
    "for i in range(1,101):\n",
    "    print(revNumero(i))"
   ]
  },
  {
   "cell_type": "markdown",
   "id": "84f6de3c",
   "metadata": {},
   "source": [
    "## Ejercicio 3\n",
    "Cree una función que dada una pareja ordenada $(x,y)\\in \\mathbb{R}^2$ determine si esa pareja está dentro del círculo centrado en $(0,0)$ de radio $1$. Es decir, su función debe retornar la proposición $x^2+y^2<1^2=1$. <br>\n",
    "Genere $N=100$ parejas ordenadas aleatorias dentro del cuadrado de centro $(0,0)$ con lados de tamaño $2$. Compute la fracción # de parejas que caen dentro del círculo / N y note que cuando $N$ crece, esa fracción se acerca a $\\pi /4 $."
   ]
  },
  {
   "cell_type": "code",
   "execution_count": 1,
   "id": "593579cf",
   "metadata": {},
   "outputs": [
    {
     "name": "stdout",
     "output_type": "stream",
     "text": [
      "3.142308\n",
      "CPU times: user 1 µs, sys: 0 ns, total: 1 µs\n",
      "Wall time: 2.15 µs\n"
     ]
    }
   ],
   "source": [
    "def estaCirculo(x,y):\n",
    "    return x**2+y**2<1\n",
    "from random import uniform # uniform(a,b)--> devuelve un número entre a y b inclusive\n",
    "N = 1000000\n",
    "num = 0\n",
    "for i in range(N):\n",
    "    x = uniform(-1,1)\n",
    "    y = uniform(-1,1)\n",
    "    if estaCirculo(x,y):\n",
    "        num = num+1\n",
    "print(num/N*4)\n",
    "%time\n"
   ]
  },
  {
   "cell_type": "code",
   "execution_count": null,
   "id": "bf5f1790",
   "metadata": {},
   "outputs": [],
   "source": []
  }
 ],
 "metadata": {
  "kernelspec": {
   "display_name": "Python 3 (ipykernel)",
   "language": "python",
   "name": "python3"
  },
  "language_info": {
   "codemirror_mode": {
    "name": "ipython",
    "version": 3
   },
   "file_extension": ".py",
   "mimetype": "text/x-python",
   "name": "python",
   "nbconvert_exporter": "python",
   "pygments_lexer": "ipython3",
   "version": "3.9.13"
  }
 },
 "nbformat": 4,
 "nbformat_minor": 5
}
