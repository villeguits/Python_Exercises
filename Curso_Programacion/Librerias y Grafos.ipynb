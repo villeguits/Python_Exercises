{
 "cells": [
  {
   "cell_type": "markdown",
   "id": "fafe3944",
   "metadata": {},
   "source": [
    "#### Como importar librerias"
   ]
  },
  {
   "cell_type": "code",
   "execution_count": 1,
   "id": "9792917f",
   "metadata": {},
   "outputs": [],
   "source": [
    "import pandas as pd\n",
    "import networkx as nx"
   ]
  },
  {
   "cell_type": "code",
   "execution_count": 2,
   "id": "10d36c6b",
   "metadata": {},
   "outputs": [],
   "source": [
    "datos = pd.read_excel(r'D:\\Documents\\BOCC\\Red.xlsx', sheet_name = 'Hoja4')"
   ]
  },
  {
   "cell_type": "code",
   "execution_count": 3,
   "id": "3de4fb9f",
   "metadata": {},
   "outputs": [
    {
     "data": {
      "text/html": [
       "<div>\n",
       "<style scoped>\n",
       "    .dataframe tbody tr th:only-of-type {\n",
       "        vertical-align: middle;\n",
       "    }\n",
       "\n",
       "    .dataframe tbody tr th {\n",
       "        vertical-align: top;\n",
       "    }\n",
       "\n",
       "    .dataframe thead th {\n",
       "        text-align: right;\n",
       "    }\n",
       "</style>\n",
       "<table border=\"1\" class=\"dataframe\">\n",
       "  <thead>\n",
       "    <tr style=\"text-align: right;\">\n",
       "      <th></th>\n",
       "      <th>ID</th>\n",
       "      <th>NOMBRE</th>\n",
       "      <th>TELEFONO</th>\n",
       "      <th>CORREO</th>\n",
       "    </tr>\n",
       "  </thead>\n",
       "  <tbody>\n",
       "    <tr>\n",
       "      <th>0</th>\n",
       "      <td>1</td>\n",
       "      <td>ADAN URIBE</td>\n",
       "      <td>9999171</td>\n",
       "      <td>adan_ur@gmail.com</td>\n",
       "    </tr>\n",
       "    <tr>\n",
       "      <th>1</th>\n",
       "      <td>2</td>\n",
       "      <td>ADRIAN KAUFFMANN CRUZ</td>\n",
       "      <td>9999117</td>\n",
       "      <td>adrian_@outlook.com</td>\n",
       "    </tr>\n",
       "    <tr>\n",
       "      <th>2</th>\n",
       "      <td>3</td>\n",
       "      <td>ALEJANDRO MONTOYA</td>\n",
       "      <td>999970</td>\n",
       "      <td>alejand@outlook.es</td>\n",
       "    </tr>\n",
       "  </tbody>\n",
       "</table>\n",
       "</div>"
      ],
      "text/plain": [
       "   ID                 NOMBRE  TELEFONO               CORREO\n",
       "0   1             ADAN URIBE   9999171    adan_ur@gmail.com\n",
       "1   2  ADRIAN KAUFFMANN CRUZ   9999117  adrian_@outlook.com\n",
       "2   3      ALEJANDRO MONTOYA    999970   alejand@outlook.es"
      ]
     },
     "execution_count": 3,
     "metadata": {},
     "output_type": "execute_result"
    }
   ],
   "source": [
    "datos.head(3)"
   ]
  },
  {
   "cell_type": "code",
   "execution_count": 4,
   "id": "f37b494a",
   "metadata": {},
   "outputs": [
    {
     "data": {
      "text/html": [
       "<div>\n",
       "<style scoped>\n",
       "    .dataframe tbody tr th:only-of-type {\n",
       "        vertical-align: middle;\n",
       "    }\n",
       "\n",
       "    .dataframe tbody tr th {\n",
       "        vertical-align: top;\n",
       "    }\n",
       "\n",
       "    .dataframe thead th {\n",
       "        text-align: right;\n",
       "    }\n",
       "</style>\n",
       "<table border=\"1\" class=\"dataframe\">\n",
       "  <thead>\n",
       "    <tr style=\"text-align: right;\">\n",
       "      <th></th>\n",
       "      <th>ID</th>\n",
       "      <th>NOMBRE</th>\n",
       "      <th>TELEFONO</th>\n",
       "      <th>CORREO</th>\n",
       "    </tr>\n",
       "  </thead>\n",
       "  <tbody>\n",
       "    <tr>\n",
       "      <th>93</th>\n",
       "      <td>68</td>\n",
       "      <td>WILFRAN DIAZ LARA</td>\n",
       "      <td>9999109</td>\n",
       "      <td>wilfran@hotmail.com</td>\n",
       "    </tr>\n",
       "    <tr>\n",
       "      <th>94</th>\n",
       "      <td>68</td>\n",
       "      <td>WILFRAN DIAZ LARA</td>\n",
       "      <td>9999188</td>\n",
       "      <td>wilfran@hotmail.com</td>\n",
       "    </tr>\n",
       "    <tr>\n",
       "      <th>95</th>\n",
       "      <td>68</td>\n",
       "      <td>WILFRAN DIAZ LARA</td>\n",
       "      <td>999941</td>\n",
       "      <td>wilfran@hotmail.com</td>\n",
       "    </tr>\n",
       "    <tr>\n",
       "      <th>96</th>\n",
       "      <td>69</td>\n",
       "      <td>WILSON ALEJANDRO CRUZ TELLEZ</td>\n",
       "      <td>9999181</td>\n",
       "      <td>ut_pros@yahoo.com</td>\n",
       "    </tr>\n",
       "    <tr>\n",
       "      <th>97</th>\n",
       "      <td>69</td>\n",
       "      <td>WILSON ALEJANDRO CRUZ TELLEZ</td>\n",
       "      <td>999923</td>\n",
       "      <td>wilson_@outlook.com</td>\n",
       "    </tr>\n",
       "  </tbody>\n",
       "</table>\n",
       "</div>"
      ],
      "text/plain": [
       "    ID                        NOMBRE  TELEFONO               CORREO\n",
       "93  68             WILFRAN DIAZ LARA   9999109  wilfran@hotmail.com\n",
       "94  68             WILFRAN DIAZ LARA   9999188  wilfran@hotmail.com\n",
       "95  68             WILFRAN DIAZ LARA    999941  wilfran@hotmail.com\n",
       "96  69  WILSON ALEJANDRO CRUZ TELLEZ   9999181    ut_pros@yahoo.com\n",
       "97  69  WILSON ALEJANDRO CRUZ TELLEZ    999923  wilson_@outlook.com"
      ]
     },
     "execution_count": 4,
     "metadata": {},
     "output_type": "execute_result"
    }
   ],
   "source": [
    "datos.tail()"
   ]
  },
  {
   "cell_type": "code",
   "execution_count": 5,
   "id": "a9b6e9c0",
   "metadata": {},
   "outputs": [
    {
     "data": {
      "text/plain": [
       "0                       ADAN URIBE\n",
       "1            ADRIAN KAUFFMANN CRUZ\n",
       "2                ALEJANDRO MONTOYA\n",
       "3          ALEXANDER AREVALI MUÑOZ\n",
       "4          ALEXANDER AREVALI MUÑOZ\n",
       "                  ...             \n",
       "93               WILFRAN DIAZ LARA\n",
       "94               WILFRAN DIAZ LARA\n",
       "95               WILFRAN DIAZ LARA\n",
       "96    WILSON ALEJANDRO CRUZ TELLEZ\n",
       "97    WILSON ALEJANDRO CRUZ TELLEZ\n",
       "Name: NOMBRE, Length: 98, dtype: object"
      ]
     },
     "execution_count": 5,
     "metadata": {},
     "output_type": "execute_result"
    }
   ],
   "source": [
    "datos['NOMBRE']"
   ]
  },
  {
   "cell_type": "code",
   "execution_count": 6,
   "id": "38327792",
   "metadata": {},
   "outputs": [
    {
     "data": {
      "text/plain": [
       "ID                          1\n",
       "NOMBRE             ADAN URIBE\n",
       "TELEFONO              9999171\n",
       "CORREO      adan_ur@gmail.com\n",
       "Name: 0, dtype: object"
      ]
     },
     "execution_count": 6,
     "metadata": {},
     "output_type": "execute_result"
    }
   ],
   "source": [
    "datos.iloc[0]"
   ]
  },
  {
   "cell_type": "code",
   "execution_count": 7,
   "id": "6c742589",
   "metadata": {},
   "outputs": [
    {
     "data": {
      "text/plain": [
       "1                            ADRIAN KAUFFMANN CRUZ\n",
       "2                                ALEJANDRO MONTOYA\n",
       "3                          ALEXANDER AREVALI MUÑOZ\n",
       "4                          ALEXANDER AREVALI MUÑOZ\n",
       "5                     ALIRO GIOVANNY CARDENAS RICO\n",
       "6                     ALIRO GIOVANNY CARDENAS RICO\n",
       "7                              ANDREA PAOLA SANTOS\n",
       "8                   ANDRES FELIPE HERNANDEZ SUAREZ\n",
       "9                   ANDRES FELIPE HERNANDEZ SUAREZ\n",
       "10                  ANDRES FELIPE HERNANDEZ SUAREZ\n",
       "11                  ANDRES FELIPE HERNANDEZ SUAREZ\n",
       "12                  ANDRES FELIPE HERNANDEZ SUAREZ\n",
       "13    ASESORIAS EMPRESARIALES Y CONSTRUCCIONES SAS\n",
       "14                                  ANGELICA PEREZ\n",
       "15                      CAMILO ANDRES NIÑO MORALES\n",
       "16                      CAMILO ANDRES NIÑO MORALES\n",
       "17                      CAMILO ANDRES NIÑO MORALES\n",
       "18                      CAMILO ANDRES NIÑO MORALES\n",
       "19                           CARLOS ARTURO MERCHÁN\n",
       "Name: NOMBRE, dtype: object"
      ]
     },
     "execution_count": 7,
     "metadata": {},
     "output_type": "execute_result"
    }
   ],
   "source": [
    "datos.iloc[1:20, 1]"
   ]
  },
  {
   "cell_type": "code",
   "execution_count": 8,
   "id": "13c2b1a7",
   "metadata": {},
   "outputs": [
    {
     "data": {
      "text/plain": [
       "0       2\n",
       "1       4\n",
       "2       6\n",
       "3       8\n",
       "4       8\n",
       "     ... \n",
       "93    136\n",
       "94    136\n",
       "95    136\n",
       "96    138\n",
       "97    138\n",
       "Name: ID, Length: 98, dtype: int64"
      ]
     },
     "execution_count": 8,
     "metadata": {},
     "output_type": "execute_result"
    }
   ],
   "source": [
    "datos['ID']*2"
   ]
  },
  {
   "cell_type": "code",
   "execution_count": 9,
   "id": "a6fa844f",
   "metadata": {},
   "outputs": [
    {
     "data": {
      "text/plain": [
       "0      1\n",
       "1      2\n",
       "2      3\n",
       "3      4\n",
       "4      4\n",
       "      ..\n",
       "93    68\n",
       "94    68\n",
       "95    68\n",
       "96    69\n",
       "97    69\n",
       "Name: ID, Length: 98, dtype: int64"
      ]
     },
     "execution_count": 9,
     "metadata": {},
     "output_type": "execute_result"
    }
   ],
   "source": [
    "datos['ID']"
   ]
  },
  {
   "cell_type": "code",
   "execution_count": 10,
   "id": "fc20f10f",
   "metadata": {},
   "outputs": [
    {
     "data": {
      "text/html": [
       "<div>\n",
       "<style scoped>\n",
       "    .dataframe tbody tr th:only-of-type {\n",
       "        vertical-align: middle;\n",
       "    }\n",
       "\n",
       "    .dataframe tbody tr th {\n",
       "        vertical-align: top;\n",
       "    }\n",
       "\n",
       "    .dataframe thead th {\n",
       "        text-align: right;\n",
       "    }\n",
       "</style>\n",
       "<table border=\"1\" class=\"dataframe\">\n",
       "  <thead>\n",
       "    <tr style=\"text-align: right;\">\n",
       "      <th></th>\n",
       "      <th>ID</th>\n",
       "      <th>NOMBRE</th>\n",
       "      <th>TELEFONO</th>\n",
       "      <th>CORREO</th>\n",
       "    </tr>\n",
       "  </thead>\n",
       "  <tbody>\n",
       "    <tr>\n",
       "      <th>0</th>\n",
       "      <td>1</td>\n",
       "      <td>ADAN URIBE</td>\n",
       "      <td>9999171</td>\n",
       "      <td>adan_ur@gmail.com</td>\n",
       "    </tr>\n",
       "    <tr>\n",
       "      <th>1</th>\n",
       "      <td>2</td>\n",
       "      <td>ADRIAN KAUFFMANN CRUZ</td>\n",
       "      <td>9999117</td>\n",
       "      <td>adrian_@outlook.com</td>\n",
       "    </tr>\n",
       "    <tr>\n",
       "      <th>2</th>\n",
       "      <td>3</td>\n",
       "      <td>ALEJANDRO MONTOYA</td>\n",
       "      <td>999970</td>\n",
       "      <td>alejand@outlook.es</td>\n",
       "    </tr>\n",
       "    <tr>\n",
       "      <th>3</th>\n",
       "      <td>4</td>\n",
       "      <td>ALEXANDER AREVALI MUÑOZ</td>\n",
       "      <td>9999137</td>\n",
       "      <td>alexand@gmail.com</td>\n",
       "    </tr>\n",
       "    <tr>\n",
       "      <th>4</th>\n",
       "      <td>4</td>\n",
       "      <td>ALEXANDER AREVALI MUÑOZ</td>\n",
       "      <td>999983</td>\n",
       "      <td>alexand@gmail.com</td>\n",
       "    </tr>\n",
       "  </tbody>\n",
       "</table>\n",
       "</div>"
      ],
      "text/plain": [
       "   ID                   NOMBRE  TELEFONO               CORREO\n",
       "0   1               ADAN URIBE   9999171    adan_ur@gmail.com\n",
       "1   2    ADRIAN KAUFFMANN CRUZ   9999117  adrian_@outlook.com\n",
       "2   3        ALEJANDRO MONTOYA    999970   alejand@outlook.es\n",
       "3   4  ALEXANDER AREVALI MUÑOZ   9999137    alexand@gmail.com\n",
       "4   4  ALEXANDER AREVALI MUÑOZ    999983    alexand@gmail.com"
      ]
     },
     "execution_count": 10,
     "metadata": {},
     "output_type": "execute_result"
    }
   ],
   "source": [
    "datos.head()"
   ]
  },
  {
   "cell_type": "code",
   "execution_count": 11,
   "id": "f3453364",
   "metadata": {},
   "outputs": [],
   "source": [
    "datos['ID2'] = datos['ID']*2"
   ]
  },
  {
   "cell_type": "code",
   "execution_count": 12,
   "id": "a6786735",
   "metadata": {},
   "outputs": [
    {
     "data": {
      "text/html": [
       "<div>\n",
       "<style scoped>\n",
       "    .dataframe tbody tr th:only-of-type {\n",
       "        vertical-align: middle;\n",
       "    }\n",
       "\n",
       "    .dataframe tbody tr th {\n",
       "        vertical-align: top;\n",
       "    }\n",
       "\n",
       "    .dataframe thead th {\n",
       "        text-align: right;\n",
       "    }\n",
       "</style>\n",
       "<table border=\"1\" class=\"dataframe\">\n",
       "  <thead>\n",
       "    <tr style=\"text-align: right;\">\n",
       "      <th></th>\n",
       "      <th>ID</th>\n",
       "      <th>NOMBRE</th>\n",
       "      <th>TELEFONO</th>\n",
       "      <th>CORREO</th>\n",
       "      <th>ID2</th>\n",
       "    </tr>\n",
       "  </thead>\n",
       "  <tbody>\n",
       "    <tr>\n",
       "      <th>0</th>\n",
       "      <td>1</td>\n",
       "      <td>ADAN URIBE</td>\n",
       "      <td>9999171</td>\n",
       "      <td>adan_ur@gmail.com</td>\n",
       "      <td>2</td>\n",
       "    </tr>\n",
       "    <tr>\n",
       "      <th>1</th>\n",
       "      <td>2</td>\n",
       "      <td>ADRIAN KAUFFMANN CRUZ</td>\n",
       "      <td>9999117</td>\n",
       "      <td>adrian_@outlook.com</td>\n",
       "      <td>4</td>\n",
       "    </tr>\n",
       "    <tr>\n",
       "      <th>2</th>\n",
       "      <td>3</td>\n",
       "      <td>ALEJANDRO MONTOYA</td>\n",
       "      <td>999970</td>\n",
       "      <td>alejand@outlook.es</td>\n",
       "      <td>6</td>\n",
       "    </tr>\n",
       "    <tr>\n",
       "      <th>3</th>\n",
       "      <td>4</td>\n",
       "      <td>ALEXANDER AREVALI MUÑOZ</td>\n",
       "      <td>9999137</td>\n",
       "      <td>alexand@gmail.com</td>\n",
       "      <td>8</td>\n",
       "    </tr>\n",
       "    <tr>\n",
       "      <th>4</th>\n",
       "      <td>4</td>\n",
       "      <td>ALEXANDER AREVALI MUÑOZ</td>\n",
       "      <td>999983</td>\n",
       "      <td>alexand@gmail.com</td>\n",
       "      <td>8</td>\n",
       "    </tr>\n",
       "  </tbody>\n",
       "</table>\n",
       "</div>"
      ],
      "text/plain": [
       "   ID                   NOMBRE  TELEFONO               CORREO  ID2\n",
       "0   1               ADAN URIBE   9999171    adan_ur@gmail.com    2\n",
       "1   2    ADRIAN KAUFFMANN CRUZ   9999117  adrian_@outlook.com    4\n",
       "2   3        ALEJANDRO MONTOYA    999970   alejand@outlook.es    6\n",
       "3   4  ALEXANDER AREVALI MUÑOZ   9999137    alexand@gmail.com    8\n",
       "4   4  ALEXANDER AREVALI MUÑOZ    999983    alexand@gmail.com    8"
      ]
     },
     "execution_count": 12,
     "metadata": {},
     "output_type": "execute_result"
    }
   ],
   "source": [
    "datos.head()"
   ]
  },
  {
   "cell_type": "code",
   "execution_count": 13,
   "id": "0dcc08e7",
   "metadata": {},
   "outputs": [
    {
     "data": {
      "text/plain": [
       "Index(['ID', 'NOMBRE', 'TELEFONO', 'CORREO', 'ID2'], dtype='object')"
      ]
     },
     "execution_count": 13,
     "metadata": {},
     "output_type": "execute_result"
    }
   ],
   "source": [
    "datos.columns"
   ]
  },
  {
   "cell_type": "code",
   "execution_count": 14,
   "id": "041268f9",
   "metadata": {},
   "outputs": [
    {
     "data": {
      "text/plain": [
       "RangeIndex(start=0, stop=98, step=1)"
      ]
     },
     "execution_count": 14,
     "metadata": {},
     "output_type": "execute_result"
    }
   ],
   "source": [
    "datos.index"
   ]
  },
  {
   "cell_type": "code",
   "execution_count": 15,
   "id": "728c01cb",
   "metadata": {},
   "outputs": [],
   "source": [
    "datos.to_excel(r'D:\\Documents\\BOCC\\Red_2.xlsx', index = False)"
   ]
  },
  {
   "cell_type": "markdown",
   "id": "c0a11bf3",
   "metadata": {},
   "source": [
    "## Grafos"
   ]
  },
  {
   "cell_type": "code",
   "execution_count": 16,
   "id": "d4ca159a",
   "metadata": {},
   "outputs": [],
   "source": [
    "G = nx.Graph()"
   ]
  },
  {
   "cell_type": "code",
   "execution_count": 17,
   "id": "1ad43c2a",
   "metadata": {},
   "outputs": [],
   "source": [
    "DG = nx.DiGraph()"
   ]
  },
  {
   "cell_type": "code",
   "execution_count": 18,
   "id": "ca416ded",
   "metadata": {},
   "outputs": [
    {
     "data": {
      "text/plain": [
       "<networkx.classes.graph.Graph at 0x2842f798b80>"
      ]
     },
     "execution_count": 18,
     "metadata": {},
     "output_type": "execute_result"
    }
   ],
   "source": [
    "G"
   ]
  },
  {
   "cell_type": "code",
   "execution_count": 19,
   "id": "7906d816",
   "metadata": {},
   "outputs": [],
   "source": [
    "G.add_node(1)"
   ]
  },
  {
   "cell_type": "code",
   "execution_count": 20,
   "id": "4a352f23",
   "metadata": {},
   "outputs": [
    {
     "data": {
      "text/plain": [
       "NodeView((1,))"
      ]
     },
     "execution_count": 20,
     "metadata": {},
     "output_type": "execute_result"
    }
   ],
   "source": [
    "G.nodes()"
   ]
  },
  {
   "cell_type": "code",
   "execution_count": 21,
   "id": "c57aa745",
   "metadata": {},
   "outputs": [],
   "source": [
    "G.add_nodes_from([2,3,4,'Hola',6])"
   ]
  },
  {
   "cell_type": "code",
   "execution_count": 22,
   "id": "4b36b454",
   "metadata": {},
   "outputs": [
    {
     "data": {
      "text/plain": [
       "NodeView((1, 2, 3, 4, 'Hola', 6))"
      ]
     },
     "execution_count": 22,
     "metadata": {},
     "output_type": "execute_result"
    }
   ],
   "source": [
    "G.nodes"
   ]
  },
  {
   "cell_type": "code",
   "execution_count": 23,
   "id": "85cc1521",
   "metadata": {},
   "outputs": [],
   "source": [
    "G.add_edge(1,2)"
   ]
  },
  {
   "cell_type": "code",
   "execution_count": 24,
   "id": "6644f564",
   "metadata": {},
   "outputs": [
    {
     "data": {
      "text/plain": [
       "EdgeView([(1, 2)])"
      ]
     },
     "execution_count": 24,
     "metadata": {},
     "output_type": "execute_result"
    }
   ],
   "source": [
    "G.edges"
   ]
  },
  {
   "cell_type": "code",
   "execution_count": 25,
   "id": "aba3ff3c",
   "metadata": {},
   "outputs": [],
   "source": [
    "G.add_edges_from([('Hola', 2), (4,5), (6,1), (3,4), ('Hola', 'Adios')])"
   ]
  },
  {
   "cell_type": "code",
   "execution_count": 26,
   "id": "2f0f8676",
   "metadata": {},
   "outputs": [
    {
     "data": {
      "text/plain": [
       "NodeView((1, 2, 3, 4, 'Hola', 6, 5, 'Adios'))"
      ]
     },
     "execution_count": 26,
     "metadata": {},
     "output_type": "execute_result"
    }
   ],
   "source": [
    "G.nodes()"
   ]
  },
  {
   "cell_type": "code",
   "execution_count": 27,
   "id": "39bf6256",
   "metadata": {},
   "outputs": [
    {
     "data": {
      "text/plain": [
       "DegreeView({1: 2, 2: 2, 3: 1, 4: 2, 'Hola': 2, 6: 1, 5: 1, 'Adios': 1})"
      ]
     },
     "execution_count": 27,
     "metadata": {},
     "output_type": "execute_result"
    }
   ],
   "source": [
    "G.degree()"
   ]
  },
  {
   "cell_type": "code",
   "execution_count": 28,
   "id": "1bd06acd",
   "metadata": {},
   "outputs": [
    {
     "data": {
      "text/plain": [
       "1"
      ]
     },
     "execution_count": 28,
     "metadata": {},
     "output_type": "execute_result"
    }
   ],
   "source": [
    "G.degree()['Adios']"
   ]
  },
  {
   "cell_type": "code",
   "execution_count": 29,
   "id": "615ea103",
   "metadata": {},
   "outputs": [
    {
     "data": {
      "text/plain": [
       "False"
      ]
     },
     "execution_count": 29,
     "metadata": {},
     "output_type": "execute_result"
    }
   ],
   "source": [
    "nx.is_connected(G)"
   ]
  },
  {
   "cell_type": "code",
   "execution_count": 30,
   "id": "32ffe9ac",
   "metadata": {},
   "outputs": [
    {
     "data": {
      "text/plain": [
       "<generator object connected_components at 0x000002842F83DD90>"
      ]
     },
     "execution_count": 30,
     "metadata": {},
     "output_type": "execute_result"
    }
   ],
   "source": [
    "nx.connected_components(G)"
   ]
  },
  {
   "cell_type": "code",
   "execution_count": 31,
   "id": "2f7fb3b9",
   "metadata": {},
   "outputs": [],
   "source": [
    "componentes = list(nx.connected_components(G))"
   ]
  },
  {
   "cell_type": "code",
   "execution_count": 32,
   "id": "b69f0450",
   "metadata": {},
   "outputs": [],
   "source": [
    "H = G.subgraph(componentes[0])"
   ]
  },
  {
   "cell_type": "code",
   "execution_count": 33,
   "id": "92458051",
   "metadata": {},
   "outputs": [
    {
     "data": {
      "text/plain": [
       "NodeView((1, 2, 'Hola', 6, 'Adios'))"
      ]
     },
     "execution_count": 33,
     "metadata": {},
     "output_type": "execute_result"
    }
   ],
   "source": [
    "H.nodes"
   ]
  },
  {
   "cell_type": "code",
   "execution_count": 34,
   "id": "71dceb4b",
   "metadata": {},
   "outputs": [
    {
     "data": {
      "text/plain": [
       "True"
      ]
     },
     "execution_count": 34,
     "metadata": {},
     "output_type": "execute_result"
    }
   ],
   "source": [
    "nx.is_connected(H)"
   ]
  },
  {
   "cell_type": "code",
   "execution_count": 35,
   "id": "17301a61",
   "metadata": {},
   "outputs": [
    {
     "name": "stdout",
     "output_type": "stream",
     "text": [
      "{1, 2, 6, 'Adios', 'Hola'}\n",
      "5\n",
      "{3, 4, 5}\n",
      "3\n"
     ]
    }
   ],
   "source": [
    "for c in componentes:\n",
    "    print(c)\n",
    "    print(len(c))"
   ]
  },
  {
   "cell_type": "code",
   "execution_count": 36,
   "id": "112a7832",
   "metadata": {
    "scrolled": true
   },
   "outputs": [
    {
     "data": {
      "text/plain": [
       "{1: {1: [1],\n",
       "  2: [1, 2],\n",
       "  6: [1, 6],\n",
       "  'Hola': [1, 2, 'Hola'],\n",
       "  'Adios': [1, 2, 'Hola', 'Adios']},\n",
       " 2: {2: [2],\n",
       "  1: [2, 1],\n",
       "  'Hola': [2, 'Hola'],\n",
       "  6: [2, 1, 6],\n",
       "  'Adios': [2, 'Hola', 'Adios']},\n",
       " 'Hola': {'Hola': ['Hola'],\n",
       "  2: ['Hola', 2],\n",
       "  'Adios': ['Hola', 'Adios'],\n",
       "  1: ['Hola', 2, 1],\n",
       "  6: ['Hola', 2, 1, 6]},\n",
       " 6: {6: [6],\n",
       "  1: [6, 1],\n",
       "  2: [6, 1, 2],\n",
       "  'Hola': [6, 1, 2, 'Hola'],\n",
       "  'Adios': [6, 1, 2, 'Hola', 'Adios']},\n",
       " 'Adios': {'Adios': ['Adios'],\n",
       "  'Hola': ['Adios', 'Hola'],\n",
       "  2: ['Adios', 'Hola', 2],\n",
       "  1: ['Adios', 'Hola', 2, 1],\n",
       "  6: ['Adios', 'Hola', 2, 1, 6]}}"
      ]
     },
     "execution_count": 36,
     "metadata": {},
     "output_type": "execute_result"
    }
   ],
   "source": [
    "dict(nx.all_pairs_shortest_path(H))"
   ]
  },
  {
   "cell_type": "code",
   "execution_count": 37,
   "id": "87447b38",
   "metadata": {},
   "outputs": [],
   "source": [
    "caminos =dict(nx.all_pairs_shortest_path(G))"
   ]
  },
  {
   "cell_type": "code",
   "execution_count": 38,
   "id": "73062cf6",
   "metadata": {},
   "outputs": [
    {
     "name": "stdout",
     "output_type": "stream",
     "text": [
      "1 1 0\n",
      "1 2 1\n",
      "1 6 1\n",
      "1 Hola 2\n",
      "1 Adios 3\n",
      "2 2 0\n",
      "2 1 1\n",
      "2 Hola 1\n",
      "2 6 2\n",
      "2 Adios 2\n",
      "3 3 0\n",
      "3 4 1\n",
      "3 5 2\n",
      "4 4 0\n",
      "4 5 1\n",
      "4 3 1\n",
      "Hola Hola 0\n",
      "Hola 2 1\n",
      "Hola Adios 1\n",
      "Hola 1 2\n",
      "Hola 6 3\n",
      "6 6 0\n",
      "6 1 1\n",
      "6 2 2\n",
      "6 Hola 3\n",
      "6 Adios 4\n",
      "5 5 0\n",
      "5 4 1\n",
      "5 3 2\n",
      "Adios Adios 0\n",
      "Adios Hola 1\n",
      "Adios 2 2\n",
      "Adios 1 3\n",
      "Adios 6 4\n"
     ]
    }
   ],
   "source": [
    "for nodo1 in caminos.keys():\n",
    "    for nodo2 in caminos[nodo1].keys():\n",
    "        print(nodo1, nodo2, len(caminos[nodo1][nodo2])-1)"
   ]
  },
  {
   "cell_type": "markdown",
   "id": "3239d24d",
   "metadata": {},
   "source": [
    "#### Centralidades"
   ]
  },
  {
   "cell_type": "code",
   "execution_count": 39,
   "id": "e6a60d10",
   "metadata": {},
   "outputs": [
    {
     "data": {
      "text/plain": [
       "{1: 0.5714285714285714,\n",
       " 2: 0.6666666666666666,\n",
       " 'Hola': 0.5714285714285714,\n",
       " 6: 0.4,\n",
       " 'Adios': 0.4}"
      ]
     },
     "execution_count": 39,
     "metadata": {},
     "output_type": "execute_result"
    }
   ],
   "source": [
    "nx.closeness_centrality(H)"
   ]
  },
  {
   "cell_type": "code",
   "execution_count": 40,
   "id": "659253af",
   "metadata": {},
   "outputs": [
    {
     "data": {
      "text/plain": [
       "{1: 0.5, 2: 0.6666666666666666, 'Hola': 0.5, 6: 0.0, 'Adios': 0.0}"
      ]
     },
     "execution_count": 40,
     "metadata": {},
     "output_type": "execute_result"
    }
   ],
   "source": [
    "nx.betweenness_centrality(H)"
   ]
  },
  {
   "cell_type": "code",
   "execution_count": 41,
   "id": "0dce144b",
   "metadata": {},
   "outputs": [
    {
     "data": {
      "text/plain": [
       "{1: 0.49999999508235293,\n",
       " 2: 0.5773493802714443,\n",
       " 'Hola': 0.49999999508235293,\n",
       " 6: 0.2886760320285294,\n",
       " 'Adios': 0.2886760320285294}"
      ]
     },
     "execution_count": 41,
     "metadata": {},
     "output_type": "execute_result"
    }
   ],
   "source": [
    "nx.eigenvector_centrality(H)"
   ]
  },
  {
   "cell_type": "code",
   "execution_count": 42,
   "id": "fbfad0d3",
   "metadata": {},
   "outputs": [
    {
     "data": {
      "text/plain": [
       "[(1, 6), (2, 7), (3, 8), (4, 9)]"
      ]
     },
     "execution_count": 42,
     "metadata": {},
     "output_type": "execute_result"
    }
   ],
   "source": [
    "lista1 = [1,2,3,4,5]\n",
    "lista2 = [6,7,8,9]\n",
    "\n",
    "list(zip(lista1, lista2))"
   ]
  },
  {
   "cell_type": "code",
   "execution_count": 43,
   "id": "69086731",
   "metadata": {},
   "outputs": [
    {
     "data": {
      "text/plain": [
       "[(1, 'ADAN URIBE'),\n",
       " (2, 'ADRIAN KAUFFMANN CRUZ'),\n",
       " (3, 'ALEJANDRO MONTOYA'),\n",
       " (4, 'ALEXANDER AREVALI MUÑOZ'),\n",
       " (4, 'ALEXANDER AREVALI MUÑOZ'),\n",
       " (5, 'ALIRO GIOVANNY CARDENAS RICO'),\n",
       " (5, 'ALIRO GIOVANNY CARDENAS RICO'),\n",
       " (7, 'ANDREA PAOLA SANTOS'),\n",
       " (8, 'ANDRES FELIPE HERNANDEZ SUAREZ'),\n",
       " (8, 'ANDRES FELIPE HERNANDEZ SUAREZ'),\n",
       " (8, 'ANDRES FELIPE HERNANDEZ SUAREZ'),\n",
       " (8, 'ANDRES FELIPE HERNANDEZ SUAREZ'),\n",
       " (8, 'ANDRES FELIPE HERNANDEZ SUAREZ'),\n",
       " (8, 'ASESORIAS EMPRESARIALES Y CONSTRUCCIONES SAS'),\n",
       " (9, 'ANGELICA PEREZ'),\n",
       " (12, 'CAMILO ANDRES NIÑO MORALES'),\n",
       " (12, 'CAMILO ANDRES NIÑO MORALES'),\n",
       " (12, 'CAMILO ANDRES NIÑO MORALES'),\n",
       " (12, 'CAMILO ANDRES NIÑO MORALES'),\n",
       " (13, 'CARLOS ARTURO MERCHÁN'),\n",
       " (14, 'CARLOS CERVANTES'),\n",
       " (15, 'CARLOS EDUARDO RIVEROS CALDERON'),\n",
       " (17, 'CONSORCIO ASPE'),\n",
       " (19, 'CONSORCIO S&S COFAC 029'),\n",
       " (20, 'CONSORCIO S&S TOLEMAIDA'),\n",
       " (22, 'CRISTIAN GERARDO PEREZ VEGA'),\n",
       " (22, 'CRISTIAN GERARDO PEREZ VEGA'),\n",
       " (23, 'DAIRO RODRIGUEZ BONILLA'),\n",
       " (24, 'DANIEL JOSE NIEVES VERGARA'),\n",
       " (24, 'DANIEL JOSE NIEVES VERGARA'),\n",
       " (25, 'DINA TERESA LEON PEROZA'),\n",
       " (25, 'DINA TERESA LEON PEROZA'),\n",
       " (25, 'DINA TERESA LEON PEROZA'),\n",
       " (26, 'EDUAR ALFONSO MONTIEL PERALTA'),\n",
       " (28, 'FABIAN ANDRES VALENCIA'),\n",
       " (28, 'FABIAN ANDRES VALENCIA'),\n",
       " (29, 'FABIOLA AHUMADA JARAMILLO'),\n",
       " (30, 'FREDY MAURICIO SANABRIA PINTO'),\n",
       " (30, 'FREDY MAURICIO SANABRIA PINTO'),\n",
       " (31, 'FUNDACIÓN PÁRAMO Y FRAILEJONES'),\n",
       " (32, 'INDUSTRIAS CARROCERIAS EL SOL S.A.S'),\n",
       " (33, 'INDUSTRIAS RIVMA SAS'),\n",
       " (34, 'JAIRO ENRIQUE MONSALVE MOGROVEJO'),\n",
       " (35, 'JAIRO MONSALVE'),\n",
       " (45, 'JB & DD CONSTRUCCIONES SAS'),\n",
       " (37, 'CONSORCIO ASO'),\n",
       " (37, 'CONSORCIO SS DIGSA FAC'),\n",
       " (37, 'JESUS ORLANDO VIVAS NOGUERA'),\n",
       " (37, 'JESUS ORLANDO VIVAS NOGUERA'),\n",
       " (37, 'JESUS ORLANDO VIVAS NOGUERA'),\n",
       " (38, 'JHON BYRON SOTO ZULUAGA'),\n",
       " (39, 'JORDI ALONSO'),\n",
       " (40, 'JUAN MACHADO'),\n",
       " (41, 'KRISTINA SCHENK'),\n",
       " (42, 'LOLA LUNA'),\n",
       " (43, 'LUIS ANTONIO PIRACON MONSALVE'),\n",
       " (43, 'LUIS ANTONIO PIRACON MONSALVE'),\n",
       " (45, 'LUIS FELIPE MARTINEZ ARENA'),\n",
       " (45, 'LUIS FELIPE MARTINEZ ARENAS'),\n",
       " (45, 'LUIS FELIPE MARTINEZ ARENAS'),\n",
       " (46, 'MARIA FERNANDA BERNAL RESTREPO'),\n",
       " (47, 'MARÍA FERNANDA BERNAL RESTREPO'),\n",
       " (48, 'MARIA JOSÉ TARAZONA GÉLVEÍ'),\n",
       " (49, 'MARIA JOSE TARAZONA GELVEZ'),\n",
       " (50, 'MARIA LEIDER VELASQUEZ MUÑOZ'),\n",
       " (50, 'MARIA LEIDER VELASQUEZ MUÑOZ'),\n",
       " (51, 'MARIO GERMAN GARCIA'),\n",
       " (52, 'MARIO GERMAN GARCIA GARCIA'),\n",
       " (52, 'MARIO GERMAN GARCIA GARCIA'),\n",
       " (54, 'MARIO GERMAN GARCÍA GARCÍA'),\n",
       " (54, 'ETRAINING S.A.S.'),\n",
       " (54, 'MARITZA PINZÓN CAMACHO'),\n",
       " (54, 'MARITZA PINZÓN CAMACHO'),\n",
       " (54, 'MARITZA PINZÓN CAMACHO'),\n",
       " (54, 'UNION TEMPORAL EISPRINGE'),\n",
       " (55, 'MARTIN HERNANDO BASTIDAS BURBANO'),\n",
       " (55, 'MARTIN HERNANDO BASTIDAS BURBANO'),\n",
       " (56, 'NELSON ENRIQUE PAREJA LÓPEZ'),\n",
       " (57, 'OSCAR LEONEL BARRERA REYES'),\n",
       " (57, 'OSCAR LEONEL BARRERA REYES'),\n",
       " (57, 'OSCAR LEONEL BARRERA REYES'),\n",
       " (57, 'OSCAR LEONEL BARRERA REYES'),\n",
       " (58, 'PEPITO TORRES'),\n",
       " (59, 'PGREFORESTACION'),\n",
       " (60, 'PRUEBA'),\n",
       " (61, 'SANDRA PALOMINO'),\n",
       " (62, 'SANTIAGO GUZMAN'),\n",
       " (63, 'SOFIA RINCON'),\n",
       " (64, 'UNIÓN TEMPORAL ACOMPAÑAMIENTO PEDAGÓGICO 2018'),\n",
       " (8, 'UT PROSERVIUS'),\n",
       " (68, 'AMT FÜR UMWELTSCHUTZ  STUTTGART'),\n",
       " (68, 'CAMALEON MULTIMEDIA SAS'),\n",
       " (68, 'CONSORCIO OBP RES'),\n",
       " (68, 'WILFRAN DIAZ LARA'),\n",
       " (68, 'WILFRAN DIAZ LARA'),\n",
       " (68, 'WILFRAN DIAZ LARA'),\n",
       " (69, 'WILSON ALEJANDRO CRUZ TELLEZ'),\n",
       " (69, 'WILSON ALEJANDRO CRUZ TELLEZ')]"
      ]
     },
     "execution_count": 43,
     "metadata": {},
     "output_type": "execute_result"
    }
   ],
   "source": [
    "list(zip(datos['ID'], datos['NOMBRE']))"
   ]
  },
  {
   "cell_type": "code",
   "execution_count": 44,
   "id": "6452d88e",
   "metadata": {},
   "outputs": [
    {
     "data": {
      "image/png": "[encoded data removed]",
      "text/plain": [
       "<Figure size 640x480 with 1 Axes>"
      ]
     },
     "metadata": {},
     "output_type": "display_data"
    }
   ],
   "source": [
    "nx.draw_networkx(G)"
   ]
  },
  {
   "cell_type": "code",
   "execution_count": 45,
   "id": "f098a35e",
   "metadata": {},
   "outputs": [
    {
     "data": {
      "text/plain": [
       "[(1, 'ADAN URIBE'),\n",
       " (2, 'ADRIAN KAUFFMANN CRUZ'),\n",
       " (3, 'ALEJANDRO MONTOYA'),\n",
       " (4, 'ALEXANDER AREVALI MUÑOZ'),\n",
       " (4, 'ALEXANDER AREVALI MUÑOZ'),\n",
       " (5, 'ALIRO GIOVANNY CARDENAS RICO'),\n",
       " (5, 'ALIRO GIOVANNY CARDENAS RICO'),\n",
       " (7, 'ANDREA PAOLA SANTOS'),\n",
       " (8, 'ANDRES FELIPE HERNANDEZ SUAREZ'),\n",
       " (8, 'ANDRES FELIPE HERNANDEZ SUAREZ'),\n",
       " (8, 'ANDRES FELIPE HERNANDEZ SUAREZ'),\n",
       " (8, 'ANDRES FELIPE HERNANDEZ SUAREZ'),\n",
       " (8, 'ANDRES FELIPE HERNANDEZ SUAREZ'),\n",
       " (8, 'ASESORIAS EMPRESARIALES Y CONSTRUCCIONES SAS'),\n",
       " (9, 'ANGELICA PEREZ'),\n",
       " (12, 'CAMILO ANDRES NIÑO MORALES'),\n",
       " (12, 'CAMILO ANDRES NIÑO MORALES'),\n",
       " (12, 'CAMILO ANDRES NIÑO MORALES'),\n",
       " (12, 'CAMILO ANDRES NIÑO MORALES'),\n",
       " (13, 'CARLOS ARTURO MERCHÁN'),\n",
       " (14, 'CARLOS CERVANTES'),\n",
       " (15, 'CARLOS EDUARDO RIVEROS CALDERON'),\n",
       " (17, 'CONSORCIO ASPE'),\n",
       " (19, 'CONSORCIO S&S COFAC 029'),\n",
       " (20, 'CONSORCIO S&S TOLEMAIDA'),\n",
       " (22, 'CRISTIAN GERARDO PEREZ VEGA'),\n",
       " (22, 'CRISTIAN GERARDO PEREZ VEGA'),\n",
       " (23, 'DAIRO RODRIGUEZ BONILLA'),\n",
       " (24, 'DANIEL JOSE NIEVES VERGARA'),\n",
       " (24, 'DANIEL JOSE NIEVES VERGARA'),\n",
       " (25, 'DINA TERESA LEON PEROZA'),\n",
       " (25, 'DINA TERESA LEON PEROZA'),\n",
       " (25, 'DINA TERESA LEON PEROZA'),\n",
       " (26, 'EDUAR ALFONSO MONTIEL PERALTA'),\n",
       " (28, 'FABIAN ANDRES VALENCIA'),\n",
       " (28, 'FABIAN ANDRES VALENCIA'),\n",
       " (29, 'FABIOLA AHUMADA JARAMILLO'),\n",
       " (30, 'FREDY MAURICIO SANABRIA PINTO'),\n",
       " (30, 'FREDY MAURICIO SANABRIA PINTO'),\n",
       " (31, 'FUNDACIÓN PÁRAMO Y FRAILEJONES'),\n",
       " (32, 'INDUSTRIAS CARROCERIAS EL SOL S.A.S'),\n",
       " (33, 'INDUSTRIAS RIVMA SAS'),\n",
       " (34, 'JAIRO ENRIQUE MONSALVE MOGROVEJO'),\n",
       " (35, 'JAIRO MONSALVE'),\n",
       " (45, 'JB & DD CONSTRUCCIONES SAS'),\n",
       " (37, 'CONSORCIO ASO'),\n",
       " (37, 'CONSORCIO SS DIGSA FAC'),\n",
       " (37, 'JESUS ORLANDO VIVAS NOGUERA'),\n",
       " (37, 'JESUS ORLANDO VIVAS NOGUERA'),\n",
       " (37, 'JESUS ORLANDO VIVAS NOGUERA'),\n",
       " (38, 'JHON BYRON SOTO ZULUAGA'),\n",
       " (39, 'JORDI ALONSO'),\n",
       " (40, 'JUAN MACHADO'),\n",
       " (41, 'KRISTINA SCHENK'),\n",
       " (42, 'LOLA LUNA'),\n",
       " (43, 'LUIS ANTONIO PIRACON MONSALVE'),\n",
       " (43, 'LUIS ANTONIO PIRACON MONSALVE'),\n",
       " (45, 'LUIS FELIPE MARTINEZ ARENA'),\n",
       " (45, 'LUIS FELIPE MARTINEZ ARENAS'),\n",
       " (45, 'LUIS FELIPE MARTINEZ ARENAS'),\n",
       " (46, 'MARIA FERNANDA BERNAL RESTREPO'),\n",
       " (47, 'MARÍA FERNANDA BERNAL RESTREPO'),\n",
       " (48, 'MARIA JOSÉ TARAZONA GÉLVEÍ'),\n",
       " (49, 'MARIA JOSE TARAZONA GELVEZ'),\n",
       " (50, 'MARIA LEIDER VELASQUEZ MUÑOZ'),\n",
       " (50, 'MARIA LEIDER VELASQUEZ MUÑOZ'),\n",
       " (51, 'MARIO GERMAN GARCIA'),\n",
       " (52, 'MARIO GERMAN GARCIA GARCIA'),\n",
       " (52, 'MARIO GERMAN GARCIA GARCIA'),\n",
       " (54, 'MARIO GERMAN GARCÍA GARCÍA'),\n",
       " (54, 'ETRAINING S.A.S.'),\n",
       " (54, 'MARITZA PINZÓN CAMACHO'),\n",
       " (54, 'MARITZA PINZÓN CAMACHO'),\n",
       " (54, 'MARITZA PINZÓN CAMACHO'),\n",
       " (54, 'UNION TEMPORAL EISPRINGE'),\n",
       " (55, 'MARTIN HERNANDO BASTIDAS BURBANO'),\n",
       " (55, 'MARTIN HERNANDO BASTIDAS BURBANO'),\n",
       " (56, 'NELSON ENRIQUE PAREJA LÓPEZ'),\n",
       " (57, 'OSCAR LEONEL BARRERA REYES'),\n",
       " (57, 'OSCAR LEONEL BARRERA REYES'),\n",
       " (57, 'OSCAR LEONEL BARRERA REYES'),\n",
       " (57, 'OSCAR LEONEL BARRERA REYES'),\n",
       " (58, 'PEPITO TORRES'),\n",
       " (59, 'PGREFORESTACION'),\n",
       " (60, 'PRUEBA'),\n",
       " (61, 'SANDRA PALOMINO'),\n",
       " (62, 'SANTIAGO GUZMAN'),\n",
       " (63, 'SOFIA RINCON'),\n",
       " (64, 'UNIÓN TEMPORAL ACOMPAÑAMIENTO PEDAGÓGICO 2018'),\n",
       " (8, 'UT PROSERVIUS'),\n",
       " (68, 'AMT FÜR UMWELTSCHUTZ  STUTTGART'),\n",
       " (68, 'CAMALEON MULTIMEDIA SAS'),\n",
       " (68, 'CONSORCIO OBP RES'),\n",
       " (68, 'WILFRAN DIAZ LARA'),\n",
       " (68, 'WILFRAN DIAZ LARA'),\n",
       " (68, 'WILFRAN DIAZ LARA'),\n",
       " (69, 'WILSON ALEJANDRO CRUZ TELLEZ'),\n",
       " (69, 'WILSON ALEJANDRO CRUZ TELLEZ')]"
      ]
     },
     "execution_count": 45,
     "metadata": {},
     "output_type": "execute_result"
    }
   ],
   "source": [
    "aristas1 = list(zip(datos['ID'], datos['NOMBRE']))\n",
    "aristas1"
   ]
  },
  {
   "cell_type": "code",
   "execution_count": 46,
   "id": "49cd23ca",
   "metadata": {},
   "outputs": [],
   "source": [
    "G1 = nx.Graph()"
   ]
  },
  {
   "cell_type": "code",
   "execution_count": 47,
   "id": "a4a02edf",
   "metadata": {},
   "outputs": [],
   "source": [
    "G1.add_edges_from(aristas1)"
   ]
  },
  {
   "cell_type": "code",
   "execution_count": 48,
   "id": "e1747317",
   "metadata": {},
   "outputs": [],
   "source": [
    "aristas2 = list(zip(datos['TELEFONO'], datos['NOMBRE']))\n",
    "aristas3 = list(zip(datos['CORREO'], datos['NOMBRE']))"
   ]
  },
  {
   "cell_type": "code",
   "execution_count": 49,
   "id": "58e8aa1c",
   "metadata": {},
   "outputs": [],
   "source": [
    "G1.add_edges_from(aristas2)\n",
    "G1.add_edges_from(aristas3)"
   ]
  },
  {
   "cell_type": "code",
   "execution_count": 50,
   "id": "809b6cd9",
   "metadata": {},
   "outputs": [
    {
     "data": {
      "text/plain": [
       "277"
      ]
     },
     "execution_count": 50,
     "metadata": {},
     "output_type": "execute_result"
    }
   ],
   "source": [
    "G1.number_of_nodes()"
   ]
  },
  {
   "cell_type": "code",
   "execution_count": 51,
   "id": "e8932ac9",
   "metadata": {},
   "outputs": [
    {
     "data": {
      "text/plain": [
       "38226.0"
      ]
     },
     "execution_count": 51,
     "metadata": {},
     "output_type": "execute_result"
    }
   ],
   "source": [
    "277*276/2"
   ]
  },
  {
   "cell_type": "code",
   "execution_count": 52,
   "id": "c92a13ec",
   "metadata": {},
   "outputs": [
    {
     "data": {
      "text/plain": [
       "250"
      ]
     },
     "execution_count": 52,
     "metadata": {},
     "output_type": "execute_result"
    }
   ],
   "source": [
    "G1.number_of_edges()"
   ]
  },
  {
   "cell_type": "code",
   "execution_count": 53,
   "id": "aa085737",
   "metadata": {},
   "outputs": [
    {
     "data": {
      "text/plain": [
       "[(1, 0.0),\n",
       " (2, 0.0),\n",
       " (3, 0.0),\n",
       " (4, 0.0),\n",
       " (5, 0.0),\n",
       " (7, 0.0),\n",
       " (9, 0.0),\n",
       " (12, 0.0),\n",
       " (13, 0.0),\n",
       " (14, 0.0),\n",
       " (15, 0.0),\n",
       " (17, 0.0),\n",
       " (19, 0.0),\n",
       " (20, 0.0),\n",
       " (22, 0.0),\n",
       " (23, 0.0),\n",
       " (24, 0.0),\n",
       " (25, 0.0),\n",
       " (26, 0.0),\n",
       " (28, 0.0),\n",
       " (29, 0.0),\n",
       " (30, 0.0),\n",
       " (31, 0.0),\n",
       " (32, 0.0),\n",
       " (33, 0.0),\n",
       " (34, 0.0),\n",
       " (35, 0.0),\n",
       " (38, 0.0),\n",
       " (39, 0.0),\n",
       " (40, 0.0),\n",
       " (41, 0.0),\n",
       " (42, 0.0),\n",
       " (43, 0.0),\n",
       " (46, 0.0),\n",
       " (47, 0.0),\n",
       " (48, 0.0),\n",
       " (49, 0.0),\n",
       " (50, 0.0),\n",
       " (51, 0.0),\n",
       " (52, 0.0),\n",
       " (55, 0.0),\n",
       " (56, 0.0),\n",
       " (57, 0.0),\n",
       " (58, 0.0),\n",
       " (59, 0.0),\n",
       " (60, 0.0),\n",
       " (61, 0.0),\n",
       " (62, 0.0),\n",
       " (63, 0.0),\n",
       " (64, 0.0),\n",
       " (69, 0.0),\n",
       " (9999171, 0.0),\n",
       " (999970, 0.0),\n",
       " (9999137, 0.0),\n",
       " (999983, 0.0),\n",
       " (999989, 0.0),\n",
       " (9999204, 0.0),\n",
       " (9999135, 0.0),\n",
       " (999940, 0.0),\n",
       " (9999130, 0.0),\n",
       " (9999131, 0.0),\n",
       " (99992, 0.0),\n",
       " (9999149, 0.0),\n",
       " (999987, 0.0),\n",
       " (999976, 0.0),\n",
       " (999943, 0.0),\n",
       " (9999110, 0.0),\n",
       " (9999203, 0.0),\n",
       " (999961, 0.0),\n",
       " (9999126, 0.0),\n",
       " (9999156, 0.0),\n",
       " (999968, 0.0),\n",
       " (999932, 0.0),\n",
       " (9999108, 0.0),\n",
       " (9999174, 0.0),\n",
       " (9999152, 0.0),\n",
       " (999992, 0.0),\n",
       " (999964, 0.0),\n",
       " (9999150, 0.0),\n",
       " (999919, 0.0),\n",
       " (9999102, 0.0),\n",
       " (9999159, 0.0),\n",
       " (999945, 0.0),\n",
       " (999937, 0.0),\n",
       " (9999119, 0.0),\n",
       " (9999148, 0.0),\n",
       " (9999207, 0.0),\n",
       " (999956, 0.0),\n",
       " (999951, 0.0),\n",
       " (999995, 0.0),\n",
       " (9999111, 0.0),\n",
       " (9999127, 0.0),\n",
       " (9999176, 0.0),\n",
       " (9999184, 0.0),\n",
       " (9999182, 0.0),\n",
       " (9999158, 0.0),\n",
       " (9999132, 0.0),\n",
       " (999924, 0.0),\n",
       " (999933, 0.0),\n",
       " (9999104, 0.0),\n",
       " (9999107, 0.0),\n",
       " (9999169, 0.0),\n",
       " (999971, 0.0),\n",
       " (9999187, 0.0),\n",
       " (999928, 0.0),\n",
       " (9999157, 0.0),\n",
       " (9999210, 0.0),\n",
       " (999962, 0.0),\n",
       " (9999109, 0.0),\n",
       " (9999181, 0.0),\n",
       " ('adan_ur@gmail.com', 0.0),\n",
       " ('adrian_@outlook.com', 0.0),\n",
       " ('alejand@outlook.es', 0.0),\n",
       " ('alexand@gmail.com', 0.0),\n",
       " ('aliro_g@outlook.com', 0.0),\n",
       " ('aliro_g@hotmail.com', 0.0),\n",
       " ('andrea_@yahoo.com', 0.0),\n",
       " ('andres_@gmail.com', 0.0),\n",
       " ('andres_@outlook.com', 0.0),\n",
       " ('andres_@outlook.es', 0.0),\n",
       " ('andres_@hotmail.com', 0.0),\n",
       " ('angelic@yahoo.com', 0.0),\n",
       " ('camilo_@gmail.com', 0.0),\n",
       " ('camilo_@outlook.com', 0.0),\n",
       " ('camilo_@yahoo.com', 0.0),\n",
       " ('carlos_@outlook.es', 0.0),\n",
       " ('consorc@outlook.com', 0.0),\n",
       " ('cristia@gmail.com', 0.0),\n",
       " ('cristia@outlook.com', 0.0),\n",
       " ('dairo_r@outlook.es', 0.0),\n",
       " ('daniel_@gmail.com', 0.0),\n",
       " ('daniel_@hotmail.com', 0.0),\n",
       " ('dina_te@yahoo.com', 0.0),\n",
       " ('dina_te@gmail.com', 0.0),\n",
       " ('eduar_a@outlook.com', 0.0),\n",
       " ('fabian_@hotmail.com', 0.0),\n",
       " ('fabian_@gmail.com', 0.0),\n",
       " ('fabiola@outlook.es', 0.0),\n",
       " ('fredy_m@outlook.es', 0.0),\n",
       " ('fundaci@gmail.com', 0.0),\n",
       " ('industr@outlook.com', 0.0),\n",
       " ('jairo_e@gmail.com', 0.0),\n",
       " ('jairo_m@yahoo.com', 0.0),\n",
       " ('jesus_o@hotmail.com', 0.0),\n",
       " ('jesus_o@outlook.com', 0.0),\n",
       " ('jhon_by@outlook.com', 0.0),\n",
       " ('jordi_a@gmail.com', 0.0),\n",
       " ('juan_ma@yahoo.com', 0.0),\n",
       " ('kristin@gmail.com', 0.0),\n",
       " ('lola_lu@hotmail.com', 0.0),\n",
       " ('luis_an@gmail.com', 0.0),\n",
       " ('luis_an@outlook.com', 0.0),\n",
       " ('luis_fe@gmail.com', 0.0),\n",
       " ('luis_fe@yahoo.com', 0.0),\n",
       " ('maria_f@outlook.es', 0.0),\n",
       " ('maría_f@yahoo.com', 0.0),\n",
       " ('maria_j@outlook.com', 0.0),\n",
       " ('maria_j@gmail.com', 0.0),\n",
       " ('maria_l@outlook.com', 0.0),\n",
       " ('maria_l@gmail.com', 0.0),\n",
       " ('mario_g@yahoo.com', 0.0),\n",
       " ('mario_g@hotmail.com', 0.0),\n",
       " ('mario_g@outlook.es', 0.0),\n",
       " ('mario_g@outlook.com', 0.0),\n",
       " ('etraini@outlook.com', 0.0),\n",
       " ('maritza@outlook.com', 0.0),\n",
       " ('maritza@outlook.es', 0.0),\n",
       " ('union_t@gmail.com', 0.0),\n",
       " ('martin_@gmail.com', 0.0),\n",
       " ('martin_@hotmail.com', 0.0),\n",
       " ('nelson_@gmail.com', 0.0),\n",
       " ('oscar_l@outlook.es', 0.0),\n",
       " ('oscar_l@yahoo.com', 0.0),\n",
       " ('oscar_l@hotmail.com', 0.0),\n",
       " ('pepito_@gmail.com', 0.0),\n",
       " ('pgrefor@yahoo.com', 0.0),\n",
       " ('prueba@gmail.com', 0.0),\n",
       " ('sandra_@hotmail.com', 0.0),\n",
       " ('santiag@gmail.com', 0.0),\n",
       " ('sofia_r@gmail.com', 0.0),\n",
       " ('unión_t@outlook.es', 0.0),\n",
       " ('amt_für@outlook.com', 0.0),\n",
       " ('camaleo@gmail.com', 0.0),\n",
       " ('wilson_@outlook.com', 0.0),\n",
       " ('ADAN URIBE', 7.905138339920949e-05),\n",
       " ('ALEJANDRO MONTOYA', 7.905138339920949e-05),\n",
       " ('ANDREA PAOLA SANTOS', 7.905138339920949e-05),\n",
       " ('ANGELICA PEREZ', 7.905138339920949e-05),\n",
       " ('CARLOS ARTURO MERCHÁN', 7.905138339920949e-05),\n",
       " ('CONSORCIO ASPE', 7.905138339920949e-05),\n",
       " ('EDUAR ALFONSO MONTIEL PERALTA', 7.905138339920949e-05),\n",
       " ('JAIRO MONSALVE', 7.905138339920949e-05),\n",
       " ('JHON BYRON SOTO ZULUAGA', 7.905138339920949e-05),\n",
       " ('JORDI ALONSO', 7.905138339920949e-05),\n",
       " ('JUAN MACHADO', 7.905138339920949e-05),\n",
       " ('KRISTINA SCHENK', 7.905138339920949e-05),\n",
       " ('MARIA FERNANDA BERNAL RESTREPO', 7.905138339920949e-05),\n",
       " ('MARÍA FERNANDA BERNAL RESTREPO', 7.905138339920949e-05),\n",
       " ('MARIA JOSÉ TARAZONA GÉLVEÍ', 7.905138339920949e-05),\n",
       " ('NELSON ENRIQUE PAREJA LÓPEZ', 7.905138339920949e-05),\n",
       " ('PRUEBA', 7.905138339920949e-05),\n",
       " ('SANDRA PALOMINO', 7.905138339920949e-05),\n",
       " ('SOFIA RINCON', 7.905138339920949e-05),\n",
       " ('ALEXANDER AREVALI MUÑOZ', 0.00015810276679841898),\n",
       " ('CRISTIAN GERARDO PEREZ VEGA', 0.00015810276679841898),\n",
       " ('DANIEL JOSE NIEVES VERGARA', 0.00015810276679841898),\n",
       " ('CARLOS CERVANTES', 0.00023715415019762848),\n",
       " ('CARLOS EDUARDO RIVEROS CALDERON', 0.00023715415019762848),\n",
       " ('FUNDACIÓN PÁRAMO Y FRAILEJONES', 0.00023715415019762848),\n",
       " ('JAIRO ENRIQUE MONSALVE MOGROVEJO', 0.00023715415019762848),\n",
       " ('LOLA LUNA', 0.00023715415019762848),\n",
       " ('MARIO GERMAN GARCIA', 0.00023715415019762848),\n",
       " (9999141, 0.00023715415019762848),\n",
       " (999985, 0.00023715415019762848),\n",
       " ('carlos_@gmail.com', 0.00023715415019762848),\n",
       " ('FABIAN ANDRES VALENCIA', 0.0002635046113306983),\n",
       " ('LUIS ANTONIO PIRACON MONSALVE', 0.0002635046113306983),\n",
       " ('CAMILO ANDRES NIÑO MORALES', 0.0003952569169960474),\n",
       " ('DINA TERESA LEON PEROZA', 0.0003952569169960474),\n",
       " (9999129, 0.005994729907773386),\n",
       " ('ADRIAN KAUFFMANN CRUZ', 0.0071936758893280635),\n",
       " ('CONSORCIO S&S COFAC 029', 0.0071936758893280635),\n",
       " ('CONSORCIO S&S TOLEMAIDA', 0.0071936758893280635),\n",
       " ('DAIRO RODRIGUEZ BONILLA', 0.0071936758893280635),\n",
       " ('FABIOLA AHUMADA JARAMILLO', 0.0071936758893280635),\n",
       " ('INDUSTRIAS CARROCERIAS EL SOL S.A.S', 0.0071936758893280635),\n",
       " ('INDUSTRIAS RIVMA SAS', 0.0071936758893280635),\n",
       " ('MARIA JOSE TARAZONA GELVEZ', 0.0071936758893280635),\n",
       " ('MARIO GERMAN GARCÍA GARCÍA', 0.0071936758893280635),\n",
       " ('PEPITO TORRES', 0.0071936758893280635),\n",
       " ('PGREFORESTACION', 0.0071936758893280635),\n",
       " ('SANTIAGO GUZMAN', 0.0071936758893280635),\n",
       " ('UNIÓN TEMPORAL ACOMPAÑAMIENTO PEDAGÓGICO 2018', 0.0071936758893280635),\n",
       " ('AMT FÜR UMWELTSCHUTZ  STUTTGART', 0.0071936758893280635),\n",
       " ('CAMALEON MULTIMEDIA SAS', 0.0071936758893280635),\n",
       " (9999117, 0.010671936758893281),\n",
       " (999967, 0.010671936758893281),\n",
       " (999911, 0.010671936758893281),\n",
       " ('consorc@hotmail.com', 0.010671936758893281),\n",
       " ('ALIRO GIOVANNY CARDENAS RICO', 0.014281949934123848),\n",
       " ('FREDY MAURICIO SANABRIA PINTO', 0.014281949934123848),\n",
       " ('MARIA LEIDER VELASQUEZ MUÑOZ', 0.014281949934123848),\n",
       " ('MARIO GERMAN GARCIA GARCIA', 0.014281949934123848),\n",
       " ('MARTIN HERNANDO BASTIDAS BURBANO', 0.014281949934123848),\n",
       " (9999155, 0.017523056653491437),\n",
       " (999965, 0.017523056653491437),\n",
       " (999923, 0.017523056653491437),\n",
       " (999975, 0.017523056653491437),\n",
       " ('fredy_m@yahoo.com', 0.017523056653491437),\n",
       " ('CONSORCIO OBP RES', 0.017628458498023716),\n",
       " ('JB & DD CONSTRUCCIONES SAS', 0.01855072463768116),\n",
       " ('LUIS FELIPE MARTINEZ ARENA', 0.01855072463768116),\n",
       " (999947, 0.021106719367588934),\n",
       " (999941, 0.021106719367588934),\n",
       " ('UNION TEMPORAL EISPRINGE', 0.02432147562582345),\n",
       " ('LUIS FELIPE MARTINEZ ARENAS', 0.02455862977602108),\n",
       " (45, 0.027457180500658762),\n",
       " ('JESUS ORLANDO VIVAS NOGUERA', 0.02798418972332016),\n",
       " ('WILSON ALEJANDRO CRUZ TELLEZ', 0.03114624505928854),\n",
       " ('ut_pros@yahoo.com', 0.033728590250329385),\n",
       " ('ASESORIAS EMPRESARIALES Y CONSTRUCCIONES SAS', 0.03733421168203776),\n",
       " (68, 0.04102766798418973),\n",
       " ('OSCAR LEONEL BARRERA REYES', 0.04118577075098814),\n",
       " ('ANDRES FELIPE HERNANDEZ SUAREZ', 0.04215195432586737),\n",
       " (999921, 0.04281949934123847),\n",
       " ('MARITZA PINZÓN CAMACHO', 0.053732981993851556),\n",
       " ('luis_fe@outlook.com', 0.061308739569609146),\n",
       " (8, 0.06361879666227495),\n",
       " ('CONSORCIO ASO', 0.06440052700922266),\n",
       " ('ETRAINING S.A.S.', 0.06554677206851119),\n",
       " (54, 0.07302151954325867),\n",
       " ('UT PROSERVIUS', 0.08497584541062801),\n",
       " (37, 0.09035573122529644),\n",
       " ('CONSORCIO SS DIGSA FAC', 0.10337285902503295),\n",
       " ('wilfran@hotmail.com', 0.10779973649538867),\n",
       " (9999188, 0.14396135265700485),\n",
       " ('WILFRAN DIAZ LARA', 0.1506719367588933)]"
      ]
     },
     "execution_count": 53,
     "metadata": {},
     "output_type": "execute_result"
    }
   ],
   "source": [
    "sorted(nx.betweenness_centrality(G1).items(), key = lambda x: x[1])"
   ]
  },
  {
   "cell_type": "code",
   "execution_count": 57,
   "id": "da7eee12",
   "metadata": {},
   "outputs": [
    {
     "data": {
      "text/plain": [
       "[(68, 'AMT FÜR UMWELTSCHUTZ  STUTTGART'),\n",
       " ('AMT FÜR UMWELTSCHUTZ  STUTTGART', 9999157),\n",
       " ('AMT FÜR UMWELTSCHUTZ  STUTTGART', 'amt_für@outlook.com'),\n",
       " (68, 'CAMALEON MULTIMEDIA SAS'),\n",
       " ('CAMALEON MULTIMEDIA SAS', 9999210),\n",
       " ('CAMALEON MULTIMEDIA SAS', 'camaleo@gmail.com'),\n",
       " (68, 'CONSORCIO OBP RES'),\n",
       " ('CONSORCIO OBP RES', 999962),\n",
       " ('CONSORCIO OBP RES', 'consorc@hotmail.com'),\n",
       " ('consorc@hotmail.com', 'CONSORCIO S&S COFAC 029'),\n",
       " ('CONSORCIO S&S COFAC 029', 19),\n",
       " ('CONSORCIO S&S COFAC 029', 999943),\n",
       " (68, 'WILFRAN DIAZ LARA'),\n",
       " ('WILFRAN DIAZ LARA', 9999109),\n",
       " ('WILFRAN DIAZ LARA', 9999188),\n",
       " (9999188, 'INDUSTRIAS RIVMA SAS'),\n",
       " ('INDUSTRIAS RIVMA SAS', 33),\n",
       " ('INDUSTRIAS RIVMA SAS', 'industr@outlook.com'),\n",
       " (9999188, 'ETRAINING S.A.S.'),\n",
       " ('ETRAINING S.A.S.', 54),\n",
       " (54, 'MARIO GERMAN GARCÍA GARCÍA'),\n",
       " ('MARIO GERMAN GARCÍA GARCÍA', 9999158),\n",
       " ('MARIO GERMAN GARCÍA GARCÍA', 'mario_g@outlook.com'),\n",
       " (54, 'MARITZA PINZÓN CAMACHO'),\n",
       " ('MARITZA PINZÓN CAMACHO', 999911),\n",
       " (999911, 'MARIA JOSE TARAZONA GELVEZ'),\n",
       " ('MARIA JOSE TARAZONA GELVEZ', 49),\n",
       " ('MARIA JOSE TARAZONA GELVEZ', 'maria_j@gmail.com'),\n",
       " ('MARITZA PINZÓN CAMACHO', 9999132),\n",
       " ('MARITZA PINZÓN CAMACHO', 999924),\n",
       " ('MARITZA PINZÓN CAMACHO', 'maritza@outlook.com'),\n",
       " ('MARITZA PINZÓN CAMACHO', 'luis_fe@outlook.com'),\n",
       " ('luis_fe@outlook.com', 'ASESORIAS EMPRESARIALES Y CONSTRUCCIONES SAS'),\n",
       " ('ASESORIAS EMPRESARIALES Y CONSTRUCCIONES SAS', 8),\n",
       " (8, 'ANDRES FELIPE HERNANDEZ SUAREZ'),\n",
       " ('ANDRES FELIPE HERNANDEZ SUAREZ', 9999129),\n",
       " ('ANDRES FELIPE HERNANDEZ SUAREZ', 9999135),\n",
       " ('ANDRES FELIPE HERNANDEZ SUAREZ', 999947),\n",
       " (999947, 'FABIOLA AHUMADA JARAMILLO'),\n",
       " ('FABIOLA AHUMADA JARAMILLO', 29),\n",
       " ('FABIOLA AHUMADA JARAMILLO', 'fabiola@outlook.es'),\n",
       " (999947, 'SANTIAGO GUZMAN'),\n",
       " ('SANTIAGO GUZMAN', 62),\n",
       " ('SANTIAGO GUZMAN', 'santiag@gmail.com'),\n",
       " ('ANDRES FELIPE HERNANDEZ SUAREZ', 'andres_@gmail.com'),\n",
       " ('ANDRES FELIPE HERNANDEZ SUAREZ', 'andres_@outlook.com'),\n",
       " ('ANDRES FELIPE HERNANDEZ SUAREZ', 'andres_@outlook.es'),\n",
       " ('ANDRES FELIPE HERNANDEZ SUAREZ', 'andres_@hotmail.com'),\n",
       " (8, 'UT PROSERVIUS'),\n",
       " ('UT PROSERVIUS', 'ut_pros@yahoo.com'),\n",
       " ('ut_pros@yahoo.com', 'WILSON ALEJANDRO CRUZ TELLEZ'),\n",
       " ('WILSON ALEJANDRO CRUZ TELLEZ', 69),\n",
       " ('WILSON ALEJANDRO CRUZ TELLEZ', 9999181),\n",
       " ('WILSON ALEJANDRO CRUZ TELLEZ', 999923),\n",
       " (999923, 'MARIA LEIDER VELASQUEZ MUÑOZ'),\n",
       " ('MARIA LEIDER VELASQUEZ MUÑOZ', 50),\n",
       " ('MARIA LEIDER VELASQUEZ MUÑOZ', 9999184),\n",
       " ('MARIA LEIDER VELASQUEZ MUÑOZ', 'maria_l@outlook.com'),\n",
       " ('MARIA LEIDER VELASQUEZ MUÑOZ', 'maria_l@gmail.com'),\n",
       " ('WILSON ALEJANDRO CRUZ TELLEZ', 'wilson_@outlook.com'),\n",
       " ('luis_fe@outlook.com', 'INDUSTRIAS CARROCERIAS EL SOL S.A.S'),\n",
       " ('INDUSTRIAS CARROCERIAS EL SOL S.A.S', 32),\n",
       " ('INDUSTRIAS CARROCERIAS EL SOL S.A.S', 999964),\n",
       " ('luis_fe@outlook.com', 'JB & DD CONSTRUCCIONES SAS'),\n",
       " ('JB & DD CONSTRUCCIONES SAS', 45),\n",
       " (45, 'LUIS FELIPE MARTINEZ ARENA'),\n",
       " ('LUIS FELIPE MARTINEZ ARENA', 999951),\n",
       " (45, 'LUIS FELIPE MARTINEZ ARENAS'),\n",
       " ('LUIS FELIPE MARTINEZ ARENAS', 9999117),\n",
       " (9999117, 'ADRIAN KAUFFMANN CRUZ'),\n",
       " ('ADRIAN KAUFFMANN CRUZ', 2),\n",
       " ('ADRIAN KAUFFMANN CRUZ', 'adrian_@outlook.com'),\n",
       " ('LUIS FELIPE MARTINEZ ARENAS', 999995),\n",
       " ('LUIS FELIPE MARTINEZ ARENAS', 'luis_fe@gmail.com'),\n",
       " ('LUIS FELIPE MARTINEZ ARENAS', 'luis_fe@yahoo.com'),\n",
       " ('JB & DD CONSTRUCCIONES SAS', 999919),\n",
       " ('MARITZA PINZÓN CAMACHO', 'maritza@outlook.es'),\n",
       " (54, 'UNION TEMPORAL EISPRINGE'),\n",
       " ('UNION TEMPORAL EISPRINGE', 999975),\n",
       " (999975, 'MARIO GERMAN GARCIA GARCIA'),\n",
       " ('MARIO GERMAN GARCIA GARCIA', 52),\n",
       " ('MARIO GERMAN GARCIA GARCIA', 9999182),\n",
       " ('MARIO GERMAN GARCIA GARCIA', 'mario_g@hotmail.com'),\n",
       " ('MARIO GERMAN GARCIA GARCIA', 'mario_g@outlook.es'),\n",
       " ('UNION TEMPORAL EISPRINGE', 'union_t@gmail.com'),\n",
       " ('ETRAINING S.A.S.', 'etraini@outlook.com'),\n",
       " (9999188, 'PGREFORESTACION'),\n",
       " ('PGREFORESTACION', 59),\n",
       " ('PGREFORESTACION', 'pgrefor@yahoo.com'),\n",
       " ('WILFRAN DIAZ LARA', 999941),\n",
       " (999941, 'PEPITO TORRES'),\n",
       " ('PEPITO TORRES', 58),\n",
       " ('PEPITO TORRES', 'pepito_@gmail.com'),\n",
       " (999941, 'UNIÓN TEMPORAL ACOMPAÑAMIENTO PEDAGÓGICO 2018'),\n",
       " ('UNIÓN TEMPORAL ACOMPAÑAMIENTO PEDAGÓGICO 2018', 64),\n",
       " ('UNIÓN TEMPORAL ACOMPAÑAMIENTO PEDAGÓGICO 2018', 'unión_t@outlook.es'),\n",
       " ('WILFRAN DIAZ LARA', 'wilfran@hotmail.com'),\n",
       " ('wilfran@hotmail.com', 'CONSORCIO S&S TOLEMAIDA'),\n",
       " ('CONSORCIO S&S TOLEMAIDA', 20),\n",
       " ('CONSORCIO S&S TOLEMAIDA', 9999110),\n",
       " ('wilfran@hotmail.com', 'CONSORCIO SS DIGSA FAC'),\n",
       " ('CONSORCIO SS DIGSA FAC', 37),\n",
       " (37, 'CONSORCIO ASO'),\n",
       " ('CONSORCIO ASO', 999921),\n",
       " (999921, 'OSCAR LEONEL BARRERA REYES'),\n",
       " ('OSCAR LEONEL BARRERA REYES', 57),\n",
       " ('OSCAR LEONEL BARRERA REYES', 9999107),\n",
       " ('OSCAR LEONEL BARRERA REYES', 9999155),\n",
       " (9999155, 'ALIRO GIOVANNY CARDENAS RICO'),\n",
       " ('ALIRO GIOVANNY CARDENAS RICO', 5),\n",
       " ('ALIRO GIOVANNY CARDENAS RICO', 999989),\n",
       " ('ALIRO GIOVANNY CARDENAS RICO', 'aliro_g@outlook.com'),\n",
       " ('ALIRO GIOVANNY CARDENAS RICO', 'aliro_g@hotmail.com'),\n",
       " ('OSCAR LEONEL BARRERA REYES', 9999169),\n",
       " ('OSCAR LEONEL BARRERA REYES', 'oscar_l@outlook.es'),\n",
       " ('OSCAR LEONEL BARRERA REYES', 'oscar_l@yahoo.com'),\n",
       " ('OSCAR LEONEL BARRERA REYES', 'oscar_l@hotmail.com'),\n",
       " ('CONSORCIO ASO', 'fredy_m@yahoo.com'),\n",
       " ('fredy_m@yahoo.com', 'FREDY MAURICIO SANABRIA PINTO'),\n",
       " ('FREDY MAURICIO SANABRIA PINTO', 30),\n",
       " ('FREDY MAURICIO SANABRIA PINTO', 9999152),\n",
       " ('FREDY MAURICIO SANABRIA PINTO', 999992),\n",
       " ('FREDY MAURICIO SANABRIA PINTO', 'fredy_m@outlook.es'),\n",
       " (37, 'JESUS ORLANDO VIVAS NOGUERA'),\n",
       " ('JESUS ORLANDO VIVAS NOGUERA', 9999102),\n",
       " ('JESUS ORLANDO VIVAS NOGUERA', 9999159),\n",
       " ('JESUS ORLANDO VIVAS NOGUERA', 999967),\n",
       " (999967, 'DAIRO RODRIGUEZ BONILLA'),\n",
       " ('DAIRO RODRIGUEZ BONILLA', 23),\n",
       " ('DAIRO RODRIGUEZ BONILLA', 'dairo_r@outlook.es'),\n",
       " ('JESUS ORLANDO VIVAS NOGUERA', 'jesus_o@hotmail.com'),\n",
       " ('JESUS ORLANDO VIVAS NOGUERA', 'jesus_o@outlook.com'),\n",
       " ('CONSORCIO SS DIGSA FAC', 999965),\n",
       " (999965, 'MARTIN HERNANDO BASTIDAS BURBANO'),\n",
       " ('MARTIN HERNANDO BASTIDAS BURBANO', 55),\n",
       " ('MARTIN HERNANDO BASTIDAS BURBANO', 999933),\n",
       " ('MARTIN HERNANDO BASTIDAS BURBANO', 'martin_@gmail.com'),\n",
       " ('MARTIN HERNANDO BASTIDAS BURBANO', 'martin_@hotmail.com')]"
      ]
     },
     "execution_count": 57,
     "metadata": {},
     "output_type": "execute_result"
    }
   ],
   "source": [
    "list(nx.dfs_edges(G1, 68))"
   ]
  },
  {
   "cell_type": "code",
   "execution_count": 61,
   "id": "84e74f94",
   "metadata": {},
   "outputs": [
    {
     "data": {
      "text/plain": [
       "[68,\n",
       " 'AMT FÜR UMWELTSCHUTZ  STUTTGART',\n",
       " 'CAMALEON MULTIMEDIA SAS',\n",
       " 'CONSORCIO OBP RES',\n",
       " 'WILFRAN DIAZ LARA',\n",
       " 9999157,\n",
       " 'amt_für@outlook.com',\n",
       " 9999210,\n",
       " 'camaleo@gmail.com',\n",
       " 999962,\n",
       " 'consorc@hotmail.com',\n",
       " 9999109,\n",
       " 9999188,\n",
       " 999941,\n",
       " 'wilfran@hotmail.com',\n",
       " 'CONSORCIO S&S COFAC 029',\n",
       " 'INDUSTRIAS RIVMA SAS',\n",
       " 'ETRAINING S.A.S.',\n",
       " 'PGREFORESTACION',\n",
       " 'UT PROSERVIUS',\n",
       " 'PEPITO TORRES',\n",
       " 'UNIÓN TEMPORAL ACOMPAÑAMIENTO PEDAGÓGICO 2018',\n",
       " 'CONSORCIO S&S TOLEMAIDA',\n",
       " 'CONSORCIO SS DIGSA FAC',\n",
       " 19,\n",
       " 999943,\n",
       " 33,\n",
       " 'industr@outlook.com',\n",
       " 54,\n",
       " 'etraini@outlook.com',\n",
       " 59,\n",
       " 'pgrefor@yahoo.com',\n",
       " 8,\n",
       " 'ut_pros@yahoo.com',\n",
       " 58,\n",
       " 'pepito_@gmail.com',\n",
       " 64,\n",
       " 'unión_t@outlook.es',\n",
       " 20,\n",
       " 9999110,\n",
       " 37,\n",
       " 999965,\n",
       " 'MARIO GERMAN GARCÍA GARCÍA',\n",
       " 'MARITZA PINZÓN CAMACHO',\n",
       " 'UNION TEMPORAL EISPRINGE',\n",
       " 'ANDRES FELIPE HERNANDEZ SUAREZ',\n",
       " 'ASESORIAS EMPRESARIALES Y CONSTRUCCIONES SAS',\n",
       " 'WILSON ALEJANDRO CRUZ TELLEZ',\n",
       " 'CONSORCIO ASO',\n",
       " 'JESUS ORLANDO VIVAS NOGUERA',\n",
       " 'MARTIN HERNANDO BASTIDAS BURBANO',\n",
       " 9999158,\n",
       " 'mario_g@outlook.com',\n",
       " 999911,\n",
       " 9999132,\n",
       " 999924,\n",
       " 'maritza@outlook.com',\n",
       " 'luis_fe@outlook.com',\n",
       " 'maritza@outlook.es',\n",
       " 999975,\n",
       " 'union_t@gmail.com',\n",
       " 9999129,\n",
       " 9999135,\n",
       " 999947,\n",
       " 'andres_@gmail.com',\n",
       " 'andres_@outlook.com',\n",
       " 'andres_@outlook.es',\n",
       " 'andres_@hotmail.com',\n",
       " 69,\n",
       " 9999181,\n",
       " 999923,\n",
       " 'wilson_@outlook.com',\n",
       " 999921,\n",
       " 'fredy_m@yahoo.com',\n",
       " 9999102,\n",
       " 9999159,\n",
       " 999967,\n",
       " 'jesus_o@hotmail.com',\n",
       " 'jesus_o@outlook.com',\n",
       " 55,\n",
       " 999933,\n",
       " 'martin_@gmail.com',\n",
       " 'martin_@hotmail.com',\n",
       " 'MARIA JOSE TARAZONA GELVEZ',\n",
       " 'INDUSTRIAS CARROCERIAS EL SOL S.A.S',\n",
       " 'JB & DD CONSTRUCCIONES SAS',\n",
       " 'LUIS FELIPE MARTINEZ ARENA',\n",
       " 'MARIO GERMAN GARCIA GARCIA',\n",
       " 'FABIOLA AHUMADA JARAMILLO',\n",
       " 'SANTIAGO GUZMAN',\n",
       " 'MARIA LEIDER VELASQUEZ MUÑOZ',\n",
       " 'OSCAR LEONEL BARRERA REYES',\n",
       " 'FREDY MAURICIO SANABRIA PINTO',\n",
       " 'DAIRO RODRIGUEZ BONILLA',\n",
       " 49,\n",
       " 'maria_j@gmail.com',\n",
       " 32,\n",
       " 999964,\n",
       " 45,\n",
       " 999919,\n",
       " 999951,\n",
       " 52,\n",
       " 9999182,\n",
       " 'mario_g@hotmail.com',\n",
       " 'mario_g@outlook.es',\n",
       " 29,\n",
       " 'fabiola@outlook.es',\n",
       " 62,\n",
       " 'santiag@gmail.com',\n",
       " 50,\n",
       " 9999184,\n",
       " 'maria_l@outlook.com',\n",
       " 'maria_l@gmail.com',\n",
       " 57,\n",
       " 9999107,\n",
       " 9999155,\n",
       " 9999169,\n",
       " 'oscar_l@outlook.es',\n",
       " 'oscar_l@yahoo.com',\n",
       " 'oscar_l@hotmail.com',\n",
       " 30,\n",
       " 9999152,\n",
       " 999992,\n",
       " 'fredy_m@outlook.es',\n",
       " 23,\n",
       " 'dairo_r@outlook.es',\n",
       " 'LUIS FELIPE MARTINEZ ARENAS',\n",
       " 'ALIRO GIOVANNY CARDENAS RICO',\n",
       " 9999117,\n",
       " 999995,\n",
       " 'luis_fe@gmail.com',\n",
       " 'luis_fe@yahoo.com',\n",
       " 5,\n",
       " 999989,\n",
       " 'aliro_g@outlook.com',\n",
       " 'aliro_g@hotmail.com',\n",
       " 'ADRIAN KAUFFMANN CRUZ',\n",
       " 2,\n",
       " 'adrian_@outlook.com']"
      ]
     },
     "execution_count": 61,
     "metadata": {},
     "output_type": "execute_result"
    }
   ],
   "source": [
    "raiz = 68\n",
    "aristas = nx.bfs_edges(G1, raiz)\n",
    "lista = [raiz] + [val[1] for val in aristas]\n",
    "lista"
   ]
  },
  {
   "cell_type": "code",
   "execution_count": 62,
   "id": "83b7f3c6",
   "metadata": {},
   "outputs": [
    {
     "data": {
      "text/plain": [
       "[68,\n",
       " 'AMT FÜR UMWELTSCHUTZ  STUTTGART',\n",
       " 9999157,\n",
       " 'amt_für@outlook.com',\n",
       " 'CAMALEON MULTIMEDIA SAS',\n",
       " 9999210,\n",
       " 'camaleo@gmail.com',\n",
       " 'CONSORCIO OBP RES',\n",
       " 999962,\n",
       " 'consorc@hotmail.com',\n",
       " 'CONSORCIO S&S COFAC 029',\n",
       " 19,\n",
       " 999943,\n",
       " 'WILFRAN DIAZ LARA',\n",
       " 9999109,\n",
       " 9999188,\n",
       " 'INDUSTRIAS RIVMA SAS',\n",
       " 33,\n",
       " 'industr@outlook.com',\n",
       " 'ETRAINING S.A.S.',\n",
       " 54,\n",
       " 'MARIO GERMAN GARCÍA GARCÍA',\n",
       " 9999158,\n",
       " 'mario_g@outlook.com',\n",
       " 'MARITZA PINZÓN CAMACHO',\n",
       " 999911,\n",
       " 'MARIA JOSE TARAZONA GELVEZ',\n",
       " 49,\n",
       " 'maria_j@gmail.com',\n",
       " 9999132,\n",
       " 999924,\n",
       " 'maritza@outlook.com',\n",
       " 'luis_fe@outlook.com',\n",
       " 'ASESORIAS EMPRESARIALES Y CONSTRUCCIONES SAS',\n",
       " 8,\n",
       " 'ANDRES FELIPE HERNANDEZ SUAREZ',\n",
       " 9999129,\n",
       " 9999135,\n",
       " 999947,\n",
       " 'FABIOLA AHUMADA JARAMILLO',\n",
       " 29,\n",
       " 'fabiola@outlook.es',\n",
       " 'SANTIAGO GUZMAN',\n",
       " 62,\n",
       " 'santiag@gmail.com',\n",
       " 'andres_@gmail.com',\n",
       " 'andres_@outlook.com',\n",
       " 'andres_@outlook.es',\n",
       " 'andres_@hotmail.com',\n",
       " 'UT PROSERVIUS',\n",
       " 'ut_pros@yahoo.com',\n",
       " 'WILSON ALEJANDRO CRUZ TELLEZ',\n",
       " 69,\n",
       " 9999181,\n",
       " 999923,\n",
       " 'MARIA LEIDER VELASQUEZ MUÑOZ',\n",
       " 50,\n",
       " 9999184,\n",
       " 'maria_l@outlook.com',\n",
       " 'maria_l@gmail.com',\n",
       " 'wilson_@outlook.com',\n",
       " 'INDUSTRIAS CARROCERIAS EL SOL S.A.S',\n",
       " 32,\n",
       " 999964,\n",
       " 'JB & DD CONSTRUCCIONES SAS',\n",
       " 45,\n",
       " 'LUIS FELIPE MARTINEZ ARENA',\n",
       " 999951,\n",
       " 'LUIS FELIPE MARTINEZ ARENAS',\n",
       " 9999117,\n",
       " 'ADRIAN KAUFFMANN CRUZ',\n",
       " 2,\n",
       " 'adrian_@outlook.com',\n",
       " 999995,\n",
       " 'luis_fe@gmail.com',\n",
       " 'luis_fe@yahoo.com',\n",
       " 999919,\n",
       " 'maritza@outlook.es',\n",
       " 'UNION TEMPORAL EISPRINGE',\n",
       " 999975,\n",
       " 'MARIO GERMAN GARCIA GARCIA',\n",
       " 52,\n",
       " 9999182,\n",
       " 'mario_g@hotmail.com',\n",
       " 'mario_g@outlook.es',\n",
       " 'union_t@gmail.com',\n",
       " 'etraini@outlook.com',\n",
       " 'PGREFORESTACION',\n",
       " 59,\n",
       " 'pgrefor@yahoo.com',\n",
       " 999941,\n",
       " 'PEPITO TORRES',\n",
       " 58,\n",
       " 'pepito_@gmail.com',\n",
       " 'UNIÓN TEMPORAL ACOMPAÑAMIENTO PEDAGÓGICO 2018',\n",
       " 64,\n",
       " 'unión_t@outlook.es',\n",
       " 'wilfran@hotmail.com',\n",
       " 'CONSORCIO S&S TOLEMAIDA',\n",
       " 20,\n",
       " 9999110,\n",
       " 'CONSORCIO SS DIGSA FAC',\n",
       " 37,\n",
       " 'CONSORCIO ASO',\n",
       " 999921,\n",
       " 'OSCAR LEONEL BARRERA REYES',\n",
       " 57,\n",
       " 9999107,\n",
       " 9999155,\n",
       " 'ALIRO GIOVANNY CARDENAS RICO',\n",
       " 5,\n",
       " 999989,\n",
       " 'aliro_g@outlook.com',\n",
       " 'aliro_g@hotmail.com',\n",
       " 9999169,\n",
       " 'oscar_l@outlook.es',\n",
       " 'oscar_l@yahoo.com',\n",
       " 'oscar_l@hotmail.com',\n",
       " 'fredy_m@yahoo.com',\n",
       " 'FREDY MAURICIO SANABRIA PINTO',\n",
       " 30,\n",
       " 9999152,\n",
       " 999992,\n",
       " 'fredy_m@outlook.es',\n",
       " 'JESUS ORLANDO VIVAS NOGUERA',\n",
       " 9999102,\n",
       " 9999159,\n",
       " 999967,\n",
       " 'DAIRO RODRIGUEZ BONILLA',\n",
       " 23,\n",
       " 'dairo_r@outlook.es',\n",
       " 'jesus_o@hotmail.com',\n",
       " 'jesus_o@outlook.com',\n",
       " 999965,\n",
       " 'MARTIN HERNANDO BASTIDAS BURBANO',\n",
       " 55,\n",
       " 999933,\n",
       " 'martin_@gmail.com',\n",
       " 'martin_@hotmail.com']"
      ]
     },
     "execution_count": 62,
     "metadata": {},
     "output_type": "execute_result"
    }
   ],
   "source": [
    "raiz = 68\n",
    "aristas = nx.dfs_edges(G1, raiz)\n",
    "lista = [raiz] + [val[1] for val in aristas]\n",
    "lista"
   ]
  }
 ],
 "metadata": {
  "kernelspec": {
   "display_name": "Python 3 (ipykernel)",
   "language": "python",
   "name": "python3"
  },
  "language_info": {
   "codemirror_mode": {
    "name": "ipython",
    "version": 3
   },
   "file_extension": ".py",
   "mimetype": "text/x-python",
   "name": "python",
   "nbconvert_exporter": "python",
   "pygments_lexer": "ipython3",
   "version": "3.10.9"
  }
 },
 "nbformat": 4,
 "nbformat_minor": 5
}
