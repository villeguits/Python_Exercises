{
 "cells": [
  {
   "cell_type": "code",
   "execution_count": 1,
   "id": "83d1b848",
   "metadata": {},
   "outputs": [
    {
     "name": "stdout",
     "output_type": "stream",
     "text": [
      "¡Hola Mundo!\n"
     ]
    }
   ],
   "source": [
    "print('¡Hola Mundo!')"
   ]
  },
  {
   "cell_type": "code",
   "execution_count": 8,
   "id": "7ccb7223",
   "metadata": {},
   "outputs": [
    {
     "name": "stdout",
     "output_type": "stream",
     "text": [
      "6\n",
      "3.3333333333333335\n",
      "-10\n",
      "27\n",
      "3\n",
      "2\n"
     ]
    }
   ],
   "source": [
    "# Operaciones matemáticas (Calculadora)\n",
    "\n",
    "2+2\n",
    "print(2*3)\n",
    "print(20/6)\n",
    "print(50-60)\n",
    "\n",
    "print(3**3)\n",
    "\n",
    "print(20//6)\n",
    "print(20%6)"
   ]
  },
  {
   "cell_type": "code",
   "execution_count": 9,
   "id": "4276a512",
   "metadata": {},
   "outputs": [
    {
     "name": "stdout",
     "output_type": "stream",
     "text": [
      "<class 'int'>\n"
     ]
    }
   ],
   "source": [
    "print(type(5))"
   ]
  },
  {
   "cell_type": "code",
   "execution_count": 10,
   "id": "1ef6e410",
   "metadata": {},
   "outputs": [
    {
     "name": "stdout",
     "output_type": "stream",
     "text": [
      "<class 'float'>\n"
     ]
    }
   ],
   "source": [
    "print(type(1.5))"
   ]
  },
  {
   "cell_type": "code",
   "execution_count": 11,
   "id": "a4048bd3",
   "metadata": {},
   "outputs": [
    {
     "name": "stdout",
     "output_type": "stream",
     "text": [
      "<class 'str'>\n"
     ]
    }
   ],
   "source": [
    "print(type('¡Hola Mundo!'))"
   ]
  },
  {
   "cell_type": "code",
   "execution_count": 13,
   "id": "58d65c9b",
   "metadata": {},
   "outputs": [
    {
     "name": "stdout",
     "output_type": "stream",
     "text": [
      "False\n",
      "True\n",
      "<class 'bool'>\n"
     ]
    }
   ],
   "source": [
    "print(False)\n",
    "print(True)\n",
    "print(type(False))"
   ]
  },
  {
   "cell_type": "code",
   "execution_count": 16,
   "id": "8c4f7134",
   "metadata": {},
   "outputs": [
    {
     "name": "stdout",
     "output_type": "stream",
     "text": [
      "2\n",
      "True\n"
     ]
    }
   ],
   "source": [
    "print(True + True)\n",
    "print(True | True)"
   ]
  },
  {
   "cell_type": "code",
   "execution_count": 22,
   "id": "a45ba373",
   "metadata": {},
   "outputs": [
    {
     "name": "stdout",
     "output_type": "stream",
     "text": [
      "Hola Mundo!\n",
      "Hola Hola \n"
     ]
    }
   ],
   "source": [
    "print('Hola ' + 'Mundo!')\n",
    "print('Hola ' * 2)"
   ]
  },
  {
   "cell_type": "code",
   "execution_count": 23,
   "id": "bcac80b6",
   "metadata": {},
   "outputs": [],
   "source": [
    "# Operaciones lógicas"
   ]
  },
  {
   "cell_type": "code",
   "execution_count": 24,
   "id": "c92a2050",
   "metadata": {},
   "outputs": [
    {
     "name": "stdout",
     "output_type": "stream",
     "text": [
      "True\n"
     ]
    }
   ],
   "source": [
    "print(5 > 3)"
   ]
  },
  {
   "cell_type": "code",
   "execution_count": 25,
   "id": "fd8fbaff",
   "metadata": {},
   "outputs": [
    {
     "name": "stdout",
     "output_type": "stream",
     "text": [
      "False\n"
     ]
    }
   ],
   "source": [
    "print(5 < 3)"
   ]
  },
  {
   "cell_type": "code",
   "execution_count": 26,
   "id": "196990fa",
   "metadata": {},
   "outputs": [
    {
     "name": "stdout",
     "output_type": "stream",
     "text": [
      "False\n"
     ]
    }
   ],
   "source": [
    "print(5 == 3)"
   ]
  },
  {
   "cell_type": "code",
   "execution_count": 30,
   "id": "4bcad1c5",
   "metadata": {},
   "outputs": [
    {
     "name": "stdout",
     "output_type": "stream",
     "text": [
      "True\n"
     ]
    }
   ],
   "source": [
    "print(5 != 3)"
   ]
  },
  {
   "cell_type": "code",
   "execution_count": 27,
   "id": "bbfbc9b4",
   "metadata": {},
   "outputs": [
    {
     "name": "stdout",
     "output_type": "stream",
     "text": [
      "True\n"
     ]
    }
   ],
   "source": [
    "# Operaciones binarias\n",
    "# O (Or)\n",
    "print(5 > 3 or 5 < 3)"
   ]
  },
  {
   "cell_type": "code",
   "execution_count": 28,
   "id": "841fdcf6",
   "metadata": {},
   "outputs": [
    {
     "name": "stdout",
     "output_type": "stream",
     "text": [
      "False\n"
     ]
    }
   ],
   "source": [
    "# Y (and)\n",
    "print(5 > 3 and 5 < 3)"
   ]
  },
  {
   "cell_type": "code",
   "execution_count": 29,
   "id": "4ecf2553",
   "metadata": {},
   "outputs": [
    {
     "name": "stdout",
     "output_type": "stream",
     "text": [
      "False\n"
     ]
    }
   ],
   "source": [
    "# No (not)\n",
    "print(not 5 > 3)"
   ]
  },
  {
   "cell_type": "code",
   "execution_count": 32,
   "id": "32d5327e",
   "metadata": {},
   "outputs": [
    {
     "name": "stdout",
     "output_type": "stream",
     "text": [
      "False\n",
      "False\n"
     ]
    }
   ],
   "source": [
    "print('Hola' > 'Mundo')\n",
    "print('Hola' == 'Mundo')"
   ]
  },
  {
   "cell_type": "code",
   "execution_count": 33,
   "id": "9fe59a9d",
   "metadata": {},
   "outputs": [],
   "source": [
    "# Almacenar variables"
   ]
  },
  {
   "cell_type": "code",
   "execution_count": 34,
   "id": "5ecaa2be",
   "metadata": {},
   "outputs": [],
   "source": [
    "saludo = 'Hola para todos y todas.'"
   ]
  },
  {
   "cell_type": "code",
   "execution_count": 37,
   "id": "b9299147",
   "metadata": {},
   "outputs": [
    {
     "name": "stdout",
     "output_type": "stream",
     "text": [
      "Hola para todos y todas.\n"
     ]
    }
   ],
   "source": [
    "print(saludo)"
   ]
  },
  {
   "cell_type": "code",
   "execution_count": 38,
   "id": "73e3d836",
   "metadata": {},
   "outputs": [],
   "source": [
    "a = 5"
   ]
  },
  {
   "cell_type": "code",
   "execution_count": 39,
   "id": "bfcf080e",
   "metadata": {},
   "outputs": [
    {
     "name": "stdout",
     "output_type": "stream",
     "text": [
      "25\n"
     ]
    }
   ],
   "source": [
    "print(a*a)"
   ]
  },
  {
   "cell_type": "code",
   "execution_count": 40,
   "id": "2827940b",
   "metadata": {},
   "outputs": [],
   "source": [
    "a = 4"
   ]
  },
  {
   "cell_type": "code",
   "execution_count": 41,
   "id": "26635ac8",
   "metadata": {},
   "outputs": [
    {
     "name": "stdout",
     "output_type": "stream",
     "text": [
      "16\n"
     ]
    }
   ],
   "source": [
    "print(a*a)"
   ]
  },
  {
   "cell_type": "code",
   "execution_count": 58,
   "id": "90d64dca",
   "metadata": {},
   "outputs": [
    {
     "name": "stdout",
     "output_type": "stream",
     "text": [
      "[0, 1, 2, 3, 4, 5, 6, 7, 8, 9]\n"
     ]
    }
   ],
   "source": [
    "print(list(range(10)))"
   ]
  },
  {
   "cell_type": "code",
   "execution_count": 45,
   "id": "b847d96e",
   "metadata": {},
   "outputs": [],
   "source": [
    "# Listas\n",
    "lista = [1, 3, 5, 7, 9, 'Sebastián', a, saludo]"
   ]
  },
  {
   "cell_type": "code",
   "execution_count": 46,
   "id": "a4dbddc8",
   "metadata": {},
   "outputs": [
    {
     "name": "stdout",
     "output_type": "stream",
     "text": [
      "[1, 3, 5, 7, 9, 'Sebastián', 4, 'Hola para todos y todas.']\n"
     ]
    }
   ],
   "source": [
    "print(lista)"
   ]
  },
  {
   "cell_type": "code",
   "execution_count": 60,
   "id": "dfbf5618",
   "metadata": {},
   "outputs": [
    {
     "name": "stdout",
     "output_type": "stream",
     "text": [
      "Sebastián\n"
     ]
    }
   ],
   "source": [
    "print(lista[5])"
   ]
  },
  {
   "cell_type": "code",
   "execution_count": 65,
   "id": "abc96395",
   "metadata": {},
   "outputs": [
    {
     "name": "stdout",
     "output_type": "stream",
     "text": [
      "[5, 'Sebastián']\n"
     ]
    }
   ],
   "source": [
    "print([lista[2], lista[5]])"
   ]
  },
  {
   "cell_type": "code",
   "execution_count": 66,
   "id": "373b08b9",
   "metadata": {},
   "outputs": [
    {
     "name": "stdout",
     "output_type": "stream",
     "text": [
      "[1, 3, 5, 7, 9, 'Sebastián', 4, 'Hola para todos y todas.', 1, 3, 5, 7, 9, 'Sebastián', 4, 'Hola para todos y todas.']\n"
     ]
    }
   ],
   "source": [
    "print(lista + lista)"
   ]
  },
  {
   "cell_type": "code",
   "execution_count": 67,
   "id": "e6e56ddd",
   "metadata": {},
   "outputs": [
    {
     "name": "stdout",
     "output_type": "stream",
     "text": [
      "[1, 3, 5, 7, 9, 'Sebastián', 4, 'Hola para todos y todas.', 1, 3, 5, 7, 9, 'Sebastián', 4, 'Hola para todos y todas.']\n"
     ]
    }
   ],
   "source": [
    "print(lista * 2)"
   ]
  },
  {
   "cell_type": "code",
   "execution_count": 68,
   "id": "fd7c22ff",
   "metadata": {},
   "outputs": [],
   "source": [
    "lista2 = [2,3,4,5]"
   ]
  },
  {
   "cell_type": "code",
   "execution_count": 69,
   "id": "79e1ccbe",
   "metadata": {},
   "outputs": [
    {
     "name": "stdout",
     "output_type": "stream",
     "text": [
      "[2, 3, 4, 5, 2, 3, 4, 5]\n"
     ]
    }
   ],
   "source": [
    "print(lista2 * 2)"
   ]
  },
  {
   "cell_type": "code",
   "execution_count": 70,
   "id": "3c3ea594",
   "metadata": {},
   "outputs": [
    {
     "ename": "TypeError",
     "evalue": "can't multiply sequence by non-int of type 'list'",
     "output_type": "error",
     "traceback": [
      "\u001b[1;31m---------------------------------------------------------------------------\u001b[0m",
      "\u001b[1;31mTypeError\u001b[0m                                 Traceback (most recent call last)",
      "Cell \u001b[1;32mIn[70], line 1\u001b[0m\n\u001b[1;32m----> 1\u001b[0m \u001b[38;5;28mprint\u001b[39m(\u001b[43mlista\u001b[49m\u001b[43m \u001b[49m\u001b[38;5;241;43m*\u001b[39;49m\u001b[43m \u001b[49m\u001b[43mlista\u001b[49m)\n",
      "\u001b[1;31mTypeError\u001b[0m: can't multiply sequence by non-int of type 'list'"
     ]
    }
   ],
   "source": [
    "print(lista * lista)"
   ]
  },
  {
   "cell_type": "code",
   "execution_count": 72,
   "id": "842a06b7",
   "metadata": {},
   "outputs": [
    {
     "data": {
      "text/plain": [
       "False"
      ]
     },
     "execution_count": 72,
     "metadata": {},
     "output_type": "execute_result"
    }
   ],
   "source": [
    "lista == lista2"
   ]
  },
  {
   "cell_type": "code",
   "execution_count": 73,
   "id": "c17c54c1",
   "metadata": {
    "scrolled": true
   },
   "outputs": [
    {
     "data": {
      "text/plain": [
       "True"
      ]
     },
     "execution_count": 73,
     "metadata": {},
     "output_type": "execute_result"
    }
   ],
   "source": [
    "lista != lista2"
   ]
  },
  {
   "cell_type": "code",
   "execution_count": 74,
   "id": "c8d06ddd",
   "metadata": {},
   "outputs": [
    {
     "data": {
      "text/plain": [
       "False"
      ]
     },
     "execution_count": 74,
     "metadata": {},
     "output_type": "execute_result"
    }
   ],
   "source": [
    "lista >= lista2"
   ]
  },
  {
   "cell_type": "code",
   "execution_count": 75,
   "id": "e76d1109",
   "metadata": {},
   "outputs": [
    {
     "name": "stdout",
     "output_type": "stream",
     "text": [
      "[1, 3, 5, 7, 9, 'Sebastián', 4, 'Hola para todos y todas.', 2, 3, 4, 5]\n"
     ]
    }
   ],
   "source": [
    "print(lista + lista2)"
   ]
  },
  {
   "cell_type": "code",
   "execution_count": 80,
   "id": "4ade8c9a",
   "metadata": {},
   "outputs": [],
   "source": [
    "lista3 = [2, 3]"
   ]
  },
  {
   "cell_type": "code",
   "execution_count": 81,
   "id": "ec47f46c",
   "metadata": {},
   "outputs": [
    {
     "data": {
      "text/plain": [
       "True"
      ]
     },
     "execution_count": 81,
     "metadata": {},
     "output_type": "execute_result"
    }
   ],
   "source": [
    "lista3 < lista2"
   ]
  },
  {
   "cell_type": "code",
   "execution_count": 83,
   "id": "61f1ddb3",
   "metadata": {},
   "outputs": [
    {
     "name": "stdout",
     "output_type": "stream",
     "text": [
      "8\n"
     ]
    }
   ],
   "source": [
    "print(len(lista))"
   ]
  },
  {
   "cell_type": "code",
   "execution_count": 88,
   "id": "3aa2666a",
   "metadata": {},
   "outputs": [],
   "source": [
    "diccionario = {'a' : False, 'b' : lista2, 'c' : 4*5}"
   ]
  },
  {
   "cell_type": "code",
   "execution_count": 89,
   "id": "8ad24322",
   "metadata": {},
   "outputs": [
    {
     "name": "stdout",
     "output_type": "stream",
     "text": [
      "{'a': False, 'b': [2, 3, 4, 5], 'c': 20}\n"
     ]
    }
   ],
   "source": [
    "print(diccionario)"
   ]
  },
  {
   "cell_type": "code",
   "execution_count": 90,
   "id": "a8e3c18c",
   "metadata": {},
   "outputs": [
    {
     "name": "stdout",
     "output_type": "stream",
     "text": [
      "False\n"
     ]
    }
   ],
   "source": [
    "print(diccionario['a'])"
   ]
  },
  {
   "cell_type": "code",
   "execution_count": null,
   "id": "65d5eed6",
   "metadata": {},
   "outputs": [],
   "source": []
  }
 ],
 "metadata": {
  "kernelspec": {
   "display_name": "Python 3 (ipykernel)",
   "language": "python",
   "name": "python3"
  },
  "language_info": {
   "codemirror_mode": {
    "name": "ipython",
    "version": 3
   },
   "file_extension": ".py",
   "mimetype": "text/x-python",
   "name": "python",
   "nbconvert_exporter": "python",
   "pygments_lexer": "ipython3",
   "version": "3.9.13"
  }
 },
 "nbformat": 4,
 "nbformat_minor": 5
}
