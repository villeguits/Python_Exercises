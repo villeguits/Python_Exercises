{
 "cells": [
  {
   "cell_type": "markdown",
   "id": "46cbea2c",
   "metadata": {},
   "source": [
    "# Programación para analítica de datos\n",
    "##### Diego Villamizar: diego.villamizarr@usa.edu.co\n",
    "1. ## Contenido\n",
    "    1. ### Técnico   \n",
    "        <p>Nuestra herramienta básica será <b>Python3</b></p>\n",
    "            \n",
    "        * [Jupyter Notebook](https://jupyter.org) : Nuestro framework de trabajo. Será nuestro cuaderno.\n",
    "        *  Librearías externas:\n",
    "            1. Las usuales: Collections, random, etc..\n",
    "            2. [Numpy](https://numpy.org) : Procesamiento rápido de arreglos, funciones de álgebra lineal. Lo usaremos para computar y optimizar nuestro cómputo.\n",
    "            3. [Pandas](https://pandas.pydata.org) : Estructuras de datos robuestas para manejo de tablas. i.e., el Excel de Python.\n",
    "            4. [MatPlotLib](https://matplotlib.org) : Visualizar gráficamente la información.\n",
    "    2. ### Teórico\n",
    "        1. #### Minar datos:\n",
    "            <p>El proceso de recompilado de datos.</p>\n",
    "                  \n",
    "                  * Bases de datos en Python (csv,SQL)\n",
    "                  * Representación de los datos.\n",
    "                  * Scrapping?? Sacar, de forma automatizada, info. de páginas web\n",
    "                  * Sebastián propone API's? Por ejemplo sacar info de redes sociales.\n",
    "                \n",
    "        2. #### Preprocesamiento:\n",
    "            <p>Acá vamos a usar todo el poder de las librerías externas.</p>\n",
    "            \n",
    "            \n",
    "                    1. Formateo\n",
    "                    2. Limpieza\n",
    "                    3. Transformación\n",
    "                    4. Filtrado\n",
    "        3. #### Representación de la Info:\n",
    "                    \n",
    "                    1. Datos relevantes.\n",
    "                    2. Visualización.\n",
    "                    3. Medidas estadísticas.\n",
    "            \n",
    "        4. #### Analítica: \n",
    "            <p>Ojalá podamos tener un par de sesiones un poco más formales. Saber cómo y porqué funcionan los algoritmos usuales.</p>\n",
    "        \n",
    "                    1. Algoritmos de clasificación:\n",
    "                        * Árboles de decisión.\n",
    "                        * Clasificación Bayesiana.\n",
    "2. ## Calificación\n",
    "    <p>La calificación se divide en dos componentes:</p>\n",
    "    \n",
    "    1. Tareas semanales:  60% \n",
    "        \n",
    "        <p>Todas las semanas se dejarán unos ejercicios con los temas vistos, usted deberá descargar de la página el archivo correspondiente a la tarea, llenarlo y devolverlo los Domingos.</p>\n",
    "    2. Proyecto final: 40%\n",
    "        * 10%: Anteproyecto\n",
    "        * 10%: Avances/Control de progreso\n",
    "        * 20%: Presentación final.\n",
    "3. ## Bibliografía\n",
    "    1. **Python for Data Analytics**, Wes McKinney. O'Reilly.\n",
    "    2. **Python Data Analytics**, Fabio Nelli. Apress.\n",
    "    3. **Machine Learning**, Tom Mitchell. McGraw-Hill Education."
   ]
  },
  {
   "cell_type": "markdown",
   "id": "760c193f",
   "metadata": {},
   "source": [
    "# Instalación\n",
    "<p>Hay dos formas <i>recomendables</i> de instalar nuestra herramienta básica. Las dos son por gestores de paquetes y nos permiten tener todo nuestro framework listo para trabajar.</p>\n",
    "1. Team Conda:\n",
    "        <p>Este es el que está instalado ya en los computadores de la universidad. Tiene la ventaja que lo que necesitamos ya viene instalado.<br> Para instalarlo en nuestro computador sólo tenemos que ir a la página web de Anaconda \n",
    "        <a href=\"https://www.anaconda.com/download\">link</a>, descargarlo y un par de siguientes, siguientes finalizar, tendremos Anaconda en nuestro computador.</p><br>\n",
    "2. Team Pip:\n",
    "    <p>Pip es otro gestor de paquetes de Python, permite descargar muchísimas librerías. Cuando se descarga Python3, Pip viene por defecto en la instalación. La siguiente lista de comandos (en la terminal)  instalan las librerías que necesitamos.</p>\n",
    "    \n",
    "    \n",
    "    1. pip3 install --upgrade pip\n",
    "    2. pip3 install jupyter\n",
    "    3. pip3 install numpy\n",
    "    4. pip3 install pandas\n",
    "    5. pip3 install matplotlib\n",
    "    \n",
    "    \n",
    "Para correr Jupyter, se usa el comando <code>jupyter notebook</code>.\n",
    "   "
   ]
  },
  {
   "cell_type": "markdown",
   "id": "7874d53d",
   "metadata": {},
   "source": [
    "# Abrir Jupyter desde Anaconda\n",
    "Cuando buscan la aplicación de Anaconda y la abran, aparecerá una pantalla parecida a esta:\n",
    "        <img src =\"./Anaconda.png\"></img>\n",
    "Se abrirá una ventana en su navegador que se ve así:\n",
    "        <img src =\"./Jupyter.png\"></img>\n",
    "Es un gestor de archivos y carpetas. Vaya a la carpeta donde quiere trabajar. Por ejemplo, yo trabajo en la que dice \"DataAnalytics\". Allá, para crear un nuevo cuaderno, le da click a new, y selecciona \"Python 3\".<br><br>\n",
    "En la parte superior puede cambiar el nombre a como quiera que se llame el archivo, el formato de los notebook es ipynb.<br><br>\n",
    "Esos textbox que hay en el cuaderno se llaman células y vamos a trabajar de dos tipos:\n",
    "1. Células Markdown\n",
    "2. Células Código"
   ]
  },
  {
   "cell_type": "code",
   "execution_count": 1,
   "id": "479cc9e7",
   "metadata": {},
   "outputs": [
    {
     "name": "stdout",
     "output_type": "stream",
     "text": [
      "Bienvenidos\n"
     ]
    }
   ],
   "source": [
    "print(\"Bienvenidos\")"
   ]
  },
  {
   "cell_type": "markdown",
   "id": "54ddee2c",
   "metadata": {},
   "source": [
    "# Clase 1\n",
    "### diego villamizar\n",
    "hola\n",
    "<p>Estamos viendo cómo formatear la tarea.<br>  \n",
    "    hola.\n",
    "</p>\n",
    "<p>Terminamos.</p>\n",
    "\n",
    "1. Copiar código:\n",
    "```python\n",
    "def fib(n):\n",
    "    if n<2:\n",
    "        return n\n",
    "    return fib(n-1)+fib(n-2)\n",
    "```\n",
    "\n",
    "2. LaTex: $e^{i\\pi}+1=0$\n",
    "\n",
    "6. Hacer tablas:\n",
    "    \n",
    "    |Estudiante|Nota 1|Nota 2|\n",
    "    |-|-|-|\n",
    "    |Diego|3.0|4.0|\n",
    "    |Diego|3.0|4.0|\n",
    "\n",
    "8. Importar imágenes:\n",
    "\n",
    "    1. Images locales:\n",
    "    \n",
    "          <img src=\"./pruebaImagen.jpeg\"></img>\n",
    "    2. Imagenes web:\n",
    "        <img src=\"https://tauconsultant.com/wp-content/uploads/2020/10/Banner-BLOG-Analitica-de-datos-scaled.jpg\"></img>\n",
    "\n",
    "9. Links [Referencia](https://docs.jupyter.org/en/latest/)\n",
    "            \n"
   ]
  },
  {
   "cell_type": "code",
   "execution_count": 3,
   "id": "5ccda05e",
   "metadata": {},
   "outputs": [
    {
     "name": "stdout",
     "output_type": "stream",
     "text": [
      " El volumen de la unidad C no tiene etiqueta.\n",
      " El número de serie del volumen es: 20FC-0018\n",
      "\n",
      " Directorio de C:\\Users\\brown\\Desktop\n",
      "\n",
      "04/07/2023  20:03    <DIR>          .\n",
      "04/07/2023  20:03    <DIR>          ..\n",
      "04/07/2023  19:37    <DIR>          .ipynb_checkpoints\n",
      "01/12/2021  14:36             1,061 Behaviorsearch 6.2.1.lnk\n",
      "04/07/2023  20:01             1,663 Clase4Julio.ipynb\n",
      "01/12/2021  14:39             1,094 Eclipse IDE for Java Developers - 2021-09.lnk\n",
      "01/12/2021  14:32               949 GAMS Studio.lnk\n",
      "01/12/2021  14:36             1,054 HubNet Client 6.2.1.lnk\n",
      "12/12/2022  08:25             2,360 Microsoft Teams.lnk\n",
      "01/12/2021  14:32             1,089 MuseScore 3.lnk\n",
      "01/12/2021  14:36             1,033 NetLogo 3D 6.2.1.lnk\n",
      "01/12/2021  14:36             1,010 NetLogo 6.2.1.lnk\n",
      "23/05/2023  19:09             2,269 pre-saber.lnk\n",
      "04/07/2023  20:03            68,354 pruebaImagen.jpeg\n",
      "01/12/2021  14:33             1,034 Tosmana - Acceso directo.lnk\n",
      "              12 archivos         82,970 bytes\n",
      "               3 dirs  10,949,967,872 bytes libres\n"
     ]
    }
   ],
   "source": [
    "!dir"
   ]
  },
  {
   "cell_type": "code",
   "execution_count": 4,
   "id": "629b853b",
   "metadata": {},
   "outputs": [],
   "source": [
    "import random"
   ]
  },
  {
   "cell_type": "code",
   "execution_count": 5,
   "id": "71a90db2",
   "metadata": {},
   "outputs": [],
   "source": [
    "from random import uniform"
   ]
  },
  {
   "cell_type": "code",
   "execution_count": 7,
   "id": "2244dd93",
   "metadata": {
    "scrolled": true
   },
   "outputs": [
    {
     "name": "stdout",
     "output_type": "stream",
     "text": [
      "3.1376458697652456\n"
     ]
    }
   ],
   "source": [
    "#uniform tiene dos parametros, a y b:decimals.\n",
    "a = uniform(0.0,5.0)\n",
    "print(a)"
   ]
  },
  {
   "cell_type": "markdown",
   "id": "608e44cc",
   "metadata": {},
   "source": [
    "## Ejercicio 1\n",
    "Genere el comando Markdown de una tabla que contenga los estudiantes de la clase y 3 notas aleatorias para cada estudiante. Las notas deben ser sampleadas de una distribución uniforme entre 0.0 y 5.0. Use la librería random para eso."
   ]
  },
  {
   "cell_type": "code",
   "execution_count": 13,
   "id": "af01a819",
   "metadata": {},
   "outputs": [
    {
     "name": "stdout",
     "output_type": "stream",
     "text": [
      "Estudiantes|Nota 1|Nota 2|Nota 3\n",
      "-|-|-|-\n",
      "Sebastián|1.89|2.16|0.88\n",
      "Hernán|1.8|1.37|3.26\n",
      "Mauricio|3.8|4.57|0.17\n",
      "Yessica|2.12|1.73|4.52\n",
      "Sergio|1.03|1.48|1.73\n",
      "Andres|1.57|0.31|2.06\n",
      "Danny|0.81|1.39|1.7\n",
      "Eli|2.55|3.42|2.5\n"
     ]
    }
   ],
   "source": [
    "print(\"Estudiantes|Nota 1|Nota 2|Nota 3\")\n",
    "print(\"-|-|-|-\")\n",
    "lista = [\"Sebastián\",\"Hernán\",\"Mauricio\",\"Yessica\",\"Sergio\",\"Andres\",\"Danny\",\"Eli\"]#para separar elementos en la lista, poner comas\n",
    "#Cómo itero sobre una lista\n",
    "for stu in lista:\n",
    "    notas = [str(round(uniform(0.0,5.0),2)) for i in range(3)] #range en python genera \n",
    "    fila = [stu]+ notas\n",
    "    print(\"|\".join(fila)) #join: recibe un arreglo, y lo separa por un token"
   ]
  },
  {
   "cell_type": "markdown",
   "id": "179cfee4",
   "metadata": {},
   "source": [
    "Estudiantes|Nota 1|Nota 2|Nota 3\n",
    "-|-|-|-\n",
    "Sebastián|1.89|2.16|0.88\n",
    "Hernán|1.8|1.37|3.26\n",
    "Mauricio|3.8|4.57|0.17\n",
    "Yessica|2.12|1.73|4.52\n",
    "Sergio|1.03|1.48|1.73\n",
    "Andres|1.57|0.31|2.06\n",
    "Danny|0.81|1.39|1.7\n",
    "Eli|2.55|3.42|2.5"
   ]
  },
  {
   "cell_type": "code",
   "execution_count": null,
   "id": "91747926",
   "metadata": {},
   "outputs": [],
   "source": []
  }
 ],
 "metadata": {
  "kernelspec": {
   "display_name": "Python 3 (ipykernel)",
   "language": "python",
   "name": "python3"
  },
  "language_info": {
   "codemirror_mode": {
    "name": "ipython",
    "version": 3
   },
   "file_extension": ".py",
   "mimetype": "text/x-python",
   "name": "python",
   "nbconvert_exporter": "python",
   "pygments_lexer": "ipython3",
   "version": "3.9.13"
  }
 },
 "nbformat": 4,
 "nbformat_minor": 5
}
